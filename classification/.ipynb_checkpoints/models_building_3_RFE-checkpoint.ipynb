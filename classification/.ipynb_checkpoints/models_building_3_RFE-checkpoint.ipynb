{
 "cells": [
  {
   "cell_type": "markdown",
   "id": "83a83341",
   "metadata": {},
   "source": [
    "# Build mutliclass classification models where some use RFE selected features"
   ]
  },
  {
   "cell_type": "code",
   "execution_count": 34,
   "id": "d435b1bb",
   "metadata": {},
   "outputs": [],
   "source": [
    "import numpy as np\n",
    "import pandas as pd\n",
    "import matplotlib.pyplot as plt\n",
    "import seaborn as sns\n",
    "from scipy.stats import poisson\n",
    "from sklearn.svm import SVC \n",
    "from sklearn.metrics import accuracy_score, classification_report\n",
    "from numpy import mean\n",
    "from numpy import std\n",
    "from sklearn.datasets import make_classification\n",
    "from sklearn.model_selection import cross_val_score\n",
    "from sklearn.model_selection import RepeatedStratifiedKFold\n",
    "from sklearn.ensemble import RandomForestClassifier\n",
    "from sklearn.linear_model import LogisticRegression\n",
    "from sklearn.ensemble import RandomForestClassifier\n",
    "from sklearn.model_selection import StratifiedKFold\n",
    "import xgboost as xgb\n",
    "xgb.set_config(verbosity=0)\n",
    "from sklearn.feature_selection import RFECV\n",
    "import random\n",
    "from sklearn.metrics import matthews_corrcoef\n",
    "from sklearn.metrics import balanced_accuracy_score\n",
    "from sklearn import metrics\n",
    "from sklearn.metrics import roc_curve, auc\n",
    "from sklearn.preprocessing import label_binarize\n",
    "from sklearn import svm, datasets\n",
    "from itertools import cycle\n",
    "from sklearn.model_selection import train_test_split \n",
    "from sklearn.metrics import log_loss"
   ]
  },
  {
   "cell_type": "code",
   "execution_count": 35,
   "id": "29a92679",
   "metadata": {},
   "outputs": [],
   "source": [
    "# Drop first column of dataframe\n",
    "def drop_first_col(df):\n",
    "    return df.iloc[: , 1:]\n",
    "\n",
    "X_train_20 = pd.read_csv(\"dataset\\X_train_3_20.csv\")\n",
    "X_test_20 = pd.read_csv(\"dataset\\X_test_3_20.csv\")\n",
    "y_train_20 = pd.read_csv(\"dataset\\y_train_3_20.csv\")\n",
    "y_test_20 = pd.read_csv(\"dataset\\y_test_3_20.csv\")\n",
    "\n",
    "X_train_40 = pd.read_csv(\"dataset\\X_train_3_40.csv\")\n",
    "X_test_40 = pd.read_csv(\"dataset\\X_test_3_40.csv\")\n",
    "y_train_40 = pd.read_csv(\"dataset\\y_train_3_40.csv\")\n",
    "y_test_40 = pd.read_csv(\"dataset\\y_test_3_40.csv\")\n",
    "\n",
    "X_train_20 = drop_first_col(X_train_20)\n",
    "X_test_20 = drop_first_col(X_test_20)\n",
    "y_train_20 = drop_first_col(y_train_20)\n",
    "y_test_20 = drop_first_col(y_test_20)\n",
    "\n",
    "X_train_40 = drop_first_col(X_train_40)\n",
    "X_test_40 = drop_first_col(X_test_40)\n",
    "y_train_40 = drop_first_col(y_train_40)\n",
    "y_test_40 = drop_first_col(y_test_40)"
   ]
  },
  {
   "cell_type": "markdown",
   "id": "888c6482",
   "metadata": {},
   "source": [
    "## Test on single simple models"
   ]
  },
  {
   "cell_type": "markdown",
   "id": "a0c80bba",
   "metadata": {},
   "source": [
    "### Single XGB Classifier (with no hyperparameters selection)"
   ]
  },
  {
   "cell_type": "code",
   "execution_count": 14,
   "id": "cc922337",
   "metadata": {},
   "outputs": [],
   "source": [
    "def XGB_class(X_train, X_test, y_train, y_test,learning_rate, n_estimators, max_depth,min_child_weight, gamma, subsample, colsample_bytree, simple):\n",
    "    \n",
    "    if simple:\n",
    "        clf = xgb.XGBClassifier(seed = 24, use_label_encoder =False,objective='multi:softproba')\n",
    "    else:\n",
    "        clf = xgb.XGBClassifier(learning_rate = learning_rate, n_estimators = int(n_estimators), max_depth = int(max_depth), \n",
    "                                min_child_weight = min_child_weight, gamma = gamma, subsample = subsample, \n",
    "                                colsample_bytree = colsample_bytree, seed = 24,eval_metric='mlogloss',use_label_encoder =False,objective='multi:softproba')\n",
    "\n",
    "    clf.fit(X_train, y_train)\n",
    "    y_predicted = clf.predict(X_test)\n",
    "\n",
    "    print(classification_report(y_test, y_predicted))\n",
    "    print(\"Accuracy:\", accuracy_score(y_test, y_predicted))\n",
    "    print(\"MCC =\",matthews_corrcoef(y_test, y_predicted))\n",
    "    \n",
    "    y_test = label_binarize(y_test, classes=np.arange(3))\n",
    "    y_predicted = label_binarize(y_predicted, classes=np.arange(3))\n",
    "    fpr = dict()\n",
    "    tpr = dict()\n",
    "    roc_auc = dict()\n",
    "    for i in range(3):\n",
    "        fpr[i], tpr[i], _ = roc_curve(y_test[:, i], y_predicted[:, i])\n",
    "        roc_auc[i] = auc(fpr[i], tpr[i])\n",
    "    print(\"AUC =\",roc_auc)\n",
    "    \n",
    "    return clf.predict_proba(X_test)"
   ]
  },
  {
   "cell_type": "code",
   "execution_count": 78,
   "id": "9c01f28d",
   "metadata": {},
   "outputs": [
    {
     "name": "stdout",
     "output_type": "stream",
     "text": [
      "              precision    recall  f1-score   support\n",
      "\n",
      "           0       0.45      0.56      0.50         9\n",
      "           1       0.70      0.70      0.70        10\n",
      "           2       0.50      0.38      0.43         8\n",
      "\n",
      "    accuracy                           0.56        27\n",
      "   macro avg       0.55      0.54      0.54        27\n",
      "weighted avg       0.56      0.56      0.55        27\n",
      "\n",
      "Accuracy: 0.5555555555555556\n",
      "MCC = 0.3305699764271252\n",
      "AUC = {0: 0.6111111111111112, 1: 0.7617647058823529, 2: 0.6085526315789473}\n",
      "              precision    recall  f1-score   support\n",
      "\n",
      "           0       0.29      0.32      0.30        19\n",
      "           1       0.42      0.55      0.48        20\n",
      "           2       0.43      0.20      0.27        15\n",
      "\n",
      "    accuracy                           0.37        54\n",
      "   macro avg       0.38      0.36      0.35        54\n",
      "weighted avg       0.38      0.37      0.36        54\n",
      "\n",
      "Accuracy: 0.37037037037037035\n",
      "MCC = 0.03047125546029282\n",
      "AUC = {0: 0.44360902255639095, 1: 0.5544117647058824, 2: 0.5487179487179487}\n"
     ]
    }
   ],
   "source": [
    "sXGBc_y_predicted_20 = XGB_class(X_train_20,X_test_20,y_train_20,y_test_20,0,0,0,0,0,0,0,simple=True)\n",
    "sXGBc_y_predicted_40 = XGB_class(X_train_40,X_test_40,y_train_40,y_test_40,0,0,0,0,0,0,0,simple=True)"
   ]
  },
  {
   "cell_type": "markdown",
   "id": "5c8885d3",
   "metadata": {},
   "source": [
    "### SVM"
   ]
  },
  {
   "cell_type": "code",
   "execution_count": 91,
   "id": "d2de33db",
   "metadata": {},
   "outputs": [],
   "source": [
    "def sSVMc(X_train,X_test,y_train,y_test):\n",
    "    clf = svm.SVC(kernel='poly',probability=True).fit(X_train, y_train)\n",
    "\n",
    "    preds = clf.predict(X_test)\n",
    "    sSVM_y_predicted = clf.predict_proba(X_test)\n",
    "    \n",
    "    print(classification_report(y_test, preds))\n",
    "    print(\"Accuracy:\", accuracy_score(y_test, preds))\n",
    "    print(\"MCC =\",matthews_corrcoef(y_test, preds))\n",
    "    \n",
    "    y_test = label_binarize(y_test, classes=np.arange(3))\n",
    "    y_predicted = label_binarize(preds, classes=np.arange(3))\n",
    "    fpr = dict()\n",
    "    tpr = dict()\n",
    "    roc_auc = dict()\n",
    "    for i in range(3):\n",
    "        fpr[i], tpr[i], _ = roc_curve(y_test[:, i], y_predicted[:, i])\n",
    "        roc_auc[i] = auc(fpr[i], tpr[i])\n",
    "    print(\"AUC =\",roc_auc)\n",
    "    \n",
    "    return sSVM_y_predicted"
   ]
  },
  {
   "cell_type": "code",
   "execution_count": 92,
   "id": "98c7d574",
   "metadata": {},
   "outputs": [
    {
     "name": "stdout",
     "output_type": "stream",
     "text": [
      "Using 20% as test subset:\n",
      "              precision    recall  f1-score   support\n",
      "\n",
      "           0       0.57      0.44      0.50         9\n",
      "           1       0.71      1.00      0.83        10\n",
      "           2       0.67      0.50      0.57         8\n",
      "\n",
      "    accuracy                           0.67        27\n",
      "   macro avg       0.65      0.65      0.63        27\n",
      "weighted avg       0.65      0.67      0.64        27\n",
      "\n",
      "Accuracy: 0.6666666666666666\n",
      "MCC = 0.5046684724839113\n",
      "AUC = {0: 0.6388888888888888, 1: 0.8823529411764706, 2: 0.6973684210526315}\n",
      "Using 40% as test subset:\n",
      "              precision    recall  f1-score   support\n",
      "\n",
      "           0       0.44      0.42      0.43        19\n",
      "           1       0.64      0.80      0.71        20\n",
      "           2       0.36      0.27      0.31        15\n",
      "\n",
      "    accuracy                           0.52        54\n",
      "   macro avg       0.48      0.50      0.48        54\n",
      "weighted avg       0.49      0.52      0.50        54\n",
      "\n",
      "Accuracy: 0.5185185185185185\n",
      "MCC = 0.26754502228372407\n",
      "AUC = {0: 0.5676691729323309, 1: 0.7676470588235296, 2: 0.5435897435897435}\n"
     ]
    },
    {
     "name": "stderr",
     "output_type": "stream",
     "text": [
      "C:\\Users\\marti\\anaconda3\\lib\\site-packages\\sklearn\\utils\\validation.py:993: DataConversionWarning: A column-vector y was passed when a 1d array was expected. Please change the shape of y to (n_samples, ), for example using ravel().\n",
      "  y = column_or_1d(y, warn=True)\n",
      "C:\\Users\\marti\\anaconda3\\lib\\site-packages\\sklearn\\utils\\validation.py:993: DataConversionWarning: A column-vector y was passed when a 1d array was expected. Please change the shape of y to (n_samples, ), for example using ravel().\n",
      "  y = column_or_1d(y, warn=True)\n"
     ]
    }
   ],
   "source": [
    "print('Using 20% as test subset:')\n",
    "sSVM_y_predicted_20 = sSVMc(X_train_20,X_test_20,y_train_20,y_test_20)\n",
    "print('Using 40% as test subset:')\n",
    "sSVM_y_predicted_40 = sSVMc(X_train_40,X_test_40,y_train_40,y_test_40)"
   ]
  },
  {
   "cell_type": "markdown",
   "id": "6df80d3c",
   "metadata": {},
   "source": [
    "### Single Random Forest classifier"
   ]
  },
  {
   "cell_type": "code",
   "execution_count": 21,
   "id": "ef7c64ae",
   "metadata": {},
   "outputs": [],
   "source": [
    "def sRFC(X_train,X_test,y_train,y_test):\n",
    "    model = RandomForestClassifier().fit(X_train,y_train)\n",
    "    preds = model.predict(X_test)\n",
    "    sRFC_y_predicted = model.predict_proba(X_test)[:,1]\n",
    "    \n",
    "    print(classification_report(y_test, preds))\n",
    "    print(\"Accuracy:\", accuracy_score(y_test, preds))\n",
    "    print(\"MCC =\",matthews_corrcoef(y_test, preds))\n",
    "    \n",
    "    y_test = label_binarize(y_test, classes=np.arange(3))\n",
    "    y_predicted = label_binarize(preds, classes=np.arange(3))\n",
    "    fpr = dict()\n",
    "    tpr = dict()\n",
    "    roc_auc = dict()\n",
    "    for i in range(3):\n",
    "        fpr[i], tpr[i], _ = roc_curve(y_test[:, i], y_predicted[:, i])\n",
    "        roc_auc[i] = auc(fpr[i], tpr[i])\n",
    "    print(\"AUC =\",roc_auc)\n",
    "    \n",
    "    return sRFC_y_predicted"
   ]
  },
  {
   "cell_type": "code",
   "execution_count": 22,
   "id": "a09f5463",
   "metadata": {},
   "outputs": [
    {
     "name": "stdout",
     "output_type": "stream",
     "text": [
      "Using 20% as test subset:\n",
      "              precision    recall  f1-score   support\n",
      "\n",
      "           0       0.43      0.67      0.52         9\n",
      "           1       0.60      0.60      0.60        10\n",
      "           2       0.67      0.25      0.36         8\n",
      "\n",
      "    accuracy                           0.52        27\n",
      "   macro avg       0.57      0.51      0.50        27\n",
      "weighted avg       0.56      0.52      0.50        27\n",
      "\n",
      "Accuracy: 0.5185185185185185\n",
      "MCC = 0.2825558872312041\n",
      "AUC = {0: 0.6111111111111112, 1: 0.6823529411764706, 2: 0.5986842105263158}\n",
      "Using 40% as test subset:\n"
     ]
    },
    {
     "name": "stderr",
     "output_type": "stream",
     "text": [
      "C:\\Users\\marti\\AppData\\Local\\Temp\\ipykernel_14464\\1089713667.py:2: DataConversionWarning: A column-vector y was passed when a 1d array was expected. Please change the shape of y to (n_samples,), for example using ravel().\n",
      "  model = RandomForestClassifier().fit(X_train,y_train)\n",
      "C:\\Users\\marti\\AppData\\Local\\Temp\\ipykernel_14464\\1089713667.py:2: DataConversionWarning: A column-vector y was passed when a 1d array was expected. Please change the shape of y to (n_samples,), for example using ravel().\n",
      "  model = RandomForestClassifier().fit(X_train,y_train)\n"
     ]
    },
    {
     "name": "stdout",
     "output_type": "stream",
     "text": [
      "              precision    recall  f1-score   support\n",
      "\n",
      "           0       0.24      0.21      0.22        19\n",
      "           1       0.45      0.65      0.53        20\n",
      "           2       0.50      0.27      0.35        15\n",
      "\n",
      "    accuracy                           0.39        54\n",
      "   macro avg       0.39      0.38      0.37        54\n",
      "weighted avg       0.39      0.39      0.37        54\n",
      "\n",
      "Accuracy: 0.3888888888888889\n",
      "MCC = 0.06088744506236035\n",
      "AUC = {0: 0.4195488721804511, 1: 0.5897058823529412, 2: 0.582051282051282}\n"
     ]
    }
   ],
   "source": [
    "print('Using 20% as test subset:')\n",
    "sRFC_y_predicted_20 = sRFC(X_train_20,X_test_20,y_train_20,y_test_20)\n",
    "print('Using 40% as test subset:')\n",
    "sRFC_y_predicted420 = sRFC(X_train_40,X_test_40,y_train_40,y_test_40)"
   ]
  },
  {
   "cell_type": "markdown",
   "id": "3f40b2a8",
   "metadata": {},
   "source": [
    "### Logistic Regression"
   ]
  },
  {
   "cell_type": "code",
   "execution_count": 99,
   "id": "7b88a5a0",
   "metadata": {},
   "outputs": [],
   "source": [
    "def sLR(X_train,X_test,y_train,y_test):\n",
    "    model = LogisticRegression(multi_class='multinomial', solver='lbfgs').fit(X_train,y_train)\n",
    "    preds = model.predict(X_test)\n",
    "    sLR_y_predicted = model.predict_proba(X_test)[:,1]\n",
    "    \n",
    "    print(classification_report(y_test, preds))\n",
    "    print(\"Accuracy:\", accuracy_score(y_test, preds))\n",
    "    print(\"MCC =\",matthews_corrcoef(y_test, preds))\n",
    "    \n",
    "    y_test = label_binarize(y_test, classes=np.arange(3))\n",
    "    y_predicted = label_binarize(preds, classes=np.arange(3))\n",
    "    fpr = dict()\n",
    "    tpr = dict()\n",
    "    roc_auc = dict()\n",
    "    for i in range(3):\n",
    "        fpr[i], tpr[i], _ = roc_curve(y_test[:, i], y_predicted[:, i])\n",
    "        roc_auc[i] = auc(fpr[i], tpr[i])\n",
    "    print(\"AUC =\",roc_auc)\n",
    "    \n",
    "    return sLR_y_predicted"
   ]
  },
  {
   "cell_type": "code",
   "execution_count": 100,
   "id": "c49ed00c",
   "metadata": {},
   "outputs": [
    {
     "name": "stdout",
     "output_type": "stream",
     "text": [
      "Using 20% as test subset:\n",
      "              precision    recall  f1-score   support\n",
      "\n",
      "           0       0.57      0.44      0.50         9\n",
      "           1       0.69      0.90      0.78        10\n",
      "           2       0.71      0.62      0.67         8\n",
      "\n",
      "    accuracy                           0.67        27\n",
      "   macro avg       0.66      0.66      0.65        27\n",
      "weighted avg       0.66      0.67      0.65        27\n",
      "\n",
      "Accuracy: 0.6666666666666666\n",
      "MCC = 0.5011926315100854\n",
      "AUC = {0: 0.6388888888888888, 1: 0.8323529411764704, 2: 0.7598684210526316}\n",
      "Using 40% as test subset:\n",
      "              precision    recall  f1-score   support\n",
      "\n",
      "           0       0.53      0.47      0.50        19\n",
      "           1       0.63      0.85      0.72        20\n",
      "           2       0.50      0.33      0.40        15\n",
      "\n",
      "    accuracy                           0.57        54\n",
      "   macro avg       0.55      0.55      0.54        54\n",
      "weighted avg       0.56      0.57      0.55        54\n",
      "\n",
      "Accuracy: 0.5740740740740741\n",
      "MCC = 0.35483623400235725\n",
      "AUC = {0: 0.6225563909774436, 1: 0.7779411764705882, 2: 0.6025641025641025}\n"
     ]
    },
    {
     "name": "stderr",
     "output_type": "stream",
     "text": [
      "C:\\Users\\marti\\anaconda3\\lib\\site-packages\\sklearn\\utils\\validation.py:993: DataConversionWarning: A column-vector y was passed when a 1d array was expected. Please change the shape of y to (n_samples, ), for example using ravel().\n",
      "  y = column_or_1d(y, warn=True)\n",
      "C:\\Users\\marti\\anaconda3\\lib\\site-packages\\sklearn\\linear_model\\_logistic.py:814: ConvergenceWarning: lbfgs failed to converge (status=1):\n",
      "STOP: TOTAL NO. of ITERATIONS REACHED LIMIT.\n",
      "\n",
      "Increase the number of iterations (max_iter) or scale the data as shown in:\n",
      "    https://scikit-learn.org/stable/modules/preprocessing.html\n",
      "Please also refer to the documentation for alternative solver options:\n",
      "    https://scikit-learn.org/stable/modules/linear_model.html#logistic-regression\n",
      "  n_iter_i = _check_optimize_result(\n",
      "C:\\Users\\marti\\anaconda3\\lib\\site-packages\\sklearn\\utils\\validation.py:993: DataConversionWarning: A column-vector y was passed when a 1d array was expected. Please change the shape of y to (n_samples, ), for example using ravel().\n",
      "  y = column_or_1d(y, warn=True)\n",
      "C:\\Users\\marti\\anaconda3\\lib\\site-packages\\sklearn\\linear_model\\_logistic.py:814: ConvergenceWarning: lbfgs failed to converge (status=1):\n",
      "STOP: TOTAL NO. of ITERATIONS REACHED LIMIT.\n",
      "\n",
      "Increase the number of iterations (max_iter) or scale the data as shown in:\n",
      "    https://scikit-learn.org/stable/modules/preprocessing.html\n",
      "Please also refer to the documentation for alternative solver options:\n",
      "    https://scikit-learn.org/stable/modules/linear_model.html#logistic-regression\n",
      "  n_iter_i = _check_optimize_result(\n"
     ]
    }
   ],
   "source": [
    "print('Using 20% as test subset:')\n",
    "sLR_y_predicted_20 = sLR(X_train_20,X_test_20,y_train_20,y_test_20)\n",
    "print('Using 40% as test subset:')\n",
    "sLR_y_predicted_40 = sLR(X_train_40,X_test_40,y_train_40,y_test_40)"
   ]
  },
  {
   "cell_type": "markdown",
   "id": "e4956197",
   "metadata": {},
   "source": [
    "## Features Selection"
   ]
  },
  {
   "cell_type": "markdown",
   "id": "93d95a1d",
   "metadata": {},
   "source": [
    "### Recursive Feature Elimination (RFE)"
   ]
  },
  {
   "cell_type": "code",
   "execution_count": 101,
   "id": "abc872ef",
   "metadata": {},
   "outputs": [],
   "source": [
    "def rfe_xgb(X_train, y_train,X_test,learning_rate, n_estimators, max_depth,min_child_weight, gamma, subsample, colsample_bytree, simple):\n",
    "    min_features_to_select = 1\n",
    "    \n",
    "    #run RFE on current train subset\n",
    "    if simple:\n",
    "        clf = xgb.XGBClassifier(seed = 24, use_label_encoder =False)\n",
    "    else:\n",
    "        clf = xgb.XGBClassifier(learning_rate = learning_rate, n_estimators = int(n_estimators), max_depth = int(max_depth), \n",
    "                                min_child_weight = min_child_weight, gamma = gamma, subsample = subsample, \n",
    "                                colsample_bytree = colsample_bytree, seed = 24,eval_metric='mlogloss',use_label_encoder =False)\n",
    "    rfecv = RFECV(estimator=clf,min_features_to_select=min_features_to_select,step=3,n_jobs=-1,scoring=\"r2\",cv=5)\n",
    "    rfecv.fit(X_train, y_train)\n",
    "    \n",
    "    #keep selected features + check RFE accuracy scores during running\n",
    "    newX_train = X_train[X_train.columns[rfecv.support_]]\n",
    "    newX_test = X_test[X_test.columns[rfecv.support_]]\n",
    "    print('We kept',newX_train.shape[1],'features out of the',X_train.shape[1])\n",
    "    \n",
    "    return newX_train,newX_test"
   ]
  },
  {
   "cell_type": "markdown",
   "id": "67631c6e",
   "metadata": {},
   "source": [
    "### Test on single XGB classifier using RFE selected features"
   ]
  },
  {
   "cell_type": "code",
   "execution_count": 102,
   "id": "5c5e9b82",
   "metadata": {},
   "outputs": [
    {
     "name": "stdout",
     "output_type": "stream",
     "text": [
      "              precision    recall  f1-score   support\n",
      "\n",
      "           0       0.42      0.56      0.48         9\n",
      "           1       0.43      0.30      0.35        10\n",
      "           2       0.38      0.38      0.38         8\n",
      "\n",
      "    accuracy                           0.41        27\n",
      "   macro avg       0.41      0.41      0.40        27\n",
      "weighted avg       0.41      0.41      0.40        27\n",
      "\n",
      "Accuracy: 0.4074074074074074\n",
      "MCC = 0.11507182723729042\n",
      "AUC = {0: 0.5833333333333334, 1: 0.5323529411764706, 2: 0.555921052631579}\n"
     ]
    }
   ],
   "source": [
    "#test rfe then simple XGB classifier\n",
    "# newX_train,newX_test = rfe_xgb(X_train_20, y_train_20,X_test_20,0,0,0,0,0,0,0,simple=True)\n",
    "RFE_XGB_y_predicted = XGB_class(newX_train,newX_test,y_train_20,y_test_20,0,0,0,0,0,0,0,simple=True)"
   ]
  },
  {
   "cell_type": "markdown",
   "id": "be19de70",
   "metadata": {},
   "source": [
    "### Test on single SVM classifier using RFE selected features"
   ]
  },
  {
   "cell_type": "code",
   "execution_count": 28,
   "id": "323f2c2b",
   "metadata": {},
   "outputs": [],
   "source": [
    "def rfe_SVM(X_train, y_train,X_test):\n",
    "    min_features_to_select = 1\n",
    "\n",
    "    #run RFE on current train subset\n",
    "    clf = SVC(kernel='linear',probability=True) \n",
    "\n",
    "    rfecv = RFECV(estimator=clf,min_features_to_select=min_features_to_select,step=3,n_jobs=-1,scoring=\"r2\",cv=5)\n",
    "    rfecv.fit(X_train, y_train.values.ravel())\n",
    "\n",
    "    #keep selected features + check RFE accuracy scores during running\n",
    "    newX_train = X_train[X_train.columns[rfecv.support_]]\n",
    "    newX_test = X_test[X_test.columns[rfecv.support_]]\n",
    "    print('We kept',newX_train.shape[1],'features out of the',X_train_40.shape[1])\n",
    "\n",
    "    return newX_train,newX_test"
   ]
  },
  {
   "cell_type": "code",
   "execution_count": 65,
   "id": "43e31359",
   "metadata": {
    "scrolled": false
   },
   "outputs": [
    {
     "name": "stderr",
     "output_type": "stream",
     "text": [
      "C:\\Users\\marti\\anaconda3\\lib\\site-packages\\sklearn\\utils\\validation.py:993: DataConversionWarning: A column-vector y was passed when a 1d array was expected. Please change the shape of y to (n_samples, ), for example using ravel().\n",
      "  y = column_or_1d(y, warn=True)\n"
     ]
    },
    {
     "ename": "ValueError",
     "evalue": "Found input variables with inconsistent numbers of samples: [108, 81]",
     "output_type": "error",
     "traceback": [
      "\u001b[1;31m---------------------------------------------------------------------------\u001b[0m",
      "\u001b[1;31mValueError\u001b[0m                                Traceback (most recent call last)",
      "Input \u001b[1;32mIn [65]\u001b[0m, in \u001b[0;36m<cell line: 3>\u001b[1;34m()\u001b[0m\n\u001b[0;32m      1\u001b[0m \u001b[38;5;66;03m#test rfe then SVM classifier\u001b[39;00m\n\u001b[0;32m      2\u001b[0m \u001b[38;5;66;03m# newX_train,newX_test = rfe_SVM(X_train_40, y_train_40,X_test_40)\u001b[39;00m\n\u001b[1;32m----> 3\u001b[0m RFE_SVM_y_predicted \u001b[38;5;241m=\u001b[39m \u001b[43msSVMc\u001b[49m\u001b[43m(\u001b[49m\u001b[43mnewX_train\u001b[49m\u001b[43m,\u001b[49m\u001b[43mnewX_test\u001b[49m\u001b[43m,\u001b[49m\u001b[43my_train_40\u001b[49m\u001b[43m,\u001b[49m\u001b[43my_test_40\u001b[49m\u001b[43m)\u001b[49m\n",
      "Input \u001b[1;32mIn [46]\u001b[0m, in \u001b[0;36msSVMc\u001b[1;34m(X_train, X_test, y_train, y_test)\u001b[0m\n\u001b[0;32m      1\u001b[0m \u001b[38;5;28;01mdef\u001b[39;00m \u001b[38;5;21msSVMc\u001b[39m(X_train,X_test,y_train,y_test):\n\u001b[0;32m      2\u001b[0m     clf \u001b[38;5;241m=\u001b[39m SVC(kernel\u001b[38;5;241m=\u001b[39m\u001b[38;5;124m'\u001b[39m\u001b[38;5;124mlinear\u001b[39m\u001b[38;5;124m'\u001b[39m,probability\u001b[38;5;241m=\u001b[39m\u001b[38;5;28;01mTrue\u001b[39;00m) \n\u001b[1;32m----> 3\u001b[0m     \u001b[43mclf\u001b[49m\u001b[38;5;241;43m.\u001b[39;49m\u001b[43mfit\u001b[49m\u001b[43m(\u001b[49m\u001b[43mX_train\u001b[49m\u001b[43m,\u001b[49m\u001b[43m \u001b[49m\u001b[43my_train\u001b[49m\u001b[43m)\u001b[49m \n\u001b[0;32m      4\u001b[0m     preds \u001b[38;5;241m=\u001b[39m clf\u001b[38;5;241m.\u001b[39mpredict(X_test)\n\u001b[0;32m      5\u001b[0m     sSVM_y_predicted \u001b[38;5;241m=\u001b[39m clf\u001b[38;5;241m.\u001b[39mpredict_proba(X_test)\n",
      "File \u001b[1;32m~\\anaconda3\\lib\\site-packages\\sklearn\\svm\\_base.py:190\u001b[0m, in \u001b[0;36mBaseLibSVM.fit\u001b[1;34m(self, X, y, sample_weight)\u001b[0m\n\u001b[0;32m    188\u001b[0m     check_consistent_length(X, y)\n\u001b[0;32m    189\u001b[0m \u001b[38;5;28;01melse\u001b[39;00m:\n\u001b[1;32m--> 190\u001b[0m     X, y \u001b[38;5;241m=\u001b[39m \u001b[38;5;28;43mself\u001b[39;49m\u001b[38;5;241;43m.\u001b[39;49m\u001b[43m_validate_data\u001b[49m\u001b[43m(\u001b[49m\n\u001b[0;32m    191\u001b[0m \u001b[43m        \u001b[49m\u001b[43mX\u001b[49m\u001b[43m,\u001b[49m\n\u001b[0;32m    192\u001b[0m \u001b[43m        \u001b[49m\u001b[43my\u001b[49m\u001b[43m,\u001b[49m\n\u001b[0;32m    193\u001b[0m \u001b[43m        \u001b[49m\u001b[43mdtype\u001b[49m\u001b[38;5;241;43m=\u001b[39;49m\u001b[43mnp\u001b[49m\u001b[38;5;241;43m.\u001b[39;49m\u001b[43mfloat64\u001b[49m\u001b[43m,\u001b[49m\n\u001b[0;32m    194\u001b[0m \u001b[43m        \u001b[49m\u001b[43morder\u001b[49m\u001b[38;5;241;43m=\u001b[39;49m\u001b[38;5;124;43m\"\u001b[39;49m\u001b[38;5;124;43mC\u001b[39;49m\u001b[38;5;124;43m\"\u001b[39;49m\u001b[43m,\u001b[49m\n\u001b[0;32m    195\u001b[0m \u001b[43m        \u001b[49m\u001b[43maccept_sparse\u001b[49m\u001b[38;5;241;43m=\u001b[39;49m\u001b[38;5;124;43m\"\u001b[39;49m\u001b[38;5;124;43mcsr\u001b[39;49m\u001b[38;5;124;43m\"\u001b[39;49m\u001b[43m,\u001b[49m\n\u001b[0;32m    196\u001b[0m \u001b[43m        \u001b[49m\u001b[43maccept_large_sparse\u001b[49m\u001b[38;5;241;43m=\u001b[39;49m\u001b[38;5;28;43;01mFalse\u001b[39;49;00m\u001b[43m,\u001b[49m\n\u001b[0;32m    197\u001b[0m \u001b[43m    \u001b[49m\u001b[43m)\u001b[49m\n\u001b[0;32m    199\u001b[0m y \u001b[38;5;241m=\u001b[39m \u001b[38;5;28mself\u001b[39m\u001b[38;5;241m.\u001b[39m_validate_targets(y)\n\u001b[0;32m    201\u001b[0m sample_weight \u001b[38;5;241m=\u001b[39m np\u001b[38;5;241m.\u001b[39masarray(\n\u001b[0;32m    202\u001b[0m     [] \u001b[38;5;28;01mif\u001b[39;00m sample_weight \u001b[38;5;129;01mis\u001b[39;00m \u001b[38;5;28;01mNone\u001b[39;00m \u001b[38;5;28;01melse\u001b[39;00m sample_weight, dtype\u001b[38;5;241m=\u001b[39mnp\u001b[38;5;241m.\u001b[39mfloat64\n\u001b[0;32m    203\u001b[0m )\n",
      "File \u001b[1;32m~\\anaconda3\\lib\\site-packages\\sklearn\\base.py:581\u001b[0m, in \u001b[0;36mBaseEstimator._validate_data\u001b[1;34m(self, X, y, reset, validate_separately, **check_params)\u001b[0m\n\u001b[0;32m    579\u001b[0m         y \u001b[38;5;241m=\u001b[39m check_array(y, \u001b[38;5;241m*\u001b[39m\u001b[38;5;241m*\u001b[39mcheck_y_params)\n\u001b[0;32m    580\u001b[0m     \u001b[38;5;28;01melse\u001b[39;00m:\n\u001b[1;32m--> 581\u001b[0m         X, y \u001b[38;5;241m=\u001b[39m check_X_y(X, y, \u001b[38;5;241m*\u001b[39m\u001b[38;5;241m*\u001b[39mcheck_params)\n\u001b[0;32m    582\u001b[0m     out \u001b[38;5;241m=\u001b[39m X, y\n\u001b[0;32m    584\u001b[0m \u001b[38;5;28;01mif\u001b[39;00m \u001b[38;5;129;01mnot\u001b[39;00m no_val_X \u001b[38;5;129;01mand\u001b[39;00m check_params\u001b[38;5;241m.\u001b[39mget(\u001b[38;5;124m\"\u001b[39m\u001b[38;5;124mensure_2d\u001b[39m\u001b[38;5;124m\"\u001b[39m, \u001b[38;5;28;01mTrue\u001b[39;00m):\n",
      "File \u001b[1;32m~\\anaconda3\\lib\\site-packages\\sklearn\\utils\\validation.py:981\u001b[0m, in \u001b[0;36mcheck_X_y\u001b[1;34m(X, y, accept_sparse, accept_large_sparse, dtype, order, copy, force_all_finite, ensure_2d, allow_nd, multi_output, ensure_min_samples, ensure_min_features, y_numeric, estimator)\u001b[0m\n\u001b[0;32m    964\u001b[0m X \u001b[38;5;241m=\u001b[39m check_array(\n\u001b[0;32m    965\u001b[0m     X,\n\u001b[0;32m    966\u001b[0m     accept_sparse\u001b[38;5;241m=\u001b[39maccept_sparse,\n\u001b[1;32m   (...)\u001b[0m\n\u001b[0;32m    976\u001b[0m     estimator\u001b[38;5;241m=\u001b[39mestimator,\n\u001b[0;32m    977\u001b[0m )\n\u001b[0;32m    979\u001b[0m y \u001b[38;5;241m=\u001b[39m _check_y(y, multi_output\u001b[38;5;241m=\u001b[39mmulti_output, y_numeric\u001b[38;5;241m=\u001b[39my_numeric)\n\u001b[1;32m--> 981\u001b[0m \u001b[43mcheck_consistent_length\u001b[49m\u001b[43m(\u001b[49m\u001b[43mX\u001b[49m\u001b[43m,\u001b[49m\u001b[43m \u001b[49m\u001b[43my\u001b[49m\u001b[43m)\u001b[49m\n\u001b[0;32m    983\u001b[0m \u001b[38;5;28;01mreturn\u001b[39;00m X, y\n",
      "File \u001b[1;32m~\\anaconda3\\lib\\site-packages\\sklearn\\utils\\validation.py:332\u001b[0m, in \u001b[0;36mcheck_consistent_length\u001b[1;34m(*arrays)\u001b[0m\n\u001b[0;32m    330\u001b[0m uniques \u001b[38;5;241m=\u001b[39m np\u001b[38;5;241m.\u001b[39munique(lengths)\n\u001b[0;32m    331\u001b[0m \u001b[38;5;28;01mif\u001b[39;00m \u001b[38;5;28mlen\u001b[39m(uniques) \u001b[38;5;241m>\u001b[39m \u001b[38;5;241m1\u001b[39m:\n\u001b[1;32m--> 332\u001b[0m     \u001b[38;5;28;01mraise\u001b[39;00m \u001b[38;5;167;01mValueError\u001b[39;00m(\n\u001b[0;32m    333\u001b[0m         \u001b[38;5;124m\"\u001b[39m\u001b[38;5;124mFound input variables with inconsistent numbers of samples: \u001b[39m\u001b[38;5;132;01m%r\u001b[39;00m\u001b[38;5;124m\"\u001b[39m\n\u001b[0;32m    334\u001b[0m         \u001b[38;5;241m%\u001b[39m [\u001b[38;5;28mint\u001b[39m(l) \u001b[38;5;28;01mfor\u001b[39;00m l \u001b[38;5;129;01min\u001b[39;00m lengths]\n\u001b[0;32m    335\u001b[0m     )\n",
      "\u001b[1;31mValueError\u001b[0m: Found input variables with inconsistent numbers of samples: [108, 81]"
     ]
    }
   ],
   "source": [
    "#test rfe then SVM classifier\n",
    "newX_train,newX_test = rfe_SVM(X_train_40, y_train_40,X_test_40)\n",
    "RFE_SVM_y_predicted = sSVMc(newX_train,newX_test,y_train_40,y_test_40)"
   ]
  },
  {
   "cell_type": "markdown",
   "id": "7b0f8f54",
   "metadata": {},
   "source": [
    "### Plot AUC-ROC Curve"
   ]
  },
  {
   "cell_type": "code",
   "execution_count": 163,
   "id": "4444b603",
   "metadata": {},
   "outputs": [],
   "source": [
    "def single_row(y_test,y_predicted,title):\n",
    "    y_test = label_binarize(y_test, classes=np.arange(3))\n",
    "    fpr = dict()\n",
    "    tpr = dict()\n",
    "    roc_auc = dict()\n",
    "    for i in range(3):\n",
    "        fpr[i], tpr[i], _ = roc_curve(y_test[:, i], y_predicted[:, i])\n",
    "        roc_auc[i] = auc(fpr[i], tpr[i])\n",
    "\n",
    "    labels=['slow','rapid','stable']\n",
    "    colors = cycle(['blue', 'red', 'green'])\n",
    "    for i, color in zip(range(3), colors):\n",
    "        plt.plot(fpr[i], tpr[i], color=color, label='ROC curve of class {0} (area = {1:0.2f})'\n",
    "                 ''.format(labels[i], roc_auc[i]))\n",
    "    plt.plot([0, 1], [0, 1], 'k--')\n",
    "    plt.xlim([-0.05, 1.0])\n",
    "    plt.ylim([0.0, 1.05])\n",
    "    plt.xlabel('False Positive Rate')\n",
    "    plt.ylabel('True Positive Rate')\n",
    "    plt.title(title)\n",
    "    plt.legend(loc=\"lower right\")\n",
    "    plt.show()"
   ]
  },
  {
   "cell_type": "code",
   "execution_count": 164,
   "id": "124c27d0",
   "metadata": {},
   "outputs": [
    {
     "data": {
      "image/png": "[encoded data removed]",
      "text/plain": [
       "<Figure size 432x288 with 1 Axes>"
      ]
     },
     "metadata": {
      "needs_background": "light"
     },
     "output_type": "display_data"
    }
   ],
   "source": [
    "title = 'ROC curve of each class of RFE & XGBc'\n",
    "single_row(y_test_20,RFE_XGB_y_predicted,title)"
   ]
  },
  {
   "cell_type": "markdown",
   "id": "b5c794a8",
   "metadata": {},
   "source": [
    "### FORWARD ORDER using foward feature selection"
   ]
  },
  {
   "cell_type": "code",
   "execution_count": 48,
   "id": "2e9e9f18",
   "metadata": {},
   "outputs": [],
   "source": [
    "def forward_select(X_train, y_train):\n",
    "    \n",
    "    acc_imp = 0  \n",
    "    last_best_acc=1000\n",
    "    features_selected=[]\n",
    "    best_features = []\n",
    "    no_imp_counter=0\n",
    "    \n",
    "    while no_imp_counter<10:\n",
    "        accuracies = []\n",
    "        for i in range(len(X_train)):   \n",
    "            curr_X_train = X_train.iloc[:,i]\n",
    "            for j in range(len(features_selected)):\n",
    "                curr_X_train = pd.concat([curr_X_train, features_selected[j]],axis=1)\n",
    "            fs_X_train, fs_X_test, fs_y_train, fs_y_test = train_test_split(curr_X_train, y_train, test_size = 0.80, random_state = 97,stratify=y_train)\n",
    "\n",
    "            clf = xgb.XGBClassifier(seed = 24, use_label_encoder =False,objective='multi:softproba')\n",
    "            clf.fit(fs_X_train, fs_y_train)\n",
    "            y_predicted = clf.predict_proba(fs_X_test)\n",
    "            accuracies.append(log_loss(fs_y_test, y_predicted))\n",
    "        \n",
    "        best_feature_idx=np.argmin(accuracies) \n",
    "        print('new best feature added =',X_train.iloc[:,best_feature_idx].name)\n",
    "        features_selected.append(X_train.iloc[:,best_feature_idx])\n",
    "        X_train.drop(X_train.columns[best_feature_idx],axis=1,inplace=True)\n",
    "        \n",
    "        curr_acc=accuracies[best_feature_idx]\n",
    "        print('new log loss =',curr_acc)\n",
    "        if curr_acc<last_best_acc:\n",
    "            acc_imp = last_best_acc-curr_acc\n",
    "            last_best_acc = curr_acc\n",
    "            best_features=features_selected.copy()\n",
    "            no_imp_counter=0\n",
    "            print('improvement of',acc_imp,'\\n')\n",
    "        else:\n",
    "            no_imp_counter+=1\n",
    "            print('no improvement for',no_imp_counter,'times \\n')\n",
    "\n",
    "    \n",
    "    print('-> last best log loss on training set =',last_best_acc)\n",
    "    \n",
    "    best_features_names = []\n",
    "    for i in best_features:\n",
    "        best_features_names.append(i.name)\n",
    "\n",
    "    return best_features_names"
   ]
  },
  {
   "cell_type": "code",
   "execution_count": 49,
   "id": "4c510970",
   "metadata": {},
   "outputs": [
    {
     "name": "stdout",
     "output_type": "stream",
     "text": [
      "1) Forward feature selection:\n",
      "new best feature added = CATD.YSQAVPAVTEGPIPEVLK\n",
      "new log loss = 1.342066453534296\n",
      "improvement of 998.6579335464658 \n",
      "\n",
      "new best feature added = CNTN2.IIVQAQPEWLK\n",
      "new log loss = 1.2342850686232933\n",
      "improvement of 0.10778138491100275 \n",
      "\n",
      "new best feature added = CFAB.YGLVTYATYPK\n",
      "new log loss = 1.1350263081191259\n",
      "improvement of 0.09925876050416749 \n",
      "\n",
      "new best feature added = CNDP1.ALEQDLPVNIK\n",
      "new log loss = 1.0735944995078548\n",
      "improvement of 0.061431808611271066 \n",
      "\n",
      "new best feature added = CMGA.SGELEQEEER\n",
      "new log loss = 1.0482630591368538\n",
      "improvement of 0.02533144037100099 \n",
      "\n",
      "new best feature added = AATC.LALGDDSPALK\n",
      "new log loss = 1.0662149140803978\n",
      "no improvement for 1 times \n",
      "\n",
      "new best feature added = CH3L1.VTIDSSYDIAK\n",
      "new log loss = 1.0158008875689288\n",
      "improvement of 0.03246217156792497 \n",
      "\n",
      "new best feature added = CMGA.SGEATDGARPQALPEPMQESK\n",
      "new log loss = 1.0111668634003605\n",
      "improvement of 0.004634024168568285 \n",
      "\n",
      "new best feature added = CO4A.VTASDPLDTLGSEGALSPGGVASLLR\n",
      "new log loss = 1.014022954450599\n",
      "no improvement for 1 times \n",
      "\n",
      "new best feature added = CFAB.VSEADSSNADWVTK\n",
      "new log loss = 0.9913987107146746\n",
      "improvement of 0.01976815268568599 \n",
      "\n",
      "new best feature added = CFAB.DAQYAPGYDK\n",
      "new log loss = 0.9787879970738258\n",
      "improvement of 0.012610713640848759 \n",
      "\n",
      "new best feature added = CO2.HAIILLTDGK\n",
      "new log loss = 0.9930693525606873\n",
      "no improvement for 1 times \n",
      "\n",
      "new best feature added = CATD.VSTLPAITLK\n",
      "new log loss = 0.9820691237932649\n",
      "no improvement for 2 times \n",
      "\n",
      "new best feature added = CO5.DINYVNPVIK\n",
      "new log loss = 1.0036783114760772\n",
      "no improvement for 3 times \n",
      "\n",
      "new best feature added = AMBP.ETLLQDFR\n",
      "new log loss = 1.012656609945256\n",
      "no improvement for 4 times \n",
      "\n",
      "new best feature added = APOB.SVSLPSLDPASAK\n",
      "new log loss = 0.9962998845068545\n",
      "no improvement for 5 times \n",
      "\n",
      "new best feature added = CD59.AGLQVYNK\n",
      "new log loss = 0.9912922556629811\n",
      "no improvement for 6 times \n",
      "\n",
      "new best feature added = AATC.IVASTLSNPELFEEWTGNVK\n",
      "new log loss = 0.9932466835939678\n",
      "no improvement for 7 times \n",
      "\n",
      "new best feature added = CO4A.GSFEFPVGDAVSK\n",
      "new log loss = 0.9836730389245625\n",
      "no improvement for 8 times \n",
      "\n",
      "new best feature added = CMGA.YPGPQAEGDSEGLSQGLVDR\n",
      "new log loss = 1.0167873970436296\n",
      "no improvement for 9 times \n",
      "\n",
      "new best feature added = CADM3.GNPVPQQYLWEK\n",
      "new log loss = 1.0184149311148916\n",
      "no improvement for 10 times \n",
      "\n",
      "-> last best log loss on training set = 0.9787879970738258\n",
      "We kept 11 features out of the 320\n",
      "2) XGB with forward feature selection\n",
      "              precision    recall  f1-score   support\n",
      "\n",
      "           0       0.40      0.22      0.29         9\n",
      "           1       0.53      0.90      0.67        10\n",
      "           2       0.60      0.38      0.46         8\n",
      "\n",
      "    accuracy                           0.52        27\n",
      "   macro avg       0.51      0.50      0.47        27\n",
      "weighted avg       0.51      0.52      0.48        27\n",
      "\n",
      "Accuracy: 0.5185185185185185\n",
      "MCC = 0.2831066867074795\n",
      "AUC = {0: 0.5277777777777778, 1: 0.7147058823529412, 2: 0.6348684210526316}\n"
     ]
    },
    {
     "name": "stderr",
     "output_type": "stream",
     "text": [
      "C:\\Users\\marti\\AppData\\Local\\Temp\\ipykernel_9576\\48801181.py:5: FutureWarning: Index.__and__ operating as a set operation is deprecated, in the future this will be a logical operation matching Series.__and__.  Use index.intersection(other) instead.\n",
      "  newX_test = X_test_20[(newX_train.columns) & (X_test_20.columns)]\n"
     ]
    },
    {
     "data": {
      "text/plain": [
       "array([[0.07741523, 0.8709729 , 0.05161195],\n",
       "       [0.00276916, 0.99574184, 0.00148902],\n",
       "       [0.23073117, 0.05610691, 0.7131619 ],\n",
       "       [0.1809202 , 0.8127618 , 0.00631799],\n",
       "       [0.03739429, 0.94344795, 0.01915773],\n",
       "       [0.09092507, 0.03416663, 0.8749083 ],\n",
       "       [0.27524674, 0.694701  , 0.03005224],\n",
       "       [0.19705328, 0.7701762 , 0.03277053],\n",
       "       [0.00415837, 0.99288285, 0.00295873],\n",
       "       [0.11400573, 0.5708898 , 0.3151045 ],\n",
       "       [0.93055904, 0.04550513, 0.02393582],\n",
       "       [0.39936224, 0.54645896, 0.05417882],\n",
       "       [0.33129627, 0.34715116, 0.32155254],\n",
       "       [0.8720001 , 0.02459631, 0.10340361],\n",
       "       [0.10097444, 0.799864  , 0.09916153],\n",
       "       [0.90741086, 0.04828534, 0.04430383],\n",
       "       [0.10396583, 0.04069251, 0.8553416 ],\n",
       "       [0.00673943, 0.9173926 , 0.07586793],\n",
       "       [0.4912472 , 0.24791045, 0.2608423 ],\n",
       "       [0.36596793, 0.23632483, 0.39770728],\n",
       "       [0.08006973, 0.8948227 , 0.02510756],\n",
       "       [0.70359486, 0.10454512, 0.19186002],\n",
       "       [0.002789  , 0.9910096 , 0.0062014 ],\n",
       "       [0.04319182, 0.7187138 , 0.23809437],\n",
       "       [0.15037298, 0.84074   , 0.00888704],\n",
       "       [0.4226596 , 0.00807068, 0.5692697 ],\n",
       "       [0.12420566, 0.70692044, 0.16887388]], dtype=float32)"
      ]
     },
     "execution_count": 49,
     "metadata": {},
     "output_type": "execute_result"
    }
   ],
   "source": [
    "#test tuning XGB hyperparameters with selected features from forward selection\n",
    "print('1) Forward feature selection:')\n",
    "fs_best_features = forward_select(X_train_20.copy(), y_train_20)\n",
    "newX_train = X_train_20.loc[:,fs_best_features]\n",
    "newX_test = X_test_20[(newX_train.columns) & (X_test_20.columns)]\n",
    "print('We kept',newX_train.shape[1],'features out of the',X_train_20.shape[1])\n",
    "print('2) XGB with forward feature selection')\n",
    "XGB_class(newX_train,newX_test,y_train_20,y_test_20,0,0,0,0,0,0,0,simple=True)"
   ]
  },
  {
   "cell_type": "code",
   "execution_count": null,
   "id": "91f179df",
   "metadata": {},
   "outputs": [],
   "source": []
  }
 ],
 "metadata": {
  "kernelspec": {
   "display_name": "Python 3 (ipykernel)",
   "language": "python",
   "name": "python3"
  },
  "language_info": {
   "codemirror_mode": {
    "name": "ipython",
    "version": 3
   },
   "file_extension": ".py",
   "mimetype": "text/x-python",
   "name": "python",
   "nbconvert_exporter": "python",
   "pygments_lexer": "ipython3",
   "version": "3.9.12"
  }
 },
 "nbformat": 4,
 "nbformat_minor": 5
}
