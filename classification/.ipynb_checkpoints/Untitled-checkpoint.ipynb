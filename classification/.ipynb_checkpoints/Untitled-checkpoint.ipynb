{
 "cells": [
  {
   "cell_type": "code",
   "execution_count": 1,
   "id": "3fbf7314",
   "metadata": {},
   "outputs": [],
   "source": [
    "import numpy as np\n",
    "import pandas as pd\n",
    "import matplotlib.pyplot as plt\n",
    "import seaborn as sns\n",
    "from scipy.stats import poisson\n",
    "from sklearn.svm import SVC \n",
    "from sklearn.metrics import accuracy_score, classification_report\n",
    "from numpy import mean\n",
    "from numpy import std\n",
    "from sklearn.datasets import make_classification\n",
    "from sklearn.model_selection import cross_val_score\n",
    "from sklearn.model_selection import RepeatedStratifiedKFold\n",
    "from sklearn.ensemble import RandomForestClassifier\n",
    "from sklearn.linear_model import LogisticRegression\n",
    "from sklearn.ensemble import RandomForestClassifier\n",
    "from sklearn.model_selection import StratifiedKFold\n",
    "import xgboost as xgb\n",
    "xgb.set_config(verbosity=0)\n",
    "from sklearn.feature_selection import RFECV\n",
    "import random\n",
    "from scipy import stats\n",
    "from sklearn.model_selection import train_test_split \n",
    "pd.set_option('display.max_columns', None)"
   ]
  },
  {
   "cell_type": "code",
   "execution_count": 2,
   "id": "b2430d6c",
   "metadata": {},
   "outputs": [],
   "source": [
    "df = pd.read_csv(\"dataset\\CSF_Proteomics_ADNI.csv\")\n",
    "\n",
    "#replace categorical feature with index labeling\n",
    "df['binary_class'].replace({'stable':0,'decliner':1},inplace=True)\n",
    "df['three_class'].replace({'slowDecline':0,'rapidDecline':1,'stable':2},inplace=True)\n",
    "\n",
    "#differentiate other categorical features from the numerical ones\n",
    "pheno = df.loc[:,'RID':'VISCODE']\n",
    "data = df.loc[:,'A1AT.AVLTIDEK':'VTDB.VPTADLEDVLPLAEDITNILSK']\n",
    "\n",
    "## Normalization\n",
    "\n",
    "#normally test function -> check if each column is normally distr\n",
    "def norm_test(data):\n",
    "    alpha = 1e-3\n",
    "    k2, p = stats.normaltest(data)\n",
    "    count=0\n",
    "    for i in p:\n",
    "        if i > alpha:  # null hypothesis: x comes from a normal distribution\n",
    "            count+=1\n",
    "    print('There are ',count,'normally distributed features out of',data.shape[1])\n",
    "\n",
    "#QUANTILE NORMALIZATION\n",
    "def quantile_normalize(df):\n",
    "    df_sorted = pd.DataFrame(np.sort(df.values,axis=0),index=df.index,columns=df.columns)\n",
    "    df_mean = df_sorted.mean(axis=1)\n",
    "    df_mean.index = np.arange(1, len(df_mean) + 1)\n",
    "    df_qn =df.rank(method=\"min\").stack().astype(int).map(df_mean).unstack()\n",
    "    return df_qn\n",
    "\n",
    "# compute quantile normalized data\n",
    "df_qn=quantile_normalize(data)\n",
    "data = df_qn\n",
    "\n",
    "### Box-cox transformation\n",
    "df_bc = pd.DataFrame().reindex_like(data)\n",
    "\n",
    "for col in df_qn:\n",
    "    df_bc[col],_ = stats.boxcox(df_qn[col])\n",
    "data = df_qn\n",
    "\n",
    "## Split dataset\n",
    "\n",
    "X = data\n",
    "y = df[\"binary_class\"]"
   ]
  },
  {
   "cell_type": "code",
   "execution_count": null,
   "id": "50af657f",
   "metadata": {},
   "outputs": [],
   "source": []
  }
 ],
 "metadata": {
  "kernelspec": {
   "display_name": "Python 3",
   "language": "python",
   "name": "python3"
  },
  "language_info": {
   "codemirror_mode": {
    "name": "ipython",
    "version": 3
   },
   "file_extension": ".py",
   "mimetype": "text/x-python",
   "name": "python",
   "nbconvert_exporter": "python",
   "pygments_lexer": "ipython3",
   "version": "3.8.8"
  }
 },
 "nbformat": 4,
 "nbformat_minor": 5
}
