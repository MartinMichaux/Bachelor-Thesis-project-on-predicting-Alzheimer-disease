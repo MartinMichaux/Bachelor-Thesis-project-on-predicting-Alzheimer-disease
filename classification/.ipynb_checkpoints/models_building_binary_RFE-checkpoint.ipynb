{
 "cells": [
  {
   "cell_type": "markdown",
   "id": "83a83341",
   "metadata": {},
   "source": [
    "# Build binary classification models where some use RFE selected features"
   ]
  },
  {
   "cell_type": "code",
   "execution_count": 1,
   "id": "d435b1bb",
   "metadata": {},
   "outputs": [],
   "source": [
    "import numpy as np\n",
    "import pandas as pd\n",
    "import matplotlib.pyplot as plt\n",
    "import seaborn as sns\n",
    "from scipy.stats import poisson\n",
    "from sklearn.svm import SVC \n",
    "from sklearn.metrics import accuracy_score, classification_report\n",
    "from numpy import mean\n",
    "from numpy import std\n",
    "from sklearn.datasets import make_classification\n",
    "from sklearn.model_selection import cross_val_score\n",
    "from sklearn.model_selection import RepeatedStratifiedKFold\n",
    "from sklearn.ensemble import RandomForestClassifier\n",
    "from sklearn.linear_model import LogisticRegression\n",
    "from sklearn.ensemble import RandomForestClassifier\n",
    "from sklearn.model_selection import StratifiedKFold\n",
    "import xgboost as xgb\n",
    "xgb.set_config(verbosity=0)\n",
    "from sklearn.feature_selection import RFECV\n",
    "import random\n",
    "from sklearn.metrics import matthews_corrcoef\n",
    "from sklearn.metrics import balanced_accuracy_score\n",
    "from sklearn import metrics\n",
    "import matplotlib\n",
    "from sklearn.model_selection import train_test_split "
   ]
  },
  {
   "cell_type": "code",
   "execution_count": 2,
   "id": "29a92679",
   "metadata": {},
   "outputs": [],
   "source": [
    "# Drop first column of dataframe\n",
    "def drop_first_col(df):\n",
    "    return df.iloc[: , 1:]\n",
    "\n",
    "X_train_20 = pd.read_csv(\"dataset\\X_train_2_20.csv\")\n",
    "X_test_20 = pd.read_csv(\"dataset\\X_test_2_20.csv\")\n",
    "y_train_20 = pd.read_csv(\"dataset\\y_train_2_20.csv\")\n",
    "y_test_20 = pd.read_csv(\"dataset\\y_test_2_20.csv\")\n",
    "\n",
    "X_train_40 = pd.read_csv(\"dataset\\X_train_2_40.csv\")\n",
    "X_test_40 = pd.read_csv(\"dataset\\X_test_2_40.csv\")\n",
    "y_train_40 = pd.read_csv(\"dataset\\y_train_2_40.csv\")\n",
    "y_test_40 = pd.read_csv(\"dataset\\y_test_2_40.csv\")\n",
    "\n",
    "X_train_20 = drop_first_col(X_train_20)\n",
    "X_test_20 = drop_first_col(X_test_20)\n",
    "y_train_20 = drop_first_col(y_train_20)\n",
    "y_test_20 = drop_first_col(y_test_20)\n",
    "\n",
    "X_train_40 = drop_first_col(X_train_40)\n",
    "X_test_40 = drop_first_col(X_test_40)\n",
    "y_train_40 = drop_first_col(y_train_40)\n",
    "y_test_40 = drop_first_col(y_test_40)"
   ]
  },
  {
   "cell_type": "markdown",
   "id": "888c6482",
   "metadata": {},
   "source": [
    "## Test on single simple models"
   ]
  },
  {
   "cell_type": "markdown",
   "id": "a0c80bba",
   "metadata": {},
   "source": [
    "### Single XGB Classifier (with no hyperparameters selection)"
   ]
  },
  {
   "cell_type": "code",
   "execution_count": 3,
   "id": "cc922337",
   "metadata": {},
   "outputs": [],
   "source": [
    "def XGB_class(X_train, X_test, y_train, y_test,learning_rate, n_estimators, max_depth,min_child_weight, gamma, subsample, colsample_bytree, simple):\n",
    "    \n",
    "    if simple:\n",
    "        clf = xgb.XGBClassifier(seed = 24, use_label_encoder =False)\n",
    "    else:\n",
    "        clf = xgb.XGBClassifier(learning_rate = learning_rate, n_estimators = int(n_estimators), max_depth = int(max_depth), \n",
    "                                min_child_weight = min_child_weight, gamma = gamma, subsample = subsample, \n",
    "                                colsample_bytree = colsample_bytree, seed = 24,eval_metric='mlogloss',use_label_encoder =False)\n",
    "\n",
    "    clf.fit(X_train, y_train)\n",
    "    y_predicted = clf.predict(X_test)\n",
    "\n",
    "    print(classification_report(y_test, y_predicted))\n",
    "    print(\"Accuracy:\", accuracy_score(y_test, y_predicted))\n",
    "    print(\"MCC =\",matthews_corrcoef(y_test, y_predicted))\n",
    "    print(\"AUC =\",metrics.roc_auc_score(y_test, y_predicted))\n",
    "    \n",
    "    return clf.predict_proba(X_test)[:,1]"
   ]
  },
  {
   "cell_type": "code",
   "execution_count": 21,
   "id": "9c01f28d",
   "metadata": {},
   "outputs": [
    {
     "name": "stdout",
     "output_type": "stream",
     "text": [
      "              precision    recall  f1-score   support\n",
      "\n",
      "           0       0.50      0.50      0.50        10\n",
      "           1       0.71      0.71      0.71        17\n",
      "\n",
      "    accuracy                           0.63        27\n",
      "   macro avg       0.60      0.60      0.60        27\n",
      "weighted avg       0.63      0.63      0.63        27\n",
      "\n",
      "Accuracy: 0.6296296296296297\n",
      "MCC = 0.20588235294117646\n",
      "AUC = 0.6029411764705883\n",
      "              precision    recall  f1-score   support\n",
      "\n",
      "           0       0.56      0.43      0.49        21\n",
      "           1       0.68      0.79      0.73        33\n",
      "\n",
      "    accuracy                           0.65        54\n",
      "   macro avg       0.62      0.61      0.61        54\n",
      "weighted avg       0.64      0.65      0.64        54\n",
      "\n",
      "Accuracy: 0.6481481481481481\n",
      "MCC = 0.23108558332704238\n",
      "AUC = 0.6082251082251082\n"
     ]
    }
   ],
   "source": [
    "sXGBc_y_predicted_20 = XGB_class(X_train_20,X_test_20,y_train_20,y_test_20,0,0,0,0,0,0,0,simple=True)\n",
    "sXGBc_y_predicted_40 = XGB_class(X_train_40,X_test_40,y_train_40,y_test_40,0,0,0,0,0,0,0,simple=True)"
   ]
  },
  {
   "cell_type": "markdown",
   "id": "5c8885d3",
   "metadata": {},
   "source": [
    "### SVM"
   ]
  },
  {
   "cell_type": "code",
   "execution_count": 22,
   "id": "d2de33db",
   "metadata": {},
   "outputs": [],
   "source": [
    "def sSVMc(X_train,X_test,y_train,y_test):\n",
    "    clf = SVC(kernel='linear',probability=True) \n",
    "    clf.fit(X_train, y_train) \n",
    "    preds = clf.predict(X_test)\n",
    "    sSVM_y_predicted = clf.predict_proba(X_test)[:,1]\n",
    "    \n",
    "    print(classification_report(y_test, preds))\n",
    "    print(\"Accuracy:\", accuracy_score(y_test, preds))\n",
    "    print(\"MCC =\",matthews_corrcoef(y_test, preds))\n",
    "    print(\"AUC =\",metrics.roc_auc_score(y_test, preds))\n",
    "    \n",
    "    return sSVM_y_predicted"
   ]
  },
  {
   "cell_type": "code",
   "execution_count": 23,
   "id": "98c7d574",
   "metadata": {},
   "outputs": [
    {
     "name": "stdout",
     "output_type": "stream",
     "text": [
      "Using 20% as test subset:\n",
      "              precision    recall  f1-score   support\n",
      "\n",
      "           0       0.45      0.50      0.48        10\n",
      "           1       0.69      0.65      0.67        17\n",
      "\n",
      "    accuracy                           0.59        27\n",
      "   macro avg       0.57      0.57      0.57        27\n",
      "weighted avg       0.60      0.59      0.60        27\n",
      "\n",
      "Accuracy: 0.5925925925925926\n",
      "MCC = 0.1445304031446501\n",
      "AUC = 0.5735294117647058\n",
      "Using 40% as test subset:\n",
      "              precision    recall  f1-score   support\n",
      "\n",
      "           0       0.72      0.62      0.67        21\n",
      "           1       0.78      0.85      0.81        33\n",
      "\n",
      "    accuracy                           0.76        54\n",
      "   macro avg       0.75      0.73      0.74        54\n",
      "weighted avg       0.76      0.76      0.76        54\n",
      "\n",
      "Accuracy: 0.7592592592592593\n",
      "MCC = 0.48349377841522817\n",
      "AUC = 0.7337662337662338\n"
     ]
    },
    {
     "name": "stderr",
     "output_type": "stream",
     "text": [
      "C:\\Users\\marti\\anaconda3\\lib\\site-packages\\sklearn\\utils\\validation.py:993: DataConversionWarning: A column-vector y was passed when a 1d array was expected. Please change the shape of y to (n_samples, ), for example using ravel().\n",
      "  y = column_or_1d(y, warn=True)\n",
      "C:\\Users\\marti\\anaconda3\\lib\\site-packages\\sklearn\\utils\\validation.py:993: DataConversionWarning: A column-vector y was passed when a 1d array was expected. Please change the shape of y to (n_samples, ), for example using ravel().\n",
      "  y = column_or_1d(y, warn=True)\n"
     ]
    }
   ],
   "source": [
    "print('Using 20% as test subset:')\n",
    "sSVM_y_predicted_20 = sSVMc(X_train_20,X_test_20,y_train_20,y_test_20)\n",
    "print('Using 40% as test subset:')\n",
    "sSVM_y_predicted_40 = sSVMc(X_train_40,X_test_40,y_train_40,y_test_40)"
   ]
  },
  {
   "cell_type": "markdown",
   "id": "6df80d3c",
   "metadata": {},
   "source": [
    "### Single Random Forest classifier"
   ]
  },
  {
   "cell_type": "code",
   "execution_count": 24,
   "id": "ef7c64ae",
   "metadata": {},
   "outputs": [],
   "source": [
    "def sRFC(X_train,X_test,y_train,y_test):\n",
    "    model = RandomForestClassifier().fit(X_train,y_train)\n",
    "    preds = model.predict(X_test)\n",
    "    sRFC_y_predicted = model.predict_proba(X_test)[:,1]\n",
    "    \n",
    "    print(classification_report(y_test, preds))\n",
    "    print(\"Accuracy:\", accuracy_score(y_test, preds))\n",
    "    print(\"MCC =\",matthews_corrcoef(y_test, preds))\n",
    "    print(\"AUC =\",metrics.roc_auc_score(y_test, preds))\n",
    "    \n",
    "    return sRFC_y_predicted"
   ]
  },
  {
   "cell_type": "code",
   "execution_count": 25,
   "id": "a09f5463",
   "metadata": {},
   "outputs": [
    {
     "name": "stdout",
     "output_type": "stream",
     "text": [
      "Using 20% as test subset:\n"
     ]
    },
    {
     "name": "stderr",
     "output_type": "stream",
     "text": [
      "C:\\Users\\marti\\AppData\\Local\\Temp\\ipykernel_18220\\1980641439.py:2: DataConversionWarning: A column-vector y was passed when a 1d array was expected. Please change the shape of y to (n_samples,), for example using ravel().\n",
      "  model = RandomForestClassifier().fit(X_train,y_train)\n"
     ]
    },
    {
     "name": "stdout",
     "output_type": "stream",
     "text": [
      "              precision    recall  f1-score   support\n",
      "\n",
      "           0       0.57      0.40      0.47        10\n",
      "           1       0.70      0.82      0.76        17\n",
      "\n",
      "    accuracy                           0.67        27\n",
      "   macro avg       0.64      0.61      0.61        27\n",
      "weighted avg       0.65      0.67      0.65        27\n",
      "\n",
      "Accuracy: 0.6666666666666666\n",
      "MCC = 0.24631741494982246\n",
      "AUC = 0.611764705882353\n",
      "Using 40% as test subset:\n"
     ]
    },
    {
     "name": "stderr",
     "output_type": "stream",
     "text": [
      "C:\\Users\\marti\\AppData\\Local\\Temp\\ipykernel_18220\\1980641439.py:2: DataConversionWarning: A column-vector y was passed when a 1d array was expected. Please change the shape of y to (n_samples,), for example using ravel().\n",
      "  model = RandomForestClassifier().fit(X_train,y_train)\n"
     ]
    },
    {
     "name": "stdout",
     "output_type": "stream",
     "text": [
      "              precision    recall  f1-score   support\n",
      "\n",
      "           0       0.64      0.43      0.51        21\n",
      "           1       0.70      0.85      0.77        33\n",
      "\n",
      "    accuracy                           0.69        54\n",
      "   macro avg       0.67      0.64      0.64        54\n",
      "weighted avg       0.68      0.69      0.67        54\n",
      "\n",
      "Accuracy: 0.6851851851851852\n",
      "MCC = 0.3082056514117678\n",
      "AUC = 0.6385281385281386\n"
     ]
    }
   ],
   "source": [
    "print('Using 20% as test subset:')\n",
    "sRFC_y_predicted_20 = sRFC(X_train_20,X_test_20,y_train_20,y_test_20)\n",
    "print('Using 40% as test subset:')\n",
    "sRFC_y_predicted_40 = sRFC(X_train_40,X_test_40,y_train_40,y_test_40)"
   ]
  },
  {
   "cell_type": "markdown",
   "id": "3f40b2a8",
   "metadata": {},
   "source": [
    "### Logistic Regression"
   ]
  },
  {
   "cell_type": "code",
   "execution_count": 26,
   "id": "7b88a5a0",
   "metadata": {},
   "outputs": [],
   "source": [
    "def sLR(X_train,X_test,y_train,y_test):\n",
    "    model = LogisticRegression(random_state=0).fit(X_train,y_train)\n",
    "    preds = model.predict(X_test)\n",
    "    sLR_y_predicted = model.predict_proba(X_test)[:,1]\n",
    "    \n",
    "    print(classification_report(y_test, preds))\n",
    "    print(\"Accuracy:\", accuracy_score(y_test, preds))\n",
    "    print(\"MCC =\",matthews_corrcoef(y_test, preds))\n",
    "    print(\"AUC =\",metrics.roc_auc_score(y_test, preds))\n",
    "    \n",
    "    return sLR_y_predicted"
   ]
  },
  {
   "cell_type": "code",
   "execution_count": 27,
   "id": "c49ed00c",
   "metadata": {},
   "outputs": [
    {
     "name": "stdout",
     "output_type": "stream",
     "text": [
      "Using 20% as test subset:\n"
     ]
    },
    {
     "name": "stderr",
     "output_type": "stream",
     "text": [
      "C:\\Users\\marti\\anaconda3\\lib\\site-packages\\sklearn\\utils\\validation.py:993: DataConversionWarning: A column-vector y was passed when a 1d array was expected. Please change the shape of y to (n_samples, ), for example using ravel().\n",
      "  y = column_or_1d(y, warn=True)\n",
      "C:\\Users\\marti\\anaconda3\\lib\\site-packages\\sklearn\\linear_model\\_logistic.py:814: ConvergenceWarning: lbfgs failed to converge (status=1):\n",
      "STOP: TOTAL NO. of ITERATIONS REACHED LIMIT.\n",
      "\n",
      "Increase the number of iterations (max_iter) or scale the data as shown in:\n",
      "    https://scikit-learn.org/stable/modules/preprocessing.html\n",
      "Please also refer to the documentation for alternative solver options:\n",
      "    https://scikit-learn.org/stable/modules/linear_model.html#logistic-regression\n",
      "  n_iter_i = _check_optimize_result(\n"
     ]
    },
    {
     "name": "stdout",
     "output_type": "stream",
     "text": [
      "              precision    recall  f1-score   support\n",
      "\n",
      "           0       0.45      0.50      0.48        10\n",
      "           1       0.69      0.65      0.67        17\n",
      "\n",
      "    accuracy                           0.59        27\n",
      "   macro avg       0.57      0.57      0.57        27\n",
      "weighted avg       0.60      0.59      0.60        27\n",
      "\n",
      "Accuracy: 0.5925925925925926\n",
      "MCC = 0.1445304031446501\n",
      "AUC = 0.5735294117647058\n",
      "Using 40% as test subset:\n",
      "              precision    recall  f1-score   support\n",
      "\n",
      "           0       0.67      0.48      0.56        21\n",
      "           1       0.72      0.85      0.78        33\n",
      "\n",
      "    accuracy                           0.70        54\n",
      "   macro avg       0.69      0.66      0.67        54\n",
      "weighted avg       0.70      0.70      0.69        54\n",
      "\n",
      "Accuracy: 0.7037037037037037\n",
      "MCC = 0.3533767463701098\n",
      "AUC = 0.6623376623376623\n"
     ]
    },
    {
     "name": "stderr",
     "output_type": "stream",
     "text": [
      "C:\\Users\\marti\\anaconda3\\lib\\site-packages\\sklearn\\utils\\validation.py:993: DataConversionWarning: A column-vector y was passed when a 1d array was expected. Please change the shape of y to (n_samples, ), for example using ravel().\n",
      "  y = column_or_1d(y, warn=True)\n",
      "C:\\Users\\marti\\anaconda3\\lib\\site-packages\\sklearn\\linear_model\\_logistic.py:814: ConvergenceWarning: lbfgs failed to converge (status=1):\n",
      "STOP: TOTAL NO. of ITERATIONS REACHED LIMIT.\n",
      "\n",
      "Increase the number of iterations (max_iter) or scale the data as shown in:\n",
      "    https://scikit-learn.org/stable/modules/preprocessing.html\n",
      "Please also refer to the documentation for alternative solver options:\n",
      "    https://scikit-learn.org/stable/modules/linear_model.html#logistic-regression\n",
      "  n_iter_i = _check_optimize_result(\n"
     ]
    }
   ],
   "source": [
    "print('Using 20% as test subset:')\n",
    "sLR_y_predicted_20 = sLR(X_train_20,X_test_20,y_train_20,y_test_20)\n",
    "print('Using 40% as test subset:')\n",
    "sLR_y_predicted_40 = sLR(X_train_40,X_test_40,y_train_40,y_test_40)"
   ]
  },
  {
   "cell_type": "markdown",
   "id": "e4956197",
   "metadata": {},
   "source": [
    "## Features Selection"
   ]
  },
  {
   "cell_type": "markdown",
   "id": "93d95a1d",
   "metadata": {},
   "source": [
    "### Recursive Feature Elimination (RFE)"
   ]
  },
  {
   "cell_type": "markdown",
   "id": "67631c6e",
   "metadata": {},
   "source": [
    "### Test on single XGB classifier using RFE selected features"
   ]
  },
  {
   "cell_type": "code",
   "execution_count": 44,
   "id": "abc872ef",
   "metadata": {},
   "outputs": [],
   "source": [
    "def rfe_xgb(X_train, y_train,X_test,learning_rate, n_estimators, max_depth,min_child_weight, gamma, subsample, colsample_bytree, simple):\n",
    "    min_features_to_select = 50\n",
    "    \n",
    "    #run RFE on current train subset\n",
    "    if simple:\n",
    "        clf = xgb.XGBClassifier(seed = 24, use_label_encoder =False)\n",
    "    else:\n",
    "        clf = xgb.XGBClassifier(learning_rate = learning_rate, n_estimators = int(n_estimators), max_depth = int(max_depth), \n",
    "                                min_child_weight = min_child_weight, gamma = gamma, subsample = subsample, \n",
    "                                colsample_bytree = colsample_bytree, seed = 24,eval_metric='mlogloss',use_label_encoder =False)\n",
    "    rfecv = RFECV(estimator=clf,min_features_to_select=min_features_to_select,step=3,n_jobs=-1,scoring=\"r2\",cv=5)\n",
    "    rfecv.fit(X_train, y_train)\n",
    "    \n",
    "    #keep selected features + check RFE accuracy scores during running\n",
    "    newX_train = X_train[X_train.columns[rfecv.support_]]\n",
    "    newX_test = X_test[X_test.columns[rfecv.support_]]\n",
    "    print('We kept',newX_train.shape[1],'features out of the',X_train.shape[1])\n",
    "    \n",
    "    return newX_train,newX_test"
   ]
  },
  {
   "cell_type": "code",
   "execution_count": 45,
   "id": "5c5e9b82",
   "metadata": {},
   "outputs": [
    {
     "name": "stdout",
     "output_type": "stream",
     "text": [
      "We kept 56 features out of the 320\n",
      "              precision    recall  f1-score   support\n",
      "\n",
      "           0       0.70      0.70      0.70        10\n",
      "           1       0.82      0.82      0.82        17\n",
      "\n",
      "    accuracy                           0.78        27\n",
      "   macro avg       0.76      0.76      0.76        27\n",
      "weighted avg       0.78      0.78      0.78        27\n",
      "\n",
      "Accuracy: 0.7777777777777778\n",
      "MCC = 0.5235294117647059\n",
      "AUC = 0.7617647058823529\n"
     ]
    }
   ],
   "source": [
    "#test rfe then simple XGB classifier\n",
    "newX_train,newX_test = rfe_xgb(X_train_20, y_train_20,X_test_20,0,0,0,0,0,0,0,simple=True)\n",
    "RFE_XGB_y_predicted = XGB_class(newX_train,newX_test,y_train_20,y_test_20,0,0,0,0,0,0,0,simple=True)"
   ]
  },
  {
   "cell_type": "markdown",
   "id": "be19de70",
   "metadata": {},
   "source": [
    "### Test on single SVM classifier using RFE selected features"
   ]
  },
  {
   "cell_type": "code",
   "execution_count": 30,
   "id": "43e31359",
   "metadata": {
    "scrolled": false
   },
   "outputs": [],
   "source": [
    "def rfe_SVM(X_train, y_train,X_test):\n",
    "    min_features_to_select = 1\n",
    "\n",
    "    #run RFE on current train subset\n",
    "    clf = SVC(kernel='linear',probability=True) \n",
    "\n",
    "    rfecv = RFECV(estimator=clf,min_features_to_select=min_features_to_select,step=3,n_jobs=-1,scoring=\"r2\",cv=5)\n",
    "    rfecv.fit(X_train, y_train.values.ravel())\n",
    "\n",
    "    #keep selected features + check RFE accuracy scores during running\n",
    "    newX_train = X_train[X_train.columns[rfecv.support_]]\n",
    "    newX_test = X_test[X_test.columns[rfecv.support_]]\n",
    "    print('We kept',newX_train.shape[1],'features out of the',X_train_40.shape[1])\n",
    "\n",
    "    return newX_train,newX_test"
   ]
  },
  {
   "cell_type": "code",
   "execution_count": 31,
   "id": "f76afc34",
   "metadata": {},
   "outputs": [
    {
     "name": "stdout",
     "output_type": "stream",
     "text": [
      "We kept 200 features out of the 320\n",
      "              precision    recall  f1-score   support\n",
      "\n",
      "           0       0.76      0.62      0.68        21\n",
      "           1       0.78      0.88      0.83        33\n",
      "\n",
      "    accuracy                           0.78        54\n",
      "   macro avg       0.77      0.75      0.76        54\n",
      "weighted avg       0.78      0.78      0.77        54\n",
      "\n",
      "Accuracy: 0.7777777777777778\n",
      "MCC = 0.5225491613224563\n",
      "AUC = 0.748917748917749\n"
     ]
    },
    {
     "name": "stderr",
     "output_type": "stream",
     "text": [
      "C:\\Users\\marti\\anaconda3\\lib\\site-packages\\sklearn\\utils\\validation.py:993: DataConversionWarning: A column-vector y was passed when a 1d array was expected. Please change the shape of y to (n_samples, ), for example using ravel().\n",
      "  y = column_or_1d(y, warn=True)\n"
     ]
    }
   ],
   "source": [
    "#test rfe then SVM classifier\n",
    "newX_train,newX_test = rfe_SVM(X_train_40, y_train_40,X_test_40)\n",
    "RFE_SVM_y_predicted = sSVMc(newX_train,newX_test,y_train_40,y_test_40)"
   ]
  },
  {
   "cell_type": "markdown",
   "id": "7b0f8f54",
   "metadata": {},
   "source": [
    "### Plot AUC-ROC Curve"
   ]
  },
  {
   "cell_type": "code",
   "execution_count": 48,
   "id": "b8d6c1c1",
   "metadata": {},
   "outputs": [],
   "source": [
    "def roc(y_tests,y_predicted,models_name,title):  \n",
    "    if len(y_predicted)>2:  \n",
    "        #there are 4 diff colors in max\n",
    "        colors = [\"red\", \"blue\", \"green\", \"orange\"]\n",
    "            \n",
    "        for i in range(int(len(y_predicted)/2)):\n",
    "            fpr, tpr, _ = metrics.roc_curve(y_tests[i],  y_predicted[i])\n",
    "            #create ROC curve\n",
    "            plt.plot(fpr, tpr, linestyle='-',color=colors[i])\n",
    "\n",
    "        counter=0\n",
    "        for i in range(int(len(y_predicted)/2),int(len(y_predicted))):\n",
    "            fpr, tpr, _ = metrics.roc_curve(y_tests[i],  y_predicted[i])\n",
    "            #create ROC curve\n",
    "            plt.plot(fpr, tpr, linestyle='--',color=colors[counter])\n",
    "            counter+=1\n",
    "    \n",
    "    else:\n",
    "        for i in range(int(len(y_predicted))):\n",
    "            fpr, tpr, _ = metrics.roc_curve(y_tests[i],  y_predicted[i])\n",
    "            #create ROC curve\n",
    "            plt.plot(fpr, tpr, linestyle='-')\n",
    "    \n",
    "    plt.plot([0, 1], [0, 1], 'k--')\n",
    "    plt.xlim([-0.05, 1.0])\n",
    "    plt.ylim([0.0, 1.05])\n",
    "    plt.legend(models_name)\n",
    "    plt.ylabel('True Positive Rate')\n",
    "    plt.xlabel('False Positive Rate')\n",
    "    plt.title(title)\n",
    "    plt.show()"
   ]
  },
  {
   "cell_type": "code",
   "execution_count": 49,
   "id": "42fb5606",
   "metadata": {},
   "outputs": [
    {
     "name": "stderr",
     "output_type": "stream",
     "text": [
      "C:\\Users\\marti\\AppData\\Local\\Temp\\ipykernel_18220\\921600576.py:1: VisibleDeprecationWarning: Creating an ndarray from ragged nested sequences (which is a list-or-tuple of lists-or-tuples-or ndarrays with different lengths or shapes) is deprecated. If you meant to do this, you must specify 'dtype=object' when creating the ndarray.\n",
      "  y_tests = np.array([y_test_20,y_test_40])\n",
      "C:\\Users\\marti\\AppData\\Local\\Temp\\ipykernel_18220\\921600576.py:2: VisibleDeprecationWarning: Creating an ndarray from ragged nested sequences (which is a list-or-tuple of lists-or-tuples-or ndarrays with different lengths or shapes) is deprecated. If you meant to do this, you must specify 'dtype=object' when creating the ndarray.\n",
      "  y_preds = np.array([RFE_XGB_y_predicted,RFE_SVM_y_predicted])\n"
     ]
    },
    {
     "data": {
      "image/png": "[encoded data removed]",
      "text/plain": [
       "<Figure size 432x288 with 1 Axes>"
      ]
     },
     "metadata": {
      "needs_background": "light"
     },
     "output_type": "display_data"
    }
   ],
   "source": [
    "y_tests = np.array([y_test_20,y_test_40])\n",
    "y_preds = np.array([RFE_XGB_y_predicted,RFE_SVM_y_predicted])\n",
    "models_name=np.array(['RFE_XGBc 20%','RFE_SVM 40%'])\n",
    "title = 'ROC curve of stronger models using RFE'\n",
    "roc(y_tests,y_preds,models_name,title)"
   ]
  },
  {
   "cell_type": "code",
   "execution_count": 34,
   "id": "d6b2b054",
   "metadata": {},
   "outputs": [
    {
     "name": "stderr",
     "output_type": "stream",
     "text": [
      "C:\\Users\\marti\\AppData\\Local\\Temp\\ipykernel_18220\\2862004269.py:1: VisibleDeprecationWarning: Creating an ndarray from ragged nested sequences (which is a list-or-tuple of lists-or-tuples-or ndarrays with different lengths or shapes) is deprecated. If you meant to do this, you must specify 'dtype=object' when creating the ndarray.\n",
      "  y_tests = np.array([y_test_20,y_test_20,y_test_20,y_test_20,y_test_40,y_test_40,y_test_40,y_test_40])\n",
      "C:\\Users\\marti\\AppData\\Local\\Temp\\ipykernel_18220\\2862004269.py:2: VisibleDeprecationWarning: Creating an ndarray from ragged nested sequences (which is a list-or-tuple of lists-or-tuples-or ndarrays with different lengths or shapes) is deprecated. If you meant to do this, you must specify 'dtype=object' when creating the ndarray.\n",
      "  y_preds = np.array([sXGBc_y_predicted_20,sSVM_y_predicted_20,sRFC_y_predicted_20,sLR_y_predicted_20,sXGBc_y_predicted_40,sSVM_y_predicted_40,sRFC_y_predicted_40,sLR_y_predicted_40])\n"
     ]
    },
    {
     "data": {
      "image/png": "[encoded data removed]",
      "text/plain": [
       "<Figure size 432x288 with 1 Axes>"
      ]
     },
     "metadata": {
      "needs_background": "light"
     },
     "output_type": "display_data"
    }
   ],
   "source": [
    "y_tests = np.array([y_test_20,y_test_20,y_test_20,y_test_20,y_test_40,y_test_40,y_test_40,y_test_40])\n",
    "y_preds = np.array([sXGBc_y_predicted_20,sSVM_y_predicted_20,sRFC_y_predicted_20,sLR_y_predicted_20,sXGBc_y_predicted_40,sSVM_y_predicted_40,sRFC_y_predicted_40,sLR_y_predicted_40])\n",
    "models_name=np.array(['XGBc 20%','SVM 20%','RFC 20%','LR 20%','XGBc 40%','SVM 40%','RFC 40%','LR 40%'])\n",
    "title = 'ROC curve of simple models with split 80/20 and 60/40'\n",
    "roc(y_tests,y_preds,models_name,title)"
   ]
  },
  {
   "cell_type": "markdown",
   "id": "b17e3d52",
   "metadata": {},
   "source": [
    "## Hyperparameter tuning XGBoost classifier"
   ]
  },
  {
   "cell_type": "markdown",
   "id": "43353abf",
   "metadata": {},
   "source": [
    "### Using Evolutionary Computation"
   ]
  },
  {
   "cell_type": "code",
   "execution_count": 8,
   "id": "0c85ca4f",
   "metadata": {},
   "outputs": [],
   "source": [
    "random.seed(723)\n",
    "np.random.seed(723)\n",
    "\n",
    "def initilialize_poplulation(numberOfParents):\n",
    "    learningRate = np.empty([numberOfParents, 1])\n",
    "    nEstimators = np.empty([numberOfParents, 1], dtype = np.uint8)\n",
    "    maxDepth = np.empty([numberOfParents, 1], dtype = np.uint8)\n",
    "    minChildWeight = np.empty([numberOfParents, 1])\n",
    "    gammaValue = np.empty([numberOfParents, 1])\n",
    "    subSample = np.empty([numberOfParents, 1])\n",
    "    colSampleByTree =  np.empty([numberOfParents, 1])\n",
    "\n",
    "    for i in range(numberOfParents):\n",
    "        learningRate[i] = round(random.uniform(0.01, 1), 2)\n",
    "        nEstimators[i] = random.randrange(10, 1500, step = 25)\n",
    "        maxDepth[i] = int(random.randrange(1, 10, step= 1))\n",
    "        minChildWeight[i] = round(random.uniform(0.01, 10.0), 2)\n",
    "        gammaValue[i] = round(random.uniform(0.01, 10.0), 2)\n",
    "        subSample[i] = round(random.uniform(0.01, 1.0), 2)\n",
    "        colSampleByTree[i] = round(random.uniform(0.01, 1.0), 2)\n",
    "    \n",
    "    population = np.concatenate((learningRate, nEstimators, maxDepth, minChildWeight, gammaValue, subSample, colSampleByTree), axis= 1)\n",
    "    return population\n",
    "\n",
    "   \n",
    "\n",
    "def fitness_accuracy_score(y_true, y_pred):\n",
    "    fitness = round((accuracy_score(y_true, y_pred)), 4)\n",
    "    return fitness\n",
    "\n",
    "def train_population(population, dMatrixTrain, dMatrixtest, y_test):\n",
    "    aScore = []\n",
    "    for i in range(population.shape[0]):\n",
    "        param = { 'objective':'binary:logistic',\n",
    "              'learning_rate': population[i][0],\n",
    "              'n_estimators': population[i][1], \n",
    "              'max_depth': int(population[i][2]), \n",
    "              'min_child_weight': population[i][3],\n",
    "              'gamma': population[i][4], \n",
    "              'subsample': population[i][5],\n",
    "              'colsample_bytree': population[i][6],\n",
    "              'seed': 24}\n",
    "        num_round = 100\n",
    "        xgbT = xgb.train(param, dMatrixTrain, num_round)\n",
    "        preds = xgbT.predict(dMatrixtest)\n",
    "        preds = preds>0.5\n",
    "        aScore.append(fitness_accuracy_score(y_test, preds))\n",
    "    return aScore\n",
    "\n",
    "\n",
    "\n",
    "def new_parents_selection(population, fitness, numParents):\n",
    "    selectedParents = np.empty((numParents, population.shape[1])) \n",
    "    \n",
    "    for parentId in range(numParents):\n",
    "        bestFitnessId = np.where(fitness == np.max(fitness))\n",
    "        bestFitnessId  = bestFitnessId[0][0]\n",
    "        selectedParents[parentId, :] = population[bestFitnessId, :]\n",
    "        fitness[bestFitnessId] = -1 \n",
    "    return selectedParents\n",
    "        \n",
    "\n",
    "def crossover_uniform(parents, childrenSize):\n",
    "    \n",
    "    crossoverPointIndex = np.arange(0, np.uint8(childrenSize[1]), 1, dtype= np.uint8)\n",
    "    crossoverPointIndex1 = np.random.randint(0, np.uint8(childrenSize[1]), np.uint8(childrenSize[1]/2)) \n",
    "    crossoverPointIndex2 = np.array(list(set(crossoverPointIndex) - set(crossoverPointIndex1))) \n",
    "    \n",
    "    children = np.empty(childrenSize)\n",
    "    \n",
    "    \n",
    "    for i in range(childrenSize[0]):\n",
    "        \n",
    "        parent1_index = i%parents.shape[0]\n",
    "        parent2_index = (i+1)%parents.shape[0]\n",
    "        children[i, crossoverPointIndex1] = parents[parent1_index, crossoverPointIndex1]\n",
    "        children[i, crossoverPointIndex2] = parents[parent2_index, crossoverPointIndex2]\n",
    "    return children\n",
    "    \n",
    "\n",
    "\n",
    "def mutation(crossover, numberOfParameters):\n",
    "\n",
    "    minMaxValue = np.zeros((numberOfParameters, 2))\n",
    "    \n",
    "    minMaxValue[0:] = [0.01, 1.0] \n",
    "    minMaxValue[1, :] = [10, 2000] \n",
    "    minMaxValue[2, :] = [1, 15] \n",
    "    minMaxValue[3, :] = [0, 10.0] \n",
    "    minMaxValue[4, :] = [0.01, 10.0] \n",
    "    minMaxValue[5, :] = [0.01, 1.0] \n",
    "    minMaxValue[6, :] = [0.01, 1.0] \n",
    " \n",
    "    \n",
    "    mutationValue = 0\n",
    "    parameterSelect = np.random.randint(0, 7, 1)\n",
    "    print(parameterSelect)\n",
    "    if parameterSelect == 0: \n",
    "        mutationValue = round(np.random.uniform(-0.5, 0.5), 2)\n",
    "    if parameterSelect == 1: \n",
    "        mutationValue = np.random.randint(-200, 200, 1)\n",
    "    if parameterSelect == 2:\n",
    "        mutationValue = np.random.randint(-5, 5, 1)\n",
    "    if parameterSelect == 3: \n",
    "        mutationValue = round(np.random.uniform(5, 5), 2)\n",
    "    if parameterSelect == 4: \n",
    "        mutationValue = round(np.random.uniform(-2, 2), 2)\n",
    "    if parameterSelect == 5: \n",
    "        mutationValue = round(np.random.uniform(-0.5, 0.5), 2)\n",
    "    if parameterSelect == 6: \n",
    "        mutationValue = round(np.random.uniform(-0.5, 0.5), 2)\n",
    "  \n",
    "    \n",
    "    for idx in range(crossover.shape[0]):\n",
    "        crossover[idx, parameterSelect] = crossover[idx, parameterSelect] + mutationValue\n",
    "        if(crossover[idx, parameterSelect] > minMaxValue[parameterSelect, 1]):\n",
    "            crossover[idx, parameterSelect] = minMaxValue[parameterSelect, 1]\n",
    "        if(crossover[idx, parameterSelect] < minMaxValue[parameterSelect, 0]):\n",
    "            crossover[idx, parameterSelect] = minMaxValue[parameterSelect, 0]    \n",
    "    return crossover"
   ]
  },
  {
   "cell_type": "code",
   "execution_count": 9,
   "id": "9f0cfc57",
   "metadata": {},
   "outputs": [],
   "source": [
    "def hyp_param_ev_algo(X_train, y_train):\n",
    "    \n",
    "    hyp_X_train, hyp_X_test, hyp_y_train, hyp_y_test = train_test_split(X_train, y_train, test_size = 0.80, random_state = 97,stratify=y_train)\n",
    "\n",
    "    xgDMatrix = xgb.DMatrix(hyp_X_train, hyp_y_train) \n",
    "    xgbDMatrixTest = xgb.DMatrix(hyp_X_test, hyp_y_test)\n",
    "\n",
    "    numberOfParents = 100 \n",
    "    numberOfParentsMating = int(numberOfParents/2)\n",
    "    numberOfParameters = 7 \n",
    "    numberOfGenerations = 5\n",
    "\n",
    "    populationSize = (numberOfParents, numberOfParameters)\n",
    "    population = initilialize_poplulation(numberOfParents)\n",
    "\n",
    "    fitnessHistory = np.empty([numberOfGenerations+1, numberOfParents])\n",
    "    populationHistory = np.empty([(numberOfGenerations+1)*numberOfParents, numberOfParameters])\n",
    "    populationHistory[0:numberOfParents, :] = population\n",
    "\n",
    "    for generation in range(numberOfGenerations):\n",
    "        \n",
    "        fitnessValue = train_population(population=population, dMatrixTrain=xgDMatrix, dMatrixtest=xgbDMatrixTest, y_test=hyp_y_test)\n",
    "        fitnessHistory[generation, :] = fitnessValue\n",
    "\n",
    "        print('Best Iteration',generation ,'Accuracy on train set = {}'.format(np.max(fitnessHistory[generation, :])))\n",
    "\n",
    "        parents = new_parents_selection(population=population, fitness=fitnessValue, numParents=numberOfParentsMating)\n",
    "        children = crossover_uniform(parents=parents, childrenSize=(populationSize[0] - parents.shape[0], numberOfParameters))\n",
    "        children_mutated = mutation(children, numberOfParameters)\n",
    "\n",
    "        population[0:parents.shape[0], :] = parents \n",
    "        population[parents.shape[0]:, :] = children_mutated \n",
    "\n",
    "        populationHistory[(generation+1)*numberOfParents : (generation+1)*numberOfParents+ numberOfParents , :] = population \n",
    "\n",
    "    fitness = train_population(population=population, dMatrixTrain=xgDMatrix, dMatrixtest=xgbDMatrixTest, y_test=hyp_y_test)\n",
    "    fitnessHistory[generation+1, :] = fitness\n",
    "\n",
    "    bestFitnessIndex = np.where(fitness == np.max(fitness))[0][0]\n",
    "\n",
    "    print(\"Best fitness is =\", fitness[bestFitnessIndex])\n",
    "\n",
    "\n",
    "    print(\"Best parameters are:\")\n",
    "    print('learning_rate', population[bestFitnessIndex][0])\n",
    "    print('n_estimators', population[bestFitnessIndex][1])\n",
    "    print('max_depth', int(population[bestFitnessIndex][2])) \n",
    "    print('min_child_weight', population[bestFitnessIndex][3])\n",
    "    print('gamma', population[bestFitnessIndex][4])\n",
    "    print('subsample', population[bestFitnessIndex][5])\n",
    "    print('colsample_bytree', population[bestFitnessIndex][6])\n",
    "    \n",
    "    return population[bestFitnessIndex][0],population[bestFitnessIndex][1],population[bestFitnessIndex][2],population[bestFitnessIndex][3],population[bestFitnessIndex][4],population[bestFitnessIndex][5],population[bestFitnessIndex][6]"
   ]
  },
  {
   "cell_type": "markdown",
   "id": "02aa068d",
   "metadata": {},
   "source": [
    "### BACKWARD ORDER) First RFE, then tuning hyperparameters on selected features"
   ]
  },
  {
   "cell_type": "code",
   "execution_count": 43,
   "id": "7eacc83a",
   "metadata": {},
   "outputs": [
    {
     "name": "stdout",
     "output_type": "stream",
     "text": [
      "1) RFE:\n",
      "We kept 8 features out of the 320\n",
      "2) XGB with RFE features:\n",
      "              precision    recall  f1-score   support\n",
      "\n",
      "           0       0.50      0.30      0.37        10\n",
      "           1       0.67      0.82      0.74        17\n",
      "\n",
      "    accuracy                           0.63        27\n",
      "   macro avg       0.58      0.56      0.56        27\n",
      "weighted avg       0.60      0.63      0.60        27\n",
      "\n",
      "Accuracy: 0.6296296296296297\n",
      "MCC = 0.14348601079588788\n",
      "AUC = 0.5617647058823529\n",
      "3) XGB with RFE features & Hyperparameter tuning:\n",
      "Best Iteration 0 Accuracy on train set = 0.6782\n",
      "[0]\n",
      "Best Iteration 1 Accuracy on train set = 0.7241\n",
      "[0]\n",
      "Best Iteration 2 Accuracy on train set = 0.7241\n",
      "[3]\n",
      "Best Iteration 3 Accuracy on train set = 0.7241\n",
      "[6]\n",
      "Best Iteration 4 Accuracy on train set = 0.7241\n",
      "[4]\n"
     ]
    },
    {
     "ename": "KeyboardInterrupt",
     "evalue": "",
     "output_type": "error",
     "traceback": [
      "\u001b[1;31m---------------------------------------------------------------------------\u001b[0m",
      "\u001b[1;31mKeyboardInterrupt\u001b[0m                         Traceback (most recent call last)",
      "Input \u001b[1;32mIn [43]\u001b[0m, in \u001b[0;36m<cell line: 7>\u001b[1;34m()\u001b[0m\n\u001b[0;32m      5\u001b[0m XGB_class(newX_train,newX_test,y_train_20,y_test_20,\u001b[38;5;241m0\u001b[39m,\u001b[38;5;241m0\u001b[39m,\u001b[38;5;241m0\u001b[39m,\u001b[38;5;241m0\u001b[39m,\u001b[38;5;241m0\u001b[39m,\u001b[38;5;241m0\u001b[39m,\u001b[38;5;241m0\u001b[39m,simple\u001b[38;5;241m=\u001b[39m\u001b[38;5;28;01mTrue\u001b[39;00m)\n\u001b[0;32m      6\u001b[0m \u001b[38;5;28mprint\u001b[39m(\u001b[38;5;124m'\u001b[39m\u001b[38;5;124m3) XGB with RFE features & Hyperparameter tuning:\u001b[39m\u001b[38;5;124m'\u001b[39m)\n\u001b[1;32m----> 7\u001b[0m learning_rate, n_estimators, max_depth, min_child_weight,gamma, subsample,colsample_bytree \u001b[38;5;241m=\u001b[39m \u001b[43mhyp_param_ev_algo\u001b[49m\u001b[43m(\u001b[49m\u001b[43mnewX_train\u001b[49m\u001b[43m,\u001b[49m\u001b[43m \u001b[49m\u001b[43my_train_20\u001b[49m\u001b[43m)\u001b[49m\n\u001b[0;32m      8\u001b[0m XGB_class(newX_train,newX_test,y_train_20,y_test_20,learning_rate, n_estimators, max_depth, min_child_weight,gamma, subsample,colsample_bytree,simple\u001b[38;5;241m=\u001b[39m\u001b[38;5;28;01mFalse\u001b[39;00m)\n",
      "Input \u001b[1;32mIn [42]\u001b[0m, in \u001b[0;36mhyp_param_ev_algo\u001b[1;34m(X_train, y_train)\u001b[0m\n\u001b[0;32m     32\u001b[0m     population[parents\u001b[38;5;241m.\u001b[39mshape[\u001b[38;5;241m0\u001b[39m]:, :] \u001b[38;5;241m=\u001b[39m children_mutated \n\u001b[0;32m     34\u001b[0m     populationHistory[(generation\u001b[38;5;241m+\u001b[39m\u001b[38;5;241m1\u001b[39m)\u001b[38;5;241m*\u001b[39mnumberOfParents : (generation\u001b[38;5;241m+\u001b[39m\u001b[38;5;241m1\u001b[39m)\u001b[38;5;241m*\u001b[39mnumberOfParents\u001b[38;5;241m+\u001b[39m numberOfParents , :] \u001b[38;5;241m=\u001b[39m population \n\u001b[1;32m---> 36\u001b[0m fitness \u001b[38;5;241m=\u001b[39m \u001b[43mtrain_population\u001b[49m\u001b[43m(\u001b[49m\u001b[43mpopulation\u001b[49m\u001b[38;5;241;43m=\u001b[39;49m\u001b[43mpopulation\u001b[49m\u001b[43m,\u001b[49m\u001b[43m \u001b[49m\u001b[43mdMatrixTrain\u001b[49m\u001b[38;5;241;43m=\u001b[39;49m\u001b[43mxgDMatrix\u001b[49m\u001b[43m,\u001b[49m\u001b[43m \u001b[49m\u001b[43mdMatrixtest\u001b[49m\u001b[38;5;241;43m=\u001b[39;49m\u001b[43mxgbDMatrixTest\u001b[49m\u001b[43m,\u001b[49m\u001b[43m \u001b[49m\u001b[43my_test\u001b[49m\u001b[38;5;241;43m=\u001b[39;49m\u001b[43mhyp_y_test\u001b[49m\u001b[43m)\u001b[49m\n\u001b[0;32m     37\u001b[0m fitnessHistory[generation\u001b[38;5;241m+\u001b[39m\u001b[38;5;241m1\u001b[39m, :] \u001b[38;5;241m=\u001b[39m fitness\n\u001b[0;32m     39\u001b[0m bestFitnessIndex \u001b[38;5;241m=\u001b[39m np\u001b[38;5;241m.\u001b[39mwhere(fitness \u001b[38;5;241m==\u001b[39m np\u001b[38;5;241m.\u001b[39mmax(fitness))[\u001b[38;5;241m0\u001b[39m][\u001b[38;5;241m0\u001b[39m]\n",
      "Input \u001b[1;32mIn [35]\u001b[0m, in \u001b[0;36mtrain_population\u001b[1;34m(population, dMatrixTrain, dMatrixtest, y_test)\u001b[0m\n\u001b[0;32m     34\u001b[0m param \u001b[38;5;241m=\u001b[39m { \u001b[38;5;124m'\u001b[39m\u001b[38;5;124mobjective\u001b[39m\u001b[38;5;124m'\u001b[39m:\u001b[38;5;124m'\u001b[39m\u001b[38;5;124mbinary:logistic\u001b[39m\u001b[38;5;124m'\u001b[39m,\n\u001b[0;32m     35\u001b[0m       \u001b[38;5;124m'\u001b[39m\u001b[38;5;124mlearning_rate\u001b[39m\u001b[38;5;124m'\u001b[39m: population[i][\u001b[38;5;241m0\u001b[39m],\n\u001b[0;32m     36\u001b[0m       \u001b[38;5;124m'\u001b[39m\u001b[38;5;124mn_estimators\u001b[39m\u001b[38;5;124m'\u001b[39m: population[i][\u001b[38;5;241m1\u001b[39m], \n\u001b[1;32m   (...)\u001b[0m\n\u001b[0;32m     41\u001b[0m       \u001b[38;5;124m'\u001b[39m\u001b[38;5;124mcolsample_bytree\u001b[39m\u001b[38;5;124m'\u001b[39m: population[i][\u001b[38;5;241m6\u001b[39m],\n\u001b[0;32m     42\u001b[0m       \u001b[38;5;124m'\u001b[39m\u001b[38;5;124mseed\u001b[39m\u001b[38;5;124m'\u001b[39m: \u001b[38;5;241m24\u001b[39m}\n\u001b[0;32m     43\u001b[0m num_round \u001b[38;5;241m=\u001b[39m \u001b[38;5;241m100\u001b[39m\n\u001b[1;32m---> 44\u001b[0m xgbT \u001b[38;5;241m=\u001b[39m \u001b[43mxgb\u001b[49m\u001b[38;5;241;43m.\u001b[39;49m\u001b[43mtrain\u001b[49m\u001b[43m(\u001b[49m\u001b[43mparam\u001b[49m\u001b[43m,\u001b[49m\u001b[43m \u001b[49m\u001b[43mdMatrixTrain\u001b[49m\u001b[43m,\u001b[49m\u001b[43m \u001b[49m\u001b[43mnum_round\u001b[49m\u001b[43m)\u001b[49m\n\u001b[0;32m     45\u001b[0m preds \u001b[38;5;241m=\u001b[39m xgbT\u001b[38;5;241m.\u001b[39mpredict(dMatrixtest)\n\u001b[0;32m     46\u001b[0m preds \u001b[38;5;241m=\u001b[39m preds\u001b[38;5;241m>\u001b[39m\u001b[38;5;241m0.5\u001b[39m\n",
      "File \u001b[1;32m~\\anaconda3\\lib\\site-packages\\xgboost\\core.py:532\u001b[0m, in \u001b[0;36m_deprecate_positional_args.<locals>.inner_f\u001b[1;34m(*args, **kwargs)\u001b[0m\n\u001b[0;32m    530\u001b[0m \u001b[38;5;28;01mfor\u001b[39;00m k, arg \u001b[38;5;129;01min\u001b[39;00m \u001b[38;5;28mzip\u001b[39m(sig\u001b[38;5;241m.\u001b[39mparameters, args):\n\u001b[0;32m    531\u001b[0m     kwargs[k] \u001b[38;5;241m=\u001b[39m arg\n\u001b[1;32m--> 532\u001b[0m \u001b[38;5;28;01mreturn\u001b[39;00m f(\u001b[38;5;241m*\u001b[39m\u001b[38;5;241m*\u001b[39mkwargs)\n",
      "File \u001b[1;32m~\\anaconda3\\lib\\site-packages\\xgboost\\training.py:181\u001b[0m, in \u001b[0;36mtrain\u001b[1;34m(params, dtrain, num_boost_round, evals, obj, feval, maximize, early_stopping_rounds, evals_result, verbose_eval, xgb_model, callbacks, custom_metric)\u001b[0m\n\u001b[0;32m    179\u001b[0m \u001b[38;5;28;01mif\u001b[39;00m cb_container\u001b[38;5;241m.\u001b[39mbefore_iteration(bst, i, dtrain, evals):\n\u001b[0;32m    180\u001b[0m     \u001b[38;5;28;01mbreak\u001b[39;00m\n\u001b[1;32m--> 181\u001b[0m \u001b[43mbst\u001b[49m\u001b[38;5;241;43m.\u001b[39;49m\u001b[43mupdate\u001b[49m\u001b[43m(\u001b[49m\u001b[43mdtrain\u001b[49m\u001b[43m,\u001b[49m\u001b[43m \u001b[49m\u001b[43mi\u001b[49m\u001b[43m,\u001b[49m\u001b[43m \u001b[49m\u001b[43mobj\u001b[49m\u001b[43m)\u001b[49m\n\u001b[0;32m    182\u001b[0m \u001b[38;5;28;01mif\u001b[39;00m cb_container\u001b[38;5;241m.\u001b[39mafter_iteration(bst, i, dtrain, evals):\n\u001b[0;32m    183\u001b[0m     \u001b[38;5;28;01mbreak\u001b[39;00m\n",
      "File \u001b[1;32m~\\anaconda3\\lib\\site-packages\\xgboost\\core.py:1733\u001b[0m, in \u001b[0;36mBooster.update\u001b[1;34m(self, dtrain, iteration, fobj)\u001b[0m\n\u001b[0;32m   1730\u001b[0m \u001b[38;5;28mself\u001b[39m\u001b[38;5;241m.\u001b[39m_validate_features(dtrain)\n\u001b[0;32m   1732\u001b[0m \u001b[38;5;28;01mif\u001b[39;00m fobj \u001b[38;5;129;01mis\u001b[39;00m \u001b[38;5;28;01mNone\u001b[39;00m:\n\u001b[1;32m-> 1733\u001b[0m     _check_call(\u001b[43m_LIB\u001b[49m\u001b[38;5;241;43m.\u001b[39;49m\u001b[43mXGBoosterUpdateOneIter\u001b[49m\u001b[43m(\u001b[49m\u001b[38;5;28;43mself\u001b[39;49m\u001b[38;5;241;43m.\u001b[39;49m\u001b[43mhandle\u001b[49m\u001b[43m,\u001b[49m\n\u001b[0;32m   1734\u001b[0m \u001b[43m                                            \u001b[49m\u001b[43mctypes\u001b[49m\u001b[38;5;241;43m.\u001b[39;49m\u001b[43mc_int\u001b[49m\u001b[43m(\u001b[49m\u001b[43miteration\u001b[49m\u001b[43m)\u001b[49m\u001b[43m,\u001b[49m\n\u001b[0;32m   1735\u001b[0m \u001b[43m                                            \u001b[49m\u001b[43mdtrain\u001b[49m\u001b[38;5;241;43m.\u001b[39;49m\u001b[43mhandle\u001b[49m\u001b[43m)\u001b[49m)\n\u001b[0;32m   1736\u001b[0m \u001b[38;5;28;01melse\u001b[39;00m:\n\u001b[0;32m   1737\u001b[0m     pred \u001b[38;5;241m=\u001b[39m \u001b[38;5;28mself\u001b[39m\u001b[38;5;241m.\u001b[39mpredict(dtrain, output_margin\u001b[38;5;241m=\u001b[39m\u001b[38;5;28;01mTrue\u001b[39;00m, training\u001b[38;5;241m=\u001b[39m\u001b[38;5;28;01mTrue\u001b[39;00m)\n",
      "\u001b[1;31mKeyboardInterrupt\u001b[0m: "
     ]
    }
   ],
   "source": [
    "#test tuning XGB hyperparameters with selected features from RFE\n",
    "print('1) RFE:')\n",
    "newX_train,newX_test = rfe_xgb(X_train_20, y_train_20,X_test_20,0,0,0,0,0,0,0,simple=True)\n",
    "print('2) XGB with RFE features:')\n",
    "XGB_class(newX_train,newX_test,y_train_20,y_test_20,0,0,0,0,0,0,0,simple=True)\n",
    "print('3) XGB with RFE features & Hyperparameter tuning:')\n",
    "learning_rate, n_estimators, max_depth, min_child_weight,gamma, subsample,colsample_bytree = hyp_param_ev_algo(newX_train, y_train_20)\n",
    "XGB_class(newX_train,newX_test,y_train_20,y_test_20,learning_rate, n_estimators, max_depth, min_child_weight,gamma, subsample,colsample_bytree,simple=False)"
   ]
  },
  {
   "cell_type": "markdown",
   "id": "c1077158",
   "metadata": {},
   "source": [
    "### FORWARD ORDER) First Forward feature selection, then tuning hyperparameters on selected features"
   ]
  },
  {
   "cell_type": "code",
   "execution_count": 22,
   "id": "54907f3f",
   "metadata": {},
   "outputs": [],
   "source": [
    "def forward_select(X_train, y_train):\n",
    "    \n",
    "    acc_imp = 0  \n",
    "    last_best_acc=0\n",
    "    features_selected=[]\n",
    "    best_features = []\n",
    "    no_imp_counter=0\n",
    "    \n",
    "    while no_imp_counter<20:\n",
    "        accuracies = []\n",
    "        for i in range(len(X_train)):   \n",
    "            curr_X_train = X_train.iloc[:,i]\n",
    "            for j in range(len(features_selected)):\n",
    "                curr_X_train = pd.concat([curr_X_train, features_selected[j]],axis=1)\n",
    "            fs_X_train, fs_X_test, fs_y_train, fs_y_test = train_test_split(curr_X_train, y_train, test_size = 0.80, random_state = 97,stratify=y_train)\n",
    "\n",
    "            clf = xgb.XGBClassifier(seed = 24, use_label_encoder =False)\n",
    "            clf.fit(fs_X_train, fs_y_train)\n",
    "            y_predicted = clf.predict(fs_X_test)\n",
    "            accuracies.append(accuracy_score(fs_y_test, y_predicted))\n",
    "        \n",
    "        best_feature_idx=np.argmax(accuracies) \n",
    "        print('new best feature added =',X_train.iloc[:,best_feature_idx].name)\n",
    "        features_selected.append(X_train.iloc[:,best_feature_idx])\n",
    "        X_train.drop(X_train.columns[best_feature_idx],axis=1,inplace=True)\n",
    "        \n",
    "        curr_acc=accuracies[best_feature_idx]\n",
    "        print('new acc =',curr_acc)\n",
    "        if curr_acc>last_best_acc:\n",
    "            acc_imp = curr_acc-last_best_acc\n",
    "            last_best_acc = curr_acc\n",
    "            best_features=features_selected.copy()\n",
    "            no_imp_counter=0\n",
    "            print('improvement of',acc_imp)\n",
    "        else:\n",
    "            no_imp_counter+=1\n",
    "            print('no improvement for',no_imp_counter,'times')\n",
    "\n",
    "    \n",
    "    print('-> last best acc on training set =',last_best_acc)\n",
    "    \n",
    "    best_features_names = []\n",
    "    for i in best_features:\n",
    "        best_features_names.append(i.name)\n",
    "\n",
    "    return best_features_names"
   ]
  },
  {
   "cell_type": "code",
   "execution_count": 21,
   "id": "3655e145",
   "metadata": {},
   "outputs": [
    {
     "name": "stdout",
     "output_type": "stream",
     "text": [
      "1) Forward feature selection:\n",
      "new best feature added = CCKN.NLQNLDPSHR\n",
      "new acc = 0.6551724137931034\n",
      "new best feature added = ALDOA.QLLLTADDR\n",
      "new acc = 0.6896551724137931\n",
      "new best feature added = B3GN1.YEAAVPDPR\n",
      "new acc = 0.735632183908046\n",
      "new best feature added = CO3.IHWESASLLR\n",
      "new acc = 0.7701149425287356\n",
      "new best feature added = BASP1.ETPAATEAPSSTPK\n",
      "new acc = 0.7816091954022989\n",
      "new best feature added = CNTP2.YSSSDWVTQYR\n",
      "new acc = 0.7931034482758621\n",
      "new best feature added = AATC.LALGDDSPALK\n",
      "new acc = 0.7816091954022989\n",
      "no improvement for 1 times\n",
      "new best feature added = CA2D1.FVVTDGGITR\n",
      "new acc = 0.7701149425287356\n",
      "no improvement for 2 times\n",
      "new best feature added = B3GN1.EPGEFALLR\n",
      "new acc = 0.8045977011494253\n",
      "new best feature added = APLP2.HYQHVLAVDPEK\n",
      "new acc = 0.7931034482758621\n",
      "no improvement for 1 times\n",
      "new best feature added = CMGA.YPGPQAEGDSEGLSQGLVDR\n",
      "new acc = 0.7931034482758621\n",
      "no improvement for 2 times\n",
      "new best feature added = CNTN1.TTKPYPADIVVQFK\n",
      "new acc = 0.7931034482758621\n",
      "no improvement for 3 times\n",
      "new best feature added = CNTN2.IIVQAQPEWLK\n",
      "new acc = 0.7931034482758621\n",
      "no improvement for 4 times\n",
      "new best feature added = CNTN2.TTGPGGDGIPAEVHIVR\n",
      "new acc = 0.7931034482758621\n",
      "no improvement for 5 times\n",
      "new best feature added = APLP2.WYFDLSK\n",
      "new acc = 0.7701149425287356\n",
      "no improvement for 6 times\n",
      "new best feature added = AMD.IVQFSPSGK\n",
      "new acc = 0.7816091954022989\n",
      "no improvement for 7 times\n",
      "new best feature added = AMD.NGQWTLIGR\n",
      "new acc = 0.7816091954022989\n",
      "no improvement for 8 times\n",
      "new best feature added = CMGA.SGEATDGARPQALPEPMQESK\n",
      "new acc = 0.7701149425287356\n",
      "no improvement for 9 times\n",
      "new best feature added = CA2D1.TASGVNQLVDIYEK\n",
      "new acc = 0.7701149425287356\n",
      "no improvement for 10 times\n",
      "new best feature added = CNTP2.HELQHPIIAR\n",
      "new acc = 0.7701149425287356\n",
      "no improvement for 11 times\n",
      "new best feature added = CSTN1.GNLAGLTLR\n",
      "new acc = 0.7701149425287356\n",
      "no improvement for 12 times\n",
      "new best feature added = CSTN1.IHGQNVPFDAVVVDK\n",
      "new acc = 0.7701149425287356\n",
      "no improvement for 13 times\n",
      "new best feature added = BTD.SHLIIAQVAK\n",
      "new acc = 0.7586206896551724\n",
      "no improvement for 14 times\n",
      "new best feature added = CATL1.VFQEPLFYEAPR\n",
      "new acc = 0.7586206896551724\n",
      "no improvement for 15 times\n",
      "new best feature added = CMGA.SGELEQEEER\n",
      "new acc = 0.7471264367816092\n",
      "no improvement for 16 times\n",
      "new best feature added = AACT.ADLSGITGAR\n",
      "new acc = 0.7586206896551724\n",
      "no improvement for 17 times\n",
      "new best feature added = A1AT.SVLGQLGITK\n",
      "new acc = 0.8160919540229885\n",
      "new best feature added = A4.WYFDVTEGK\n",
      "new acc = 0.8160919540229885\n",
      "no improvement for 1 times\n",
      "new best feature added = CA2D1.IKPVFIEDANFGR\n",
      "new acc = 0.8160919540229885\n",
      "no improvement for 2 times\n",
      "new best feature added = APOE.LGPLVEQGR\n",
      "new acc = 0.7816091954022989\n",
      "no improvement for 3 times\n",
      "new best feature added = AATM.FVTVQTISGTGALR\n",
      "new acc = 0.7701149425287356\n",
      "no improvement for 4 times\n",
      "new best feature added = A1BG.NGVAQEPVHLDSPAIK\n",
      "new acc = 0.7701149425287356\n",
      "no improvement for 5 times\n",
      "new best feature added = APOE.AATVGSLAGQPLQER\n",
      "new acc = 0.7701149425287356\n",
      "no improvement for 6 times\n",
      "new best feature added = CNTN1.DGEYVVEVR\n",
      "new acc = 0.7701149425287356\n",
      "no improvement for 7 times\n",
      "new best feature added = CO2.HAIILLTDGK\n",
      "new acc = 0.7701149425287356\n",
      "no improvement for 8 times\n",
      "new best feature added = APOE.LAVYQAGAR\n",
      "new acc = 0.7586206896551724\n",
      "no improvement for 9 times\n",
      "new best feature added = EXTL2.VIVVWNNIGEK\n",
      "new acc = 0.7471264367816092\n",
      "no improvement for 10 times\n",
      "new best feature added = CLUS.SGSGLVGR\n",
      "new acc = 0.7586206896551724\n",
      "no improvement for 11 times\n",
      "new best feature added = CAD13.DIQGSLQDIFK\n",
      "new acc = 0.7701149425287356\n",
      "no improvement for 12 times\n",
      "new best feature added = AMD.IPVDEEAFVIDFKPR\n",
      "new acc = 0.7586206896551724\n",
      "no improvement for 13 times\n",
      "new best feature added = CADM3.EGSVPPLK\n",
      "new acc = 0.7586206896551724\n",
      "no improvement for 14 times\n",
      "new best feature added = APOB.IAELSATAQEIIK\n",
      "new acc = 0.7701149425287356\n",
      "no improvement for 15 times\n",
      "new best feature added = CNTN2.VIASNILGTGEPSGPSSK\n",
      "new acc = 0.7701149425287356\n",
      "no improvement for 16 times\n",
      "new best feature added = FAM3C.SPFEQHIK\n",
      "new acc = 0.7701149425287356\n",
      "no improvement for 17 times\n",
      "new best feature added = FETUA.AHYDLR\n",
      "new acc = 0.7701149425287356\n",
      "no improvement for 18 times\n",
      "new best feature added = APOD.VLNQELR\n",
      "new acc = 0.7471264367816092\n",
      "no improvement for 19 times\n",
      "new best feature added = APOB.SVSLPSLDPASAK\n",
      "new acc = 0.7586206896551724\n",
      "no improvement for 20 times\n",
      "-> last best acc on training set = 0.8160919540229885\n",
      "We kept 27 features out of the 320\n",
      "2) XGB with forward feature selection\n",
      "              precision    recall  f1-score   support\n",
      "\n",
      "           0       0.50      0.70      0.58        10\n",
      "           1       0.77      0.59      0.67        17\n",
      "\n",
      "    accuracy                           0.63        27\n",
      "   macro avg       0.63      0.64      0.62        27\n",
      "weighted avg       0.67      0.63      0.64        27\n",
      "\n",
      "Accuracy: 0.6296296296296297\n",
      "MCC = 0.27857101420419017\n",
      "AUC = 0.6441176470588236\n"
     ]
    },
    {
     "name": "stderr",
     "output_type": "stream",
     "text": [
      "C:\\Users\\marti\\AppData\\Local\\Temp\\ipykernel_10360\\3651473997.py:5: FutureWarning: Index.__and__ operating as a set operation is deprecated, in the future this will be a logical operation matching Series.__and__.  Use index.intersection(other) instead.\n",
      "  newX_test = X_test_20[(newX_train.columns) & (X_test_20.columns)]\n"
     ]
    },
    {
     "name": "stdout",
     "output_type": "stream",
     "text": [
      "3) XGB with forward feature selection & Hyperparameter tuning:\n",
      "Best Iteration 0 Accuracy on train set = 0.6897\n",
      "[0]\n",
      "Best Iteration 1 Accuracy on train set = 0.6897\n",
      "[0]\n",
      "Best Iteration 2 Accuracy on train set = 0.6897\n",
      "[3]\n",
      "Best Iteration 3 Accuracy on train set = 0.6897\n",
      "[6]\n",
      "Best Iteration 4 Accuracy on train set = 0.6897\n",
      "[4]\n",
      "Best fitness is = 0.6897\n",
      "Best parameters are:\n",
      "learning_rate 0.65\n",
      "n_estimators 160.0\n",
      "max_depth 3\n",
      "min_child_weight 0.94\n",
      "gamma 4.64\n",
      "subsample 0.62\n",
      "colsample_bytree 0.98\n",
      "              precision    recall  f1-score   support\n",
      "\n",
      "           0       0.54      0.70      0.61        10\n",
      "           1       0.79      0.65      0.71        17\n",
      "\n",
      "    accuracy                           0.67        27\n",
      "   macro avg       0.66      0.67      0.66        27\n",
      "weighted avg       0.69      0.67      0.67        27\n",
      "\n",
      "Accuracy: 0.6666666666666666\n",
      "MCC = 0.33542224159280043\n",
      "AUC = 0.6735294117647058\n"
     ]
    },
    {
     "data": {
      "text/plain": [
       "array([0.8889999 , 0.9213829 , 0.8889999 , 0.29832298, 0.8255924 ,\n",
       "       0.28546163, 0.12446294, 0.2621794 , 0.3703395 , 0.63484645,\n",
       "       0.6044139 , 0.622875  , 0.8889999 , 0.03836537, 0.30299366,\n",
       "       0.88582224, 0.3013115 , 0.52149236, 0.9450928 , 0.73587245,\n",
       "       0.27259305, 0.2185532 , 0.3179452 , 0.3671876 , 0.7317655 ,\n",
       "       0.15835619, 0.8599392 ], dtype=float32)"
      ]
     },
     "execution_count": 21,
     "metadata": {},
     "output_type": "execute_result"
    }
   ],
   "source": [
    "#test tuning XGB hyperparameters with selected features from forward selection\n",
    "print('1) Forward feature selection:')\n",
    "fs_best_features = forward_select(X_train_20.copy(), y_train_20)\n",
    "newX_train = X_train_20.loc[:,fs_best_features]\n",
    "newX_test = X_test_20[(newX_train.columns) & (X_test_20.columns)]\n",
    "print('We kept',newX_train.shape[1],'features out of the',X_train_20.shape[1])\n",
    "print('2) XGB with forward feature selection')\n",
    "XGB_class(newX_train,newX_test,y_train_20,y_test_20,0,0,0,0,0,0,0,simple=True)\n",
    "print('3) XGB with forward feature selection & Hyperparameter tuning:')\n",
    "learning_rate, n_estimators, max_depth, min_child_weight,gamma, subsample,colsample_bytree = hyp_param_ev_algo(newX_train, y_train_20)\n",
    "XGB_class(newX_train,newX_test,y_train_20,y_test_20,learning_rate, n_estimators, max_depth, min_child_weight,gamma, subsample,colsample_bytree,simple=False)"
   ]
  },
  {
   "cell_type": "code",
   "execution_count": null,
   "id": "70d40f3f",
   "metadata": {},
   "outputs": [],
   "source": []
  }
 ],
 "metadata": {
  "kernelspec": {
   "display_name": "Python 3 (ipykernel)",
   "language": "python",
   "name": "python3"
  },
  "language_info": {
   "codemirror_mode": {
    "name": "ipython",
    "version": 3
   },
   "file_extension": ".py",
   "mimetype": "text/x-python",
   "name": "python",
   "nbconvert_exporter": "python",
   "pygments_lexer": "ipython3",
   "version": "3.9.12"
  }
 },
 "nbformat": 4,
 "nbformat_minor": 5
}
