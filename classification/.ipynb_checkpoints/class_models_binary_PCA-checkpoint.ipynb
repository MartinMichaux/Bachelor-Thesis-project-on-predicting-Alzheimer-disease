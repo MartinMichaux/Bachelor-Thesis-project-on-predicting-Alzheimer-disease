{
 "cells": [
  {
   "cell_type": "markdown",
   "id": "d0117683",
   "metadata": {},
   "source": [
    "# Build binary classification models that use PCA components"
   ]
  },
  {
   "cell_type": "code",
   "execution_count": 1,
   "id": "70e18535",
   "metadata": {},
   "outputs": [],
   "source": [
    "import numpy as np\n",
    "import pandas as pd\n",
    "import matplotlib.pyplot as plt\n",
    "import seaborn as sns\n",
    "from scipy.stats import poisson\n",
    "from sklearn.svm import SVC \n",
    "from sklearn.metrics import accuracy_score, classification_report\n",
    "from numpy import mean\n",
    "from numpy import std\n",
    "from sklearn.datasets import make_classification\n",
    "from sklearn.model_selection import cross_val_score\n",
    "from sklearn.model_selection import RepeatedStratifiedKFold\n",
    "from sklearn.ensemble import RandomForestClassifier\n",
    "from sklearn.linear_model import LogisticRegression\n",
    "from sklearn.ensemble import RandomForestClassifier\n",
    "from sklearn.model_selection import StratifiedKFold\n",
    "import xgboost as xgb\n",
    "xgb.set_config(verbosity=0)\n",
    "from sklearn.feature_selection import RFECV\n",
    "import random\n",
    "from scipy import stats\n",
    "from sklearn.model_selection import train_test_split \n",
    "from sklearn.preprocessing import MinMaxScaler\n",
    "from sklearn.decomposition import PCA\n",
    "from sklearn.metrics import matthews_corrcoef\n",
    "from sklearn import metrics\n",
    "pd.set_option('display.max_columns', None)"
   ]
  },
  {
   "cell_type": "markdown",
   "id": "ee4e3475",
   "metadata": {},
   "source": [
    "## Preprocessing"
   ]
  },
  {
   "cell_type": "code",
   "execution_count": 2,
   "id": "8c8f6110",
   "metadata": {},
   "outputs": [],
   "source": [
    "df = pd.read_csv(\"dataset\\CSF_Proteomics_ADNI.csv\")\n",
    "\n",
    "#replace categorical feature with index labeling\n",
    "df['binary_class'].replace({'stable':0,'decliner':1},inplace=True)\n",
    "df['three_class'].replace({'slowDecline':0,'rapidDecline':1,'stable':2},inplace=True)\n",
    "\n",
    "#differentiate other categorical features from the numerical ones\n",
    "pheno = df.loc[:,'RID':'VISCODE']\n",
    "data = df.loc[:,'A1AT.AVLTIDEK':'VTDB.VPTADLEDVLPLAEDITNILSK']\n",
    "\n",
    "## Normalization\n",
    "\n",
    "#normally test function -> check if each column is normally distr\n",
    "def norm_test(data):\n",
    "    alpha = 1e-3\n",
    "    k2, p = stats.normaltest(data)\n",
    "    count=0\n",
    "    for i in p:\n",
    "        if i > alpha:  # null hypothesis: x comes from a normal distribution\n",
    "            count+=1\n",
    "    print('There are ',count,'normally distributed features out of',data.shape[1])\n",
    "\n",
    "#QUANTILE NORMALIZATION\n",
    "def quantile_normalize(df):\n",
    "    df_sorted = pd.DataFrame(np.sort(df.values,axis=0),index=df.index,columns=df.columns)\n",
    "    df_mean = df_sorted.mean(axis=1)\n",
    "    df_mean.index = np.arange(1, len(df_mean) + 1)\n",
    "    df_qn =df.rank(method=\"min\").stack().astype(int).map(df_mean).unstack()\n",
    "    return df_qn\n",
    "\n",
    "# compute quantile normalized data\n",
    "df_qn=quantile_normalize(data)\n",
    "data = df_qn\n",
    "\n",
    "#Scale the data to the range between 0 and 1 before using PCA\n",
    "scaler = MinMaxScaler()\n",
    "data_rescaled = scaler.fit_transform(data)\n",
    "\n",
    "## Split dataset\n",
    "X = data_rescaled\n",
    "y = df[\"binary_class\"]"
   ]
  },
  {
   "cell_type": "markdown",
   "id": "26c797dc",
   "metadata": {},
   "source": [
    "## Test commonly used models using with PCA as feature selection"
   ]
  },
  {
   "cell_type": "code",
   "execution_count": 3,
   "id": "28eebb4e",
   "metadata": {},
   "outputs": [
    {
     "name": "stdout",
     "output_type": "stream",
     "text": [
      "Note that we now have 34 columns instead of 320\n"
     ]
    }
   ],
   "source": [
    "# Make an instance of the model keeping 90% of the features variance\n",
    "pca = PCA(0.90)\n",
    "\n",
    "principalComponents = pca.fit_transform(X)\n",
    "principalDf = pd.DataFrame(data = principalComponents)\n",
    "print('Note that we now have',principalDf.shape[1],'columns instead of',X.shape[1])\n",
    "\n",
    "X_train_20, X_test_20, y_train_20, y_test_20 = train_test_split(principalDf, y, test_size = 0.20, random_state = 97, stratify = y)\n",
    "X_train_40, X_test_40, y_train_40, y_test_40 = train_test_split(principalDf, y, test_size = 0.40, random_state = 97, stratify = y)"
   ]
  },
  {
   "cell_type": "code",
   "execution_count": 13,
   "id": "ac6cfd06",
   "metadata": {},
   "outputs": [
    {
     "data": {
      "image/png": "[encoded data removed]",
      "text/plain": [
       "<Figure size 432x288 with 1 Axes>"
      ]
     },
     "metadata": {
      "needs_background": "light"
     },
     "output_type": "display_data"
    }
   ],
   "source": [
    "PC_values = np.arange(pca.n_components_)\n",
    "plt.plot(np.cumsum(pca.explained_variance_ratio_))\n",
    "plt.title('Cumulative explained variance ratio')\n",
    "plt.xlabel('Number of Principal Components')\n",
    "plt.ylabel('Cumulative explained variance');"
   ]
  },
  {
   "cell_type": "markdown",
   "id": "af91e1e5",
   "metadata": {},
   "source": [
    "### Single xgb classifier for binary class"
   ]
  },
  {
   "cell_type": "code",
   "execution_count": 15,
   "id": "1a3282d2",
   "metadata": {},
   "outputs": [],
   "source": [
    "def XGB_class(X_train, X_test, y_train, y_test,learning_rate, n_estimators, max_depth,min_child_weight, gamma, subsample, colsample_bytree, simple):\n",
    "    \n",
    "    if simple:\n",
    "        clf = xgb.XGBClassifier(seed = 24, use_label_encoder =False)\n",
    "    else:\n",
    "        clf = xgb.XGBClassifier(learning_rate = learning_rate, n_estimators = int(n_estimators), max_depth = int(max_depth), \n",
    "                                min_child_weight = min_child_weight, gamma = gamma, subsample = subsample, \n",
    "                                colsample_bytree = colsample_bytree, seed = 24,eval_metric='mlogloss',use_label_encoder =False)\n",
    "\n",
    "    clf.fit(X_train, y_train)\n",
    "    y_predicted = clf.predict(X_test)\n",
    "\n",
    "    print(classification_report(y_test, y_predicted))\n",
    "    print(\"Accuracy:\", accuracy_score(y_test, y_predicted))\n",
    "    print(\"MCC =\",matthews_corrcoef(y_test, y_predicted))\n",
    "    print(\"AUC =\",metrics.roc_auc_score(y_test, y_predicted))"
   ]
  },
  {
   "cell_type": "code",
   "execution_count": 18,
   "id": "5bb59e29",
   "metadata": {},
   "outputs": [
    {
     "name": "stdout",
     "output_type": "stream",
     "text": [
      "Using 20% testing subset:\n",
      "              precision    recall  f1-score   support\n",
      "\n",
      "           0       0.62      0.50      0.56        10\n",
      "           1       0.74      0.82      0.78        17\n",
      "\n",
      "    accuracy                           0.70        27\n",
      "   macro avg       0.68      0.66      0.67        27\n",
      "weighted avg       0.70      0.70      0.70        27\n",
      "\n",
      "Accuracy: 0.7037037037037037\n",
      "MCC = 0.34214991373298964\n",
      "AUC = 0.6617647058823529\n",
      "Using 40% testing subset:\n",
      "              precision    recall  f1-score   support\n",
      "\n",
      "           0       0.67      0.48      0.56        21\n",
      "           1       0.72      0.85      0.78        33\n",
      "\n",
      "    accuracy                           0.70        54\n",
      "   macro avg       0.69      0.66      0.67        54\n",
      "weighted avg       0.70      0.70      0.69        54\n",
      "\n",
      "Accuracy: 0.7037037037037037\n",
      "MCC = 0.3533767463701098\n",
      "AUC = 0.6623376623376623\n"
     ]
    }
   ],
   "source": [
    "print('Using 20% testing subset:')\n",
    "XGB_class(X_train_20,X_test_20,y_train_20,y_test_20,0,0,0,0,0,0,0,simple=True)\n",
    "print('Using 40% testing subset:')\n",
    "XGB_class(X_train_40,X_test_40,y_train_40,y_test_40,0,0,0,0,0,0,0,simple=True)"
   ]
  },
  {
   "cell_type": "markdown",
   "id": "9601563c",
   "metadata": {},
   "source": [
    "### SVM for binary class"
   ]
  },
  {
   "cell_type": "code",
   "execution_count": 10,
   "id": "06226111",
   "metadata": {},
   "outputs": [],
   "source": [
    "def SVM_class(X_train,X_test,y_train,y_test):\n",
    "    clf = SVC(kernel='linear') \n",
    "    clf.fit(X_train, y_train) \n",
    "    y_predicted = clf.predict(X_test)\n",
    "\n",
    "    print(classification_report(y_test, y_predicted))\n",
    "    print(\"Accuracy:\", accuracy_score(y_test, y_predicted))\n",
    "    print(\"MCC =\",matthews_corrcoef(y_test, y_predicted))\n",
    "    print(\"AUC =\",metrics.roc_auc_score(y_test, y_predicted))"
   ]
  },
  {
   "cell_type": "code",
   "execution_count": 11,
   "id": "88e6f378",
   "metadata": {},
   "outputs": [
    {
     "name": "stdout",
     "output_type": "stream",
     "text": [
      "Using 20% testing subset:\n",
      "              precision    recall  f1-score   support\n",
      "\n",
      "           0       0.67      0.40      0.50        10\n",
      "           1       0.71      0.88      0.79        17\n",
      "\n",
      "    accuracy                           0.70        27\n",
      "   macro avg       0.69      0.64      0.64        27\n",
      "weighted avg       0.70      0.70      0.68        27\n",
      "\n",
      "Accuracy: 0.7037037037037037\n",
      "MCC = 0.32796802467631514\n",
      "Using 40% testing subset:\n",
      "              precision    recall  f1-score   support\n",
      "\n",
      "           0       0.64      0.43      0.51        21\n",
      "           1       0.70      0.85      0.77        33\n",
      "\n",
      "    accuracy                           0.69        54\n",
      "   macro avg       0.67      0.64      0.64        54\n",
      "weighted avg       0.68      0.69      0.67        54\n",
      "\n",
      "Accuracy: 0.6851851851851852\n",
      "MCC = 0.3082056514117678\n"
     ]
    }
   ],
   "source": [
    "print('Using 20% testing subset:')\n",
    "SVM_class(X_train_20,X_test_20,y_train_20,y_test_20)\n",
    "print('Using 40% testing subset:')\n",
    "SVM_class(X_train_40,X_test_40,y_train_40,y_test_40)"
   ]
  },
  {
   "cell_type": "markdown",
   "id": "f4e5ad9a",
   "metadata": {},
   "source": [
    "### Random Forest classifier for binary class"
   ]
  },
  {
   "cell_type": "code",
   "execution_count": 18,
   "id": "7e1689f4",
   "metadata": {},
   "outputs": [],
   "source": [
    "def SRF_class(X_train,X_test,y_train,y_test):\n",
    "    model = RandomForestClassifier().fit(X_train,y_train)\n",
    "    y_predicted = model.predict(X_test)\n",
    "\n",
    "    print(classification_report(y_test, y_predicted))\n",
    "    print(\"Accuracy:\", accuracy_score(y_test, y_predicted))\n",
    "    print(\"MCC =\",matthews_corrcoef(y_test, y_predicted))\n",
    "    print(\"AUC =\",metrics.roc_auc_score(y_test, y_predicted))"
   ]
  },
  {
   "cell_type": "code",
   "execution_count": 19,
   "id": "a4edcd6b",
   "metadata": {},
   "outputs": [
    {
     "name": "stdout",
     "output_type": "stream",
     "text": [
      "Using 20% testing subset:\n",
      "              precision    recall  f1-score   support\n",
      "\n",
      "           0       0.33      0.20      0.25        10\n",
      "           1       0.62      0.76      0.68        17\n",
      "\n",
      "    accuracy                           0.56        27\n",
      "   macro avg       0.48      0.48      0.47        27\n",
      "weighted avg       0.51      0.56      0.52        27\n",
      "\n",
      "Accuracy: 0.5555555555555556\n",
      "MCC = -0.04099600308453939\n",
      "Using 40% testing subset:\n",
      "              precision    recall  f1-score   support\n",
      "\n",
      "           0       0.67      0.29      0.40        21\n",
      "           1       0.67      0.91      0.77        33\n",
      "\n",
      "    accuracy                           0.67        54\n",
      "   macro avg       0.67      0.60      0.58        54\n",
      "weighted avg       0.67      0.67      0.63        54\n",
      "\n",
      "Accuracy: 0.6666666666666666\n",
      "MCC = 0.25482359571881275\n"
     ]
    }
   ],
   "source": [
    "print('Using 20% testing subset:')\n",
    "SRF_class(X_train_20,X_test_20,y_train_20,y_test_20)\n",
    "print('Using 40% testing subset:')\n",
    "SRF_class(X_train_40,X_test_40,y_train_40,y_test_40)"
   ]
  },
  {
   "cell_type": "markdown",
   "id": "dc17aa7b",
   "metadata": {},
   "source": [
    "### Logistic Regression for binary class"
   ]
  },
  {
   "cell_type": "code",
   "execution_count": 20,
   "id": "ce711b96",
   "metadata": {},
   "outputs": [],
   "source": [
    "def LR_class(X_train,X_test,y_train,y_test):\n",
    "    model = LogisticRegression(random_state=0).fit(X_train, y_train)\n",
    "    y_predicted = model.predict(X_test)\n",
    "\n",
    "    print(classification_report(y_test, y_predicted))\n",
    "    print(\"Accuracy:\", accuracy_score(y_test, y_predicted))\n",
    "    print(\"MCC =\",matthews_corrcoef(y_test, y_predicted))\n",
    "    print(\"AUC =\",metrics.roc_auc_score(y_test, y_predicted))"
   ]
  },
  {
   "cell_type": "code",
   "execution_count": 21,
   "id": "4ec8a707",
   "metadata": {},
   "outputs": [
    {
     "name": "stdout",
     "output_type": "stream",
     "text": [
      "Using 20% testing subset:\n",
      "              precision    recall  f1-score   support\n",
      "\n",
      "           0       0.50      0.40      0.44        10\n",
      "           1       0.68      0.76      0.72        17\n",
      "\n",
      "    accuracy                           0.63        27\n",
      "   macro avg       0.59      0.58      0.58        27\n",
      "weighted avg       0.62      0.63      0.62        27\n",
      "\n",
      "Accuracy: 0.6296296296296297\n",
      "MCC = 0.17418541062770382\n",
      "Using 40% testing subset:\n",
      "              precision    recall  f1-score   support\n",
      "\n",
      "           0       0.69      0.52      0.59        21\n",
      "           1       0.74      0.85      0.79        33\n",
      "\n",
      "    accuracy                           0.72        54\n",
      "   macro avg       0.71      0.69      0.69        54\n",
      "weighted avg       0.72      0.72      0.71        54\n",
      "\n",
      "Accuracy: 0.7222222222222222\n",
      "MCC = 0.3974672033225129\n"
     ]
    }
   ],
   "source": [
    "print('Using 20% testing subset:')\n",
    "LR_class(X_train_20,X_test_20,y_train_20,y_test_20)\n",
    "print('Using 40% testing subset:')\n",
    "LR_class(X_train_40,X_test_40,y_train_40,y_test_40)"
   ]
  },
  {
   "cell_type": "markdown",
   "id": "2a0ee59b",
   "metadata": {},
   "source": [
    "### Test which PCA variance is the best for XGBoost classifier model for binary class"
   ]
  },
  {
   "cell_type": "code",
   "execution_count": 4,
   "id": "dce5afdc",
   "metadata": {},
   "outputs": [],
   "source": [
    "variances = np.arange(0.5, 0.99, 0.01).tolist()\n",
    "nbr_tests = 100\n",
    "\n",
    "# Creates a list containing 5 lists, each of 8 items, all set to 0\n",
    "w, h = nbr_tests, len(variances)\n",
    "perf = [[0 for x in range(w)] for y in range(h)] \n",
    "\n",
    "for i in range(nbr_tests):\n",
    "    for j in range(len(variances)):\n",
    "        pca = PCA(variances[j])\n",
    "\n",
    "        principalComponents = pca.fit_transform(X)\n",
    "        principalDf = pd.DataFrame(data = principalComponents)\n",
    "\n",
    "        X_train, X_test, y_train, y_test = train_test_split(principalDf, y, test_size = 0.20)\n",
    "\n",
    "        clf = xgb.XGBClassifier(random_state = random.randint(0,nbr_tests),use_label_encoder =False)\n",
    "        clf.fit(X_train, y_train)\n",
    "        y_predicted = clf.predict(X_test)\n",
    "\n",
    "        acc = accuracy_score(y_test, y_predicted) \n",
    "        perf[j][i] = acc\n",
    "\n",
    "avg_perf = []\n",
    "for i in range(len(perf)):\n",
    "    avg_perf.append(sum(perf[i]) / len(perf[i]))"
   ]
  },
  {
   "cell_type": "code",
   "execution_count": 5,
   "id": "ed8a23e7",
   "metadata": {},
   "outputs": [
    {
     "data": {
      "image/png": "[encoded data removed]",
      "text/plain": [
       "<Figure size 432x288 with 1 Axes>"
      ]
     },
     "metadata": {
      "needs_background": "light"
     },
     "output_type": "display_data"
    },
    {
     "name": "stdout",
     "output_type": "stream",
     "text": [
      "So best variance with the XGBoost Classifier model is 0.9200000000000004\n"
     ]
    }
   ],
   "source": [
    "plt.plot(variances, [item[0] for item in perf], linestyle='--')\n",
    "plt.plot(variances, avg_perf)\n",
    "plt.xlabel('Variance') \n",
    "plt.ylabel('XGBoost accuracy') \n",
    "plt.title(\"XGBoost performance on the PCA variances\")\n",
    "plt.legend(['Single run',('Average of '+str(nbr_tests)+' runs')])\n",
    "plt.show()\n",
    "print(\"So best variance with the XGBoost Classifier model is\",variances[avg_perf.index(max(avg_perf))])"
   ]
  },
  {
   "cell_type": "markdown",
   "id": "c84fd2d8",
   "metadata": {},
   "source": [
    "## Hyperparameter tuning XGBoost classifier using Evolutionary Computation\n",
    "\n",
    "title = Hyperparameter tuning in XGBoost using genetic algorithm,\n",
    "\n",
    "year = 2018,\n",
    "\n",
    "url = https://towardsdatascience.com/hyperparameter-tuning-in-xgboost-using-genetic-algorithm-17bd2e581b17,\n",
    "\n",
    "author = Mohit Jain"
   ]
  },
  {
   "cell_type": "code",
   "execution_count": 22,
   "id": "86eaec27",
   "metadata": {},
   "outputs": [],
   "source": [
    "## Hyperparameter tuning XGBoost classifier\n",
    "\n",
    "random.seed(723)\n",
    "np.random.seed(723)\n",
    "\n",
    "def initilialize_poplulation(numberOfParents):\n",
    "    learningRate = np.empty([numberOfParents, 1])\n",
    "    nEstimators = np.empty([numberOfParents, 1], dtype = np.uint8)\n",
    "    maxDepth = np.empty([numberOfParents, 1], dtype = np.uint8)\n",
    "    minChildWeight = np.empty([numberOfParents, 1])\n",
    "    gammaValue = np.empty([numberOfParents, 1])\n",
    "    subSample = np.empty([numberOfParents, 1])\n",
    "    colSampleByTree =  np.empty([numberOfParents, 1])\n",
    "\n",
    "    for i in range(numberOfParents):\n",
    "        learningRate[i] = round(random.uniform(0.01, 1), 2)\n",
    "        nEstimators[i] = random.randrange(10, 1500, step = 25)\n",
    "        maxDepth[i] = int(random.randrange(1, 10, step= 1))\n",
    "        minChildWeight[i] = round(random.uniform(0.01, 10.0), 2)\n",
    "        gammaValue[i] = round(random.uniform(0.01, 10.0), 2)\n",
    "        subSample[i] = round(random.uniform(0.01, 1.0), 2)\n",
    "        colSampleByTree[i] = round(random.uniform(0.01, 1.0), 2)\n",
    "    \n",
    "    population = np.concatenate((learningRate, nEstimators, maxDepth, minChildWeight, gammaValue, subSample, colSampleByTree), axis= 1)\n",
    "    return population\n",
    "\n",
    "   \n",
    "\n",
    "def fitness_accuracy_score(y_true, y_pred):\n",
    "    fitness = round((accuracy_score(y_true, y_pred)), 4)\n",
    "    return fitness\n",
    "\n",
    "def train_population(population, dMatrixTrain, dMatrixtest, y_test):\n",
    "    aScore = []\n",
    "    for i in range(population.shape[0]):\n",
    "        param = { 'objective':'binary:logistic',\n",
    "              'learning_rate': population[i][0],\n",
    "              'n_estimators': population[i][1], \n",
    "              'max_depth': int(population[i][2]), \n",
    "              'min_child_weight': population[i][3],\n",
    "              'gamma': population[i][4], \n",
    "              'subsample': population[i][5],\n",
    "              'colsample_bytree': population[i][6],\n",
    "              'seed': 24}\n",
    "        num_round = 100\n",
    "        xgbT = xgb.train(param, dMatrixTrain, num_round)\n",
    "        preds = xgbT.predict(dMatrixtest)\n",
    "        preds = preds>0.5\n",
    "        aScore.append(fitness_accuracy_score(y_test, preds))\n",
    "    return aScore\n",
    "\n",
    "\n",
    "\n",
    "def new_parents_selection(population, fitness, numParents):\n",
    "    selectedParents = np.empty((numParents, population.shape[1])) \n",
    "    \n",
    "    for parentId in range(numParents):\n",
    "        bestFitnessId = np.where(fitness == np.max(fitness))\n",
    "        bestFitnessId  = bestFitnessId[0][0]\n",
    "        selectedParents[parentId, :] = population[bestFitnessId, :]\n",
    "        fitness[bestFitnessId] = -1 \n",
    "    return selectedParents\n",
    "        \n",
    "\n",
    "def crossover_uniform(parents, childrenSize):\n",
    "    \n",
    "    crossoverPointIndex = np.arange(0, np.uint8(childrenSize[1]), 1, dtype= np.uint8)\n",
    "    crossoverPointIndex1 = np.random.randint(0, np.uint8(childrenSize[1]), np.uint8(childrenSize[1]/2)) \n",
    "    crossoverPointIndex2 = np.array(list(set(crossoverPointIndex) - set(crossoverPointIndex1))) \n",
    "    \n",
    "    children = np.empty(childrenSize)\n",
    "    \n",
    "    \n",
    "    for i in range(childrenSize[0]):\n",
    "        \n",
    "        parent1_index = i%parents.shape[0]\n",
    "        parent2_index = (i+1)%parents.shape[0]\n",
    "        children[i, crossoverPointIndex1] = parents[parent1_index, crossoverPointIndex1]\n",
    "        children[i, crossoverPointIndex2] = parents[parent2_index, crossoverPointIndex2]\n",
    "    return children\n",
    "    \n",
    "\n",
    "\n",
    "def mutation(crossover, numberOfParameters):\n",
    "\n",
    "    minMaxValue = np.zeros((numberOfParameters, 2))\n",
    "    \n",
    "    minMaxValue[0:] = [0.01, 1.0] \n",
    "    minMaxValue[1, :] = [10, 2000] \n",
    "    minMaxValue[2, :] = [1, 15] \n",
    "    minMaxValue[3, :] = [0, 10.0] \n",
    "    minMaxValue[4, :] = [0.01, 10.0] \n",
    "    minMaxValue[5, :] = [0.01, 1.0] \n",
    "    minMaxValue[6, :] = [0.01, 1.0] \n",
    " \n",
    "    \n",
    "    mutationValue = 0\n",
    "    parameterSelect = np.random.randint(0, 7, 1)\n",
    "    print(parameterSelect)\n",
    "    if parameterSelect == 0: \n",
    "        mutationValue = round(np.random.uniform(-0.5, 0.5), 2)\n",
    "    if parameterSelect == 1: \n",
    "        mutationValue = np.random.randint(-200, 200, 1)\n",
    "    if parameterSelect == 2:\n",
    "        mutationValue = np.random.randint(-5, 5, 1)\n",
    "    if parameterSelect == 3: \n",
    "        mutationValue = round(np.random.uniform(5, 5), 2)\n",
    "    if parameterSelect == 4: \n",
    "        mutationValue = round(np.random.uniform(-2, 2), 2)\n",
    "    if parameterSelect == 5: \n",
    "        mutationValue = round(np.random.uniform(-0.5, 0.5), 2)\n",
    "    if parameterSelect == 6: \n",
    "        mutationValue = round(np.random.uniform(-0.5, 0.5), 2)\n",
    "  \n",
    "    \n",
    "    for idx in range(crossover.shape[0]):\n",
    "        crossover[idx, parameterSelect] = crossover[idx, parameterSelect] + mutationValue\n",
    "        if(crossover[idx, parameterSelect] > minMaxValue[parameterSelect, 1]):\n",
    "            crossover[idx, parameterSelect] = minMaxValue[parameterSelect, 1]\n",
    "        if(crossover[idx, parameterSelect] < minMaxValue[parameterSelect, 0]):\n",
    "            crossover[idx, parameterSelect] = minMaxValue[parameterSelect, 0]    \n",
    "    return crossover\n",
    "\n",
    "def hyp_param_ev_algo(X_train, y_train):\n",
    "    \n",
    "    hyp_X_train, hyp_X_test, hyp_y_train, hyp_y_test = train_test_split(X_train, y_train, test_size = 0.80, random_state = 97,stratify=y_train)\n",
    "\n",
    "    xgDMatrix = xgb.DMatrix(hyp_X_train, hyp_y_train) \n",
    "    xgbDMatrixTest = xgb.DMatrix(hyp_X_test, hyp_y_test)\n",
    "\n",
    "    numberOfParents = 100 \n",
    "    numberOfParentsMating = int(numberOfParents/2)\n",
    "    numberOfParameters = 7 \n",
    "    numberOfGenerations = 10\n",
    "\n",
    "    populationSize = (numberOfParents, numberOfParameters)\n",
    "    population = initilialize_poplulation(numberOfParents)\n",
    "\n",
    "    fitnessHistory = np.empty([numberOfGenerations+1, numberOfParents])\n",
    "    populationHistory = np.empty([(numberOfGenerations+1)*numberOfParents, numberOfParameters])\n",
    "    populationHistory[0:numberOfParents, :] = population\n",
    "\n",
    "    for generation in range(numberOfGenerations):\n",
    "        \n",
    "        fitnessValue = train_population(population=population, dMatrixTrain=xgDMatrix, dMatrixtest=xgbDMatrixTest, y_test=hyp_y_test)\n",
    "        fitnessHistory[generation, :] = fitnessValue\n",
    "\n",
    "        print('Best Iteration',generation ,'Accuracy on train set = {}'.format(np.max(fitnessHistory[generation, :])))\n",
    "\n",
    "        parents = new_parents_selection(population=population, fitness=fitnessValue, numParents=numberOfParentsMating)\n",
    "        children = crossover_uniform(parents=parents, childrenSize=(populationSize[0] - parents.shape[0], numberOfParameters))\n",
    "        children_mutated = mutation(children, numberOfParameters)\n",
    "\n",
    "        population[0:parents.shape[0], :] = parents \n",
    "        population[parents.shape[0]:, :] = children_mutated \n",
    "\n",
    "        populationHistory[(generation+1)*numberOfParents : (generation+1)*numberOfParents+ numberOfParents , :] = population \n",
    "\n",
    "    fitness = train_population(population=population, dMatrixTrain=xgDMatrix, dMatrixtest=xgbDMatrixTest, y_test=hyp_y_test)\n",
    "    fitnessHistory[generation+1, :] = fitness\n",
    "\n",
    "    bestFitnessIndex = np.where(fitness == np.max(fitness))[0][0]\n",
    "\n",
    "    print(\"Best fitness is =\", fitness[bestFitnessIndex])\n",
    "\n",
    "\n",
    "    print(\"Best parameters are:\")\n",
    "    print('learning_rate', population[bestFitnessIndex][0])\n",
    "    print('n_estimators', population[bestFitnessIndex][1])\n",
    "    print('max_depth', int(population[bestFitnessIndex][2])) \n",
    "    print('min_child_weight', population[bestFitnessIndex][3])\n",
    "    print('gamma', population[bestFitnessIndex][4])\n",
    "    print('subsample', population[bestFitnessIndex][5])\n",
    "    print('colsample_bytree', population[bestFitnessIndex][6])\n",
    "    \n",
    "    return population[bestFitnessIndex][0],population[bestFitnessIndex][1],population[bestFitnessIndex][2],population[bestFitnessIndex][3],population[bestFitnessIndex][4],population[bestFitnessIndex][5],population[bestFitnessIndex][6]"
   ]
  },
  {
   "cell_type": "code",
   "execution_count": 23,
   "id": "f6b08641",
   "metadata": {},
   "outputs": [
    {
     "name": "stdout",
     "output_type": "stream",
     "text": [
      "Best Iteration 0 Accuracy on train set = 0.6092\n",
      "[2]\n",
      "Best Iteration 1 Accuracy on train set = 0.6092\n",
      "[2]\n",
      "Best Iteration 2 Accuracy on train set = 0.6092\n",
      "[1]\n",
      "Best Iteration 3 Accuracy on train set = 0.6207\n",
      "[2]\n",
      "Best Iteration 4 Accuracy on train set = 0.6207\n",
      "[4]\n",
      "Best Iteration 5 Accuracy on train set = 0.6207\n",
      "[1]\n",
      "Best Iteration 6 Accuracy on train set = 0.6207\n",
      "[2]\n",
      "Best Iteration 7 Accuracy on train set = 0.6207\n",
      "[4]\n",
      "Best Iteration 8 Accuracy on train set = 0.6207\n",
      "[1]\n",
      "Best Iteration 9 Accuracy on train set = 0.6207\n",
      "[3]\n",
      "Best fitness is = 0.6207\n",
      "Best parameters are:\n",
      "learning_rate 0.03\n",
      "n_estimators 10.0\n",
      "max_depth 6\n",
      "min_child_weight 0.9\n",
      "gamma 3.73\n",
      "subsample 0.71\n",
      "colsample_bytree 0.28\n",
      "              precision    recall  f1-score   support\n",
      "\n",
      "           0       0.25      0.10      0.14        10\n",
      "           1       0.61      0.82      0.70        17\n",
      "\n",
      "    accuracy                           0.56        27\n",
      "   macro avg       0.43      0.46      0.42        27\n",
      "weighted avg       0.48      0.56      0.49        27\n",
      "\n",
      "Accuracy: 0.5555555555555556\n",
      "MCC = -0.1039501159136702\n",
      "AUC = 0.46176470588235297\n"
     ]
    }
   ],
   "source": [
    "#test RFE with tuning XGB hyperparameters\n",
    "learning_rate, n_estimators, max_depth, min_child_weight,gamma, subsample,colsample_bytree = hyp_param_ev_algo(X_train_20, y_train_20)\n",
    "XGB_class(X_train_20,X_test_20,y_train_20,y_test_20,learning_rate, n_estimators, max_depth, min_child_weight,gamma, subsample,colsample_bytree,simple=False)"
   ]
  },
  {
   "cell_type": "code",
   "execution_count": null,
   "id": "75902491",
   "metadata": {},
   "outputs": [],
   "source": []
  }
 ],
 "metadata": {
  "kernelspec": {
   "display_name": "Python 3 (ipykernel)",
   "language": "python",
   "name": "python3"
  },
  "language_info": {
   "codemirror_mode": {
    "name": "ipython",
    "version": 3
   },
   "file_extension": ".py",
   "mimetype": "text/x-python",
   "name": "python",
   "nbconvert_exporter": "python",
   "pygments_lexer": "ipython3",
   "version": "3.9.12"
  }
 },
 "nbformat": 4,
 "nbformat_minor": 5
}
