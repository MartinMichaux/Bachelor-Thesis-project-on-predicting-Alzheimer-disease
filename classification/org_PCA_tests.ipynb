{
 "cells": [
  {
   "cell_type": "markdown",
   "id": "58d5eb5f",
   "metadata": {},
   "source": [
    "# Build classification models that use a combination of the PCA components and the original dataset"
   ]
  },
  {
   "cell_type": "code",
   "execution_count": 3,
   "id": "70e18535",
   "metadata": {},
   "outputs": [],
   "source": [
    "import numpy as np\n",
    "import pandas as pd\n",
    "import matplotlib.pyplot as plt\n",
    "import seaborn as sns\n",
    "from scipy.stats import poisson\n",
    "from sklearn.svm import SVC \n",
    "from sklearn.metrics import accuracy_score, classification_report\n",
    "from numpy import mean\n",
    "from numpy import std\n",
    "from sklearn.datasets import make_classification\n",
    "from sklearn.model_selection import cross_val_score\n",
    "from sklearn.model_selection import RepeatedStratifiedKFold\n",
    "from sklearn.ensemble import RandomForestClassifier\n",
    "from sklearn.linear_model import LogisticRegression\n",
    "from sklearn.ensemble import RandomForestClassifier\n",
    "from sklearn.model_selection import StratifiedKFold\n",
    "import xgboost as xgb\n",
    "xgb.set_config(verbosity=0)\n",
    "from sklearn.feature_selection import RFECV\n",
    "import random\n",
    "from scipy import stats\n",
    "from sklearn.model_selection import train_test_split \n",
    "pd.set_option('display.max_columns', None)\n",
    "pd.set_option('display.max_rows', None)"
   ]
  },
  {
   "cell_type": "markdown",
   "id": "ee4e3475",
   "metadata": {},
   "source": [
    "## Preprocessing"
   ]
  },
  {
   "cell_type": "code",
   "execution_count": 4,
   "id": "8c8f6110",
   "metadata": {},
   "outputs": [],
   "source": [
    "df = pd.read_csv(\"dataset\\CSF_Proteomics_ADNI.csv\")\n",
    "\n",
    "#replace categorical feature with index labeling\n",
    "df['binary_class'].replace({'stable':0,'decliner':1},inplace=True)\n",
    "df['three_class'].replace({'slowDecline':0,'rapidDecline':1,'stable':2},inplace=True)\n",
    "\n",
    "#differentiate other categorical features from the numerical ones\n",
    "pheno = df.loc[:,'RID':'VISCODE']\n",
    "data = df.loc[:,'A1AT.AVLTIDEK':'VTDB.VPTADLEDVLPLAEDITNILSK']\n",
    "\n",
    "## Normalization\n",
    "\n",
    "#normally test function -> check if each column is normally distr\n",
    "def norm_test(data):\n",
    "    alpha = 1e-3\n",
    "    k2, p = stats.normaltest(data)\n",
    "    count=0\n",
    "    for i in p:\n",
    "        if i > alpha:  # null hypothesis: x comes from a normal distribution\n",
    "            count+=1\n",
    "    print('There are ',count,'normally distributed features out of',data.shape[1])\n",
    "\n",
    "#QUANTILE NORMALIZATION\n",
    "def quantile_normalize(df):\n",
    "    df_sorted = pd.DataFrame(np.sort(df.values,axis=0),index=df.index,columns=df.columns)\n",
    "    df_mean = df_sorted.mean(axis=1)\n",
    "    df_mean.index = np.arange(1, len(df_mean) + 1)\n",
    "    df_qn =df.rank(method=\"min\").stack().astype(int).map(df_mean).unstack()\n",
    "    return df_qn\n",
    "\n",
    "# compute quantile normalized data\n",
    "df_qn=quantile_normalize(data)\n",
    "data = df_qn\n",
    "\n",
    "## Split dataset\n",
    "\n",
    "X = data\n",
    "y = df[\"binary_class\"]"
   ]
  },
  {
   "cell_type": "markdown",
   "id": "26c797dc",
   "metadata": {},
   "source": [
    "## Test models using with original dataset + PCA"
   ]
  },
  {
   "cell_type": "code",
   "execution_count": 5,
   "id": "28eebb4e",
   "metadata": {},
   "outputs": [
    {
     "name": "stdout",
     "output_type": "stream",
     "text": [
      "Note that we now have 333 columns instead of 320 (origin dataset + PCA components)\n"
     ]
    }
   ],
   "source": [
    "from sklearn.decomposition import PCA\n",
    "\n",
    "# Make an instance of the Model keeping 95% of the features variance is retained\n",
    "pca = PCA(.80)\n",
    "\n",
    "principalComponents = pca.fit_transform(X)\n",
    "principalDf = pd.DataFrame(data = principalComponents)\n",
    "\n",
    "new_X = pd.concat([X.reset_index(drop=True), principalDf.reset_index(drop=True)], axis=1)\n",
    "\n",
    "#fill NaN values with mean of \n",
    "print('Note that we now have',new_X.shape[1],'columns instead of',X.shape[1],'(origin dataset + PCA components)')\n",
    "\n",
    "X_train, X_test, y_train, y_test = train_test_split(new_X, y, test_size = 0.20, random_state = 97)"
   ]
  },
  {
   "cell_type": "markdown",
   "id": "af91e1e5",
   "metadata": {},
   "source": [
    "### Single xgb classifier"
   ]
  },
  {
   "cell_type": "code",
   "execution_count": 6,
   "id": "1a3282d2",
   "metadata": {},
   "outputs": [],
   "source": [
    "def XGB_class(X_train, X_test, y_train, y_test,learning_rate, n_estimators, max_depth,min_child_weight, gamma, subsample, colsample_bytree, simple):\n",
    "    \n",
    "    if simple:\n",
    "        clf = xgb.XGBClassifier(seed = 24, use_label_encoder =False)\n",
    "    else:\n",
    "        clf = xgb.XGBClassifier(learning_rate = learning_rate, n_estimators = int(n_estimators), max_depth = int(max_depth), \n",
    "                                min_child_weight = min_child_weight, gamma = gamma, subsample = subsample, \n",
    "                                colsample_bytree = colsample_bytree, seed = 24,eval_metric='mlogloss',use_label_encoder =False)\n",
    "\n",
    "    clf.fit(X_train, y_train)\n",
    "    y_predicted = clf.predict(X_test)\n",
    "\n",
    "    print(\"Accuracy:\", accuracy_score(y_test, y_predicted))\n",
    "    print(classification_report(y_test, y_predicted))"
   ]
  },
  {
   "cell_type": "code",
   "execution_count": 7,
   "id": "5bb59e29",
   "metadata": {},
   "outputs": [
    {
     "name": "stdout",
     "output_type": "stream",
     "text": [
      "Accuracy: 0.7407407407407407\n",
      "              precision    recall  f1-score   support\n",
      "\n",
      "           0       0.83      0.45      0.59        11\n",
      "           1       0.71      0.94      0.81        16\n",
      "\n",
      "    accuracy                           0.74        27\n",
      "   macro avg       0.77      0.70      0.70        27\n",
      "weighted avg       0.76      0.74      0.72        27\n",
      "\n"
     ]
    }
   ],
   "source": [
    "XGB_class(X_train,X_test,y_train,y_test,0,0,0,0,0,0,0,simple=True)"
   ]
  },
  {
   "cell_type": "markdown",
   "id": "9601563c",
   "metadata": {},
   "source": [
    "### SVM"
   ]
  },
  {
   "cell_type": "code",
   "execution_count": 8,
   "id": "88e6f378",
   "metadata": {},
   "outputs": [
    {
     "name": "stdout",
     "output_type": "stream",
     "text": [
      "Accuracy: 0.7037037037037037\n",
      "              precision    recall  f1-score   support\n",
      "\n",
      "           0       0.64      0.64      0.64        11\n",
      "           1       0.75      0.75      0.75        16\n",
      "\n",
      "    accuracy                           0.70        27\n",
      "   macro avg       0.69      0.69      0.69        27\n",
      "weighted avg       0.70      0.70      0.70        27\n",
      "\n"
     ]
    },
    {
     "name": "stderr",
     "output_type": "stream",
     "text": [
      "C:\\Users\\marti\\anaconda3\\lib\\site-packages\\sklearn\\utils\\validation.py:1688: FutureWarning: Feature names only support names that are all strings. Got feature names with dtypes: ['int', 'str']. An error will be raised in 1.2.\n",
      "  warnings.warn(\n",
      "C:\\Users\\marti\\anaconda3\\lib\\site-packages\\sklearn\\utils\\validation.py:1688: FutureWarning: Feature names only support names that are all strings. Got feature names with dtypes: ['int', 'str']. An error will be raised in 1.2.\n",
      "  warnings.warn(\n"
     ]
    }
   ],
   "source": [
    "clf = SVC(kernel='linear') \n",
    "  \n",
    "# fitting x samples and y classes \n",
    "clf.fit(X_train, y_train) \n",
    "y_predicted = clf.predict(X_test)\n",
    "\n",
    "print(\"Accuracy:\", accuracy_score(y_test, y_predicted))\n",
    "print(classification_report(y_test, y_predicted))"
   ]
  },
  {
   "cell_type": "markdown",
   "id": "f4e5ad9a",
   "metadata": {},
   "source": [
    "### Single Random Forest classifier"
   ]
  },
  {
   "cell_type": "code",
   "execution_count": 9,
   "id": "a4edcd6b",
   "metadata": {},
   "outputs": [
    {
     "name": "stdout",
     "output_type": "stream",
     "text": [
      "Accuracy: 0.7037037037037037\n",
      "              precision    recall  f1-score   support\n",
      "\n",
      "           0       0.80      0.36      0.50        11\n",
      "           1       0.68      0.94      0.79        16\n",
      "\n",
      "    accuracy                           0.70        27\n",
      "   macro avg       0.74      0.65      0.64        27\n",
      "weighted avg       0.73      0.70      0.67        27\n",
      "\n"
     ]
    },
    {
     "name": "stderr",
     "output_type": "stream",
     "text": [
      "C:\\Users\\marti\\anaconda3\\lib\\site-packages\\sklearn\\utils\\validation.py:1688: FutureWarning: Feature names only support names that are all strings. Got feature names with dtypes: ['int', 'str']. An error will be raised in 1.2.\n",
      "  warnings.warn(\n",
      "C:\\Users\\marti\\anaconda3\\lib\\site-packages\\sklearn\\utils\\validation.py:1688: FutureWarning: Feature names only support names that are all strings. Got feature names with dtypes: ['int', 'str']. An error will be raised in 1.2.\n",
      "  warnings.warn(\n"
     ]
    }
   ],
   "source": [
    "# evaluate random forest algorithm for classification\n",
    "# define the model\n",
    "model = RandomForestClassifier().fit(X_train,y_train)\n",
    "y_predicted = model.predict(X_test)\n",
    "# report performance\n",
    "print(\"Accuracy:\", accuracy_score(y_test, y_predicted))\n",
    "print(classification_report(y_test, y_predicted))"
   ]
  },
  {
   "cell_type": "markdown",
   "id": "dc17aa7b",
   "metadata": {},
   "source": [
    "### Logistic Regression"
   ]
  },
  {
   "cell_type": "code",
   "execution_count": 10,
   "id": "4ec8a707",
   "metadata": {},
   "outputs": [
    {
     "name": "stdout",
     "output_type": "stream",
     "text": [
      "Accuracy: 0.6296296296296297\n",
      "              precision    recall  f1-score   support\n",
      "\n",
      "           0       0.55      0.55      0.55        11\n",
      "           1       0.69      0.69      0.69        16\n",
      "\n",
      "    accuracy                           0.63        27\n",
      "   macro avg       0.62      0.62      0.62        27\n",
      "weighted avg       0.63      0.63      0.63        27\n",
      "\n"
     ]
    },
    {
     "name": "stderr",
     "output_type": "stream",
     "text": [
      "C:\\Users\\marti\\anaconda3\\lib\\site-packages\\sklearn\\utils\\validation.py:1688: FutureWarning: Feature names only support names that are all strings. Got feature names with dtypes: ['int', 'str']. An error will be raised in 1.2.\n",
      "  warnings.warn(\n",
      "C:\\Users\\marti\\anaconda3\\lib\\site-packages\\sklearn\\linear_model\\_logistic.py:814: ConvergenceWarning: lbfgs failed to converge (status=1):\n",
      "STOP: TOTAL NO. of ITERATIONS REACHED LIMIT.\n",
      "\n",
      "Increase the number of iterations (max_iter) or scale the data as shown in:\n",
      "    https://scikit-learn.org/stable/modules/preprocessing.html\n",
      "Please also refer to the documentation for alternative solver options:\n",
      "    https://scikit-learn.org/stable/modules/linear_model.html#logistic-regression\n",
      "  n_iter_i = _check_optimize_result(\n",
      "C:\\Users\\marti\\anaconda3\\lib\\site-packages\\sklearn\\utils\\validation.py:1688: FutureWarning: Feature names only support names that are all strings. Got feature names with dtypes: ['int', 'str']. An error will be raised in 1.2.\n",
      "  warnings.warn(\n"
     ]
    }
   ],
   "source": [
    "model = LogisticRegression(random_state=0).fit(X_train, y_train)\n",
    "y_predicted = model.predict(X_test)\n",
    "# report performance\n",
    "print(\"Accuracy:\", accuracy_score(y_test, y_predicted))\n",
    "print(classification_report(y_test, y_predicted))"
   ]
  },
  {
   "cell_type": "markdown",
   "id": "fb4daf6d",
   "metadata": {},
   "source": [
    "### RFE"
   ]
  },
  {
   "cell_type": "code",
   "execution_count": 11,
   "id": "daeac143",
   "metadata": {},
   "outputs": [],
   "source": [
    "def rfe_xgb(X_train, y_train,learning_rate, n_estimators, max_depth,min_child_weight, gamma, subsample, colsample_bytree, simple):\n",
    "    min_features_to_select = 1\n",
    "    \n",
    "    #run RFE on current train subset\n",
    "    if simple:\n",
    "        clf = xgb.XGBClassifier(seed = 24, use_label_encoder =False)\n",
    "    else:\n",
    "        clf = xgb.XGBClassifier(learning_rate = learning_rate, n_estimators = int(n_estimators), max_depth = int(max_depth), \n",
    "                                min_child_weight = min_child_weight, gamma = gamma, subsample = subsample, \n",
    "                                colsample_bytree = colsample_bytree, seed = 24,eval_metric='mlogloss',use_label_encoder =False)\n",
    "    rfecv = RFECV(estimator=clf,min_features_to_select=min_features_to_select,step=3,n_jobs=-1,scoring=\"r2\",cv=5)\n",
    "    rfecv.fit(X_train, y_train)\n",
    "    \n",
    "    #keep selected features + check RFE accuracy scores during running\n",
    "    newX_train = X_train[X_train.columns[rfecv.support_]]\n",
    "    newX_test = X_test[X_test.columns[rfecv.support_]]\n",
    "    print('We kept',newX_train.shape[1],'features out of the',X_train.shape[1])\n",
    "\n",
    "    plt.figure()\n",
    "    lines = []\n",
    "    for i in range(rfecv.grid_scores_.shape[1]):\n",
    "        lines.append(plt.plot(rfecv.grid_scores_[:,i]))\n",
    "\n",
    "    plt.xlabel(\"Number of features selected\")\n",
    "    plt.ylabel(\"Cross validation score (accuracy)\")\n",
    "    plt.legend(lines,labels = ['fold 1', 'fold 2', 'fold 3','fold 4', 'fold 5'],loc='center left', bbox_to_anchor=(1, 0.5))\n",
    "    plt.show()\n",
    "    \n",
    "    return newX_train,newX_test"
   ]
  },
  {
   "cell_type": "markdown",
   "id": "c490efde",
   "metadata": {},
   "source": [
    "### Test on single XGB classifier using RFE selected features"
   ]
  },
  {
   "cell_type": "code",
   "execution_count": 12,
   "id": "7378b301",
   "metadata": {},
   "outputs": [
    {
     "name": "stderr",
     "output_type": "stream",
     "text": [
      "C:\\Users\\marti\\anaconda3\\lib\\site-packages\\sklearn\\utils\\validation.py:1688: FutureWarning: Feature names only support names that are all strings. Got feature names with dtypes: ['int', 'str']. An error will be raised in 1.2.\n",
      "  warnings.warn(\n"
     ]
    },
    {
     "name": "stdout",
     "output_type": "stream",
     "text": [
      "We kept 60 features out of the 333\n"
     ]
    },
    {
     "name": "stderr",
     "output_type": "stream",
     "text": [
      "C:\\Users\\marti\\anaconda3\\lib\\site-packages\\sklearn\\utils\\deprecation.py:103: FutureWarning: The `grid_scores_` attribute is deprecated in version 1.0 in favor of `cv_results_` and will be removed in version 1.2.\n",
      "  warnings.warn(msg, category=FutureWarning)\n",
      "C:\\Users\\marti\\anaconda3\\lib\\site-packages\\sklearn\\utils\\deprecation.py:103: FutureWarning: The `grid_scores_` attribute is deprecated in version 1.0 in favor of `cv_results_` and will be removed in version 1.2.\n",
      "  warnings.warn(msg, category=FutureWarning)\n",
      "C:\\Users\\marti\\anaconda3\\lib\\site-packages\\sklearn\\utils\\deprecation.py:103: FutureWarning: The `grid_scores_` attribute is deprecated in version 1.0 in favor of `cv_results_` and will be removed in version 1.2.\n",
      "  warnings.warn(msg, category=FutureWarning)\n",
      "C:\\Users\\marti\\anaconda3\\lib\\site-packages\\sklearn\\utils\\deprecation.py:103: FutureWarning: The `grid_scores_` attribute is deprecated in version 1.0 in favor of `cv_results_` and will be removed in version 1.2.\n",
      "  warnings.warn(msg, category=FutureWarning)\n",
      "C:\\Users\\marti\\anaconda3\\lib\\site-packages\\sklearn\\utils\\deprecation.py:103: FutureWarning: The `grid_scores_` attribute is deprecated in version 1.0 in favor of `cv_results_` and will be removed in version 1.2.\n",
      "  warnings.warn(msg, category=FutureWarning)\n",
      "C:\\Users\\marti\\AppData\\Local\\Temp\\ipykernel_180\\975040227.py:26: UserWarning: You have mixed positional and keyword arguments, some input may be discarded.\n",
      "  plt.legend(lines,labels = ['fold 1', 'fold 2', 'fold 3','fold 4', 'fold 5'],loc='center left', bbox_to_anchor=(1, 0.5))\n"
     ]
    },
    {
     "data": {
      "image/png": "[encoded data removed]",
      "text/plain": [
       "<Figure size 432x288 with 1 Axes>"
      ]
     },
     "metadata": {
      "needs_background": "light"
     },
     "output_type": "display_data"
    },
    {
     "name": "stdout",
     "output_type": "stream",
     "text": [
      "Accuracy: 0.6666666666666666\n",
      "              precision    recall  f1-score   support\n",
      "\n",
      "           0       0.62      0.45      0.53        11\n",
      "           1       0.68      0.81      0.74        16\n",
      "\n",
      "    accuracy                           0.67        27\n",
      "   macro avg       0.65      0.63      0.63        27\n",
      "weighted avg       0.66      0.67      0.65        27\n",
      "\n",
      "['A1AT.AVLTIDEK', 'A1AT.LSITGTYDLK', 'A1AT.SVLGQLGITK', 'AACT.ADLSGITGAR', 'AFAM.FLVNLVK', 'AFAM.LPNNVLQEK', 'ALDOA.ALQASALK', 'AMBP.ETLLQDFR', 'APOE.AATVGSLAGQPLQER', 'APOE.LGADMEDVR', 'APOE.LGPLVEQGR', 'BTD.LSSGLVTAALYGR', 'CAD13.INENTGSVSVTR', 'CAH1.VLDALQAIK', 'CATA.LFAYPDTHR', 'CCKN.AHLGALLAR', 'CD59.AGLQVYNK', 'CMGA.SGEATDGARPQALPEPMQESK', 'CNTN1.DGEYVVEVR', 'CNTN2.IIVQAQPEWLK', 'CNTP2.HELQHPIIAR', 'CO3.IHWESASLLR', 'CO3.TGLQEVEVK', 'COCH.GVISNSGGPVR', 'CSTN3.ATGEGLIR', 'ENOG.GNPTVEVDLYTAK', 'ENPP2.SYPEILTLK', 'FETUA.FSVVYAK', 'FMOD.YLPFVPSR', 'GFAP.ALAAELNQLR', 'GOLM1.QQLQALSEPQPR', 'HBB.SAVTALWGK', 'KLK6.ESSQEQSSVVR', 'KPYM.LDIDSPPITAR', 'LPHN1.SGETVINTANYHDTSPYR', 'MUC18.GATLALTQVTPQDER', 'NCAM2.IIELSQTTAK', 'NCAN.LSSAIIAAPR', 'NEGR1.SSIIFAGGDK', 'NGF.SAPAAAIAAR', 'NPTX2.LESLEHQLR', 'NPTX2.TESTLNALLQR', 'NPTXR.ELDVLQGR', 'NPTXR.LVEAFGGATK', 'PCSK1.ALAHLLEAER', 'PEDF.TVQAVLTVPK', 'PGRP2.TFTLLDPK', 'PRDX1.DISLSDYK', 'PRDX3.HLSVNDLPVGR', 'SCG1.SSQGGSLPSEEK', 'SCG3.ELSAERPLNEQIAEAEEDK', 'TGFB1.LLAPSDSPEWLSFDVTGVVR', 'VGF.NSEPQDEGELFQGVDPR', 'VTDB.EFSHLGK', 4, 5, 6, 8, 9, 12]\n",
      "Note that we kept both columns from the original dataset and the PCA components\n"
     ]
    }
   ],
   "source": [
    "#test rfe then simple XGB classifier\n",
    "newX_train,newX_test = rfe_xgb(X_train, y_train,0,0,0,0,0,0,0,simple=True)\n",
    "XGB_class(newX_train,newX_test,y_train,y_test,0,0,0,0,0,0,0,simple=True)\n",
    "print(list(newX_train.columns))\n",
    "print('Note that we kept both columns from the original dataset and the PCA components')"
   ]
  },
  {
   "cell_type": "code",
   "execution_count": 128,
   "id": "2eb7e113",
   "metadata": {},
   "outputs": [
    {
     "name": "stderr",
     "output_type": "stream",
     "text": [
      "C:\\Users\\marti\\anaconda3\\lib\\site-packages\\sklearn\\utils\\validation.py:1688: FutureWarning: Feature names only support names that are all strings. Got feature names with dtypes: ['int', 'str']. An error will be raised in 1.2.\n",
      "  warnings.warn(\n"
     ]
    },
    {
     "name": "stdout",
     "output_type": "stream",
     "text": [
      "We kept 78 features out of the 375\n"
     ]
    },
    {
     "name": "stderr",
     "output_type": "stream",
     "text": [
      "C:\\Users\\marti\\anaconda3\\lib\\site-packages\\sklearn\\utils\\deprecation.py:103: FutureWarning: The `grid_scores_` attribute is deprecated in version 1.0 in favor of `cv_results_` and will be removed in version 1.2.\n",
      "  warnings.warn(msg, category=FutureWarning)\n",
      "C:\\Users\\marti\\anaconda3\\lib\\site-packages\\sklearn\\utils\\deprecation.py:103: FutureWarning: The `grid_scores_` attribute is deprecated in version 1.0 in favor of `cv_results_` and will be removed in version 1.2.\n",
      "  warnings.warn(msg, category=FutureWarning)\n",
      "C:\\Users\\marti\\anaconda3\\lib\\site-packages\\sklearn\\utils\\deprecation.py:103: FutureWarning: The `grid_scores_` attribute is deprecated in version 1.0 in favor of `cv_results_` and will be removed in version 1.2.\n",
      "  warnings.warn(msg, category=FutureWarning)\n",
      "C:\\Users\\marti\\anaconda3\\lib\\site-packages\\sklearn\\utils\\deprecation.py:103: FutureWarning: The `grid_scores_` attribute is deprecated in version 1.0 in favor of `cv_results_` and will be removed in version 1.2.\n",
      "  warnings.warn(msg, category=FutureWarning)\n",
      "C:\\Users\\marti\\anaconda3\\lib\\site-packages\\sklearn\\utils\\deprecation.py:103: FutureWarning: The `grid_scores_` attribute is deprecated in version 1.0 in favor of `cv_results_` and will be removed in version 1.2.\n",
      "  warnings.warn(msg, category=FutureWarning)\n",
      "<ipython-input-125-8c64a8ea31cf>:26: UserWarning: You have mixed positional and keyword arguments, some input may be discarded.\n",
      "  plt.legend(lines,labels = ['fold 1', 'fold 2', 'fold 3','fold 4', 'fold 5'],loc='center left', bbox_to_anchor=(1, 0.5))\n"
     ]
    },
    {
     "data": {
      "image/png": "[encoded data removed]",
      "text/plain": [
       "<Figure size 432x288 with 1 Axes>"
      ]
     },
     "metadata": {
      "needs_background": "light"
     },
     "output_type": "display_data"
    },
    {
     "name": "stdout",
     "output_type": "stream",
     "text": [
      "This is number 0 generation\n",
      "Best Accuracy score in the this iteration = 0.7778\n",
      "[2]\n",
      "This is number 1 generation\n",
      "Best Accuracy score in the this iteration = 0.7778\n",
      "[2]\n",
      "This is number 2 generation\n",
      "Best Accuracy score in the this iteration = 0.7778\n",
      "[1]\n",
      "This is number 3 generation\n",
      "Best Accuracy score in the this iteration = 0.7778\n",
      "[2]\n",
      "This is number 4 generation\n",
      "Best Accuracy score in the this iteration = 0.7778\n",
      "[4]\n",
      "This is number 5 generation\n",
      "Best Accuracy score in the this iteration = 0.7778\n",
      "[1]\n",
      "This is number 6 generation\n",
      "Best Accuracy score in the this iteration = 0.7778\n",
      "[2]\n",
      "This is number 7 generation\n",
      "Best Accuracy score in the this iteration = 0.7778\n",
      "[4]\n",
      "This is number 8 generation\n",
      "Best Accuracy score in the this iteration = 0.7778\n",
      "[1]\n",
      "This is number 9 generation\n",
      "Best Accuracy score in the this iteration = 0.7778\n",
      "[3]\n",
      "This is number 10 generation\n",
      "Best Accuracy score in the this iteration = 0.7778\n",
      "[0]\n",
      "This is number 11 generation\n",
      "Best Accuracy score in the this iteration = 0.7778\n",
      "[0]\n",
      "This is number 12 generation\n",
      "Best Accuracy score in the this iteration = 0.7778\n",
      "[3]\n",
      "This is number 13 generation\n",
      "Best Accuracy score in the this iteration = 0.7778\n",
      "[6]\n",
      "This is number 14 generation\n",
      "Best Accuracy score in the this iteration = 0.7778\n",
      "[4]\n",
      "This is number 15 generation\n",
      "Best Accuracy score in the this iteration = 0.7778\n",
      "[3]\n",
      "This is number 16 generation\n",
      "Best Accuracy score in the this iteration = 0.7778\n",
      "[3]\n",
      "This is number 17 generation\n",
      "Best Accuracy score in the this iteration = 0.7778\n",
      "[4]\n",
      "This is number 18 generation\n",
      "Best Accuracy score in the this iteration = 0.7778\n",
      "[4]\n",
      "This is number 19 generation\n",
      "Best Accuracy score in the this iteration = 0.7778\n",
      "[3]\n",
      "This is number 20 generation\n",
      "Best Accuracy score in the this iteration = 0.7778\n",
      "[2]\n",
      "This is number 21 generation\n",
      "Best Accuracy score in the this iteration = 0.7778\n",
      "[3]\n",
      "This is number 22 generation\n",
      "Best Accuracy score in the this iteration = 0.7778\n",
      "[0]\n",
      "This is number 23 generation\n",
      "Best Accuracy score in the this iteration = 0.7778\n",
      "[0]\n",
      "This is number 24 generation\n",
      "Best Accuracy score in the this iteration = 0.7778\n",
      "[5]\n",
      "This is number 25 generation\n",
      "Best Accuracy score in the this iteration = 0.7778\n",
      "[5]\n",
      "This is number 26 generation\n",
      "Best Accuracy score in the this iteration = 0.7778\n",
      "[5]\n",
      "This is number 27 generation\n",
      "Best Accuracy score in the this iteration = 0.7778\n",
      "[2]\n",
      "This is number 28 generation\n",
      "Best Accuracy score in the this iteration = 0.7778\n",
      "[3]\n",
      "This is number 29 generation\n",
      "Best Accuracy score in the this iteration = 0.7778\n",
      "[0]\n",
      "This is number 30 generation\n",
      "Best Accuracy score in the this iteration = 0.7778\n",
      "[1]\n",
      "This is number 31 generation\n",
      "Best Accuracy score in the this iteration = 0.7778\n",
      "[3]\n",
      "This is number 32 generation\n",
      "Best Accuracy score in the this iteration = 0.7778\n",
      "[1]\n",
      "This is number 33 generation\n",
      "Best Accuracy score in the this iteration = 0.7778\n",
      "[3]\n",
      "This is number 34 generation\n",
      "Best Accuracy score in the this iteration = 0.7778\n",
      "[0]\n",
      "This is number 35 generation\n",
      "Best Accuracy score in the this iteration = 0.7778\n",
      "[6]\n",
      "This is number 36 generation\n",
      "Best Accuracy score in the this iteration = 0.7778\n",
      "[2]\n",
      "This is number 37 generation\n",
      "Best Accuracy score in the this iteration = 0.7778\n",
      "[1]\n",
      "This is number 38 generation\n",
      "Best Accuracy score in the this iteration = 0.7778\n",
      "[5]\n",
      "This is number 39 generation\n",
      "Best Accuracy score in the this iteration = 0.8148\n",
      "[4]\n",
      "This is number 40 generation\n",
      "Best Accuracy score in the this iteration = 0.8148\n",
      "[2]\n",
      "This is number 41 generation\n",
      "Best Accuracy score in the this iteration = 0.8148\n",
      "[5]\n",
      "This is number 42 generation\n",
      "Best Accuracy score in the this iteration = 0.8148\n",
      "[6]\n",
      "This is number 43 generation\n",
      "Best Accuracy score in the this iteration = 0.8148\n",
      "[4]\n",
      "This is number 44 generation\n",
      "Best Accuracy score in the this iteration = 0.8148\n",
      "[4]\n",
      "This is number 45 generation\n",
      "Best Accuracy score in the this iteration = 0.8519\n",
      "[2]\n",
      "This is number 46 generation\n",
      "Best Accuracy score in the this iteration = 0.8519\n",
      "[2]\n",
      "This is number 47 generation\n",
      "Best Accuracy score in the this iteration = 0.8519\n",
      "[6]\n",
      "This is number 48 generation\n",
      "Best Accuracy score in the this iteration = 0.8519\n",
      "[4]\n",
      "This is number 49 generation\n",
      "Best Accuracy score in the this iteration = 0.8519\n",
      "[0]\n",
      "Best fitness is = 0.8519\n",
      "Best parameters are:\n",
      "learning_rate 0.71\n",
      "n_estimators 105.0\n",
      "max_depth 5\n",
      "min_child_weight 5.86\n",
      "gamma 2.36\n",
      "subsample 0.63\n",
      "colsample_bytree 0.49\n",
      "Accuracy: 0.8518518518518519\n",
      "              precision    recall  f1-score   support\n",
      "\n",
      "           0       0.82      0.82      0.82        11\n",
      "           1       0.88      0.88      0.88        16\n",
      "\n",
      "    accuracy                           0.85        27\n",
      "   macro avg       0.85      0.85      0.85        27\n",
      "weighted avg       0.85      0.85      0.85        27\n",
      "\n"
     ]
    }
   ],
   "source": [
    "#test tuning XGB hyperparameters with selected features from RFE\n",
    "newX_train,newX_test = rfe_xgb(X_train, y_train,0,0,0,0,0,0,0,simple=True)\n",
    "learning_rate, n_estimators, max_depth, min_child_weight,gamma, subsample,colsample_bytree = hyp_param_ev_algo(newX_train, newX_test, y_train, y_test)\n",
    "XGB_class(newX_train,newX_test,y_train,y_test,learning_rate, n_estimators, max_depth, min_child_weight,gamma, subsample,colsample_bytree,simple=False)"
   ]
  },
  {
   "cell_type": "code",
   "execution_count": null,
   "id": "24995c89",
   "metadata": {},
   "outputs": [],
   "source": []
  }
 ],
 "metadata": {
  "kernelspec": {
   "display_name": "Python 3 (ipykernel)",
   "language": "python",
   "name": "python3"
  },
  "language_info": {
   "codemirror_mode": {
    "name": "ipython",
    "version": 3
   },
   "file_extension": ".py",
   "mimetype": "text/x-python",
   "name": "python",
   "nbconvert_exporter": "python",
   "pygments_lexer": "ipython3",
   "version": "3.9.12"
  }
 },
 "nbformat": 4,
 "nbformat_minor": 5
}
