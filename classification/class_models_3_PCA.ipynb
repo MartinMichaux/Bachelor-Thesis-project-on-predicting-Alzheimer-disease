{
 "cells": [
  {
   "cell_type": "markdown",
   "id": "cce1c02f",
   "metadata": {},
   "source": [
    "# Build mutliclass classification models that use PCA components"
   ]
  },
  {
   "cell_type": "code",
   "execution_count": 1,
   "id": "70e18535",
   "metadata": {},
   "outputs": [],
   "source": [
    "import numpy as np\n",
    "import pandas as pd\n",
    "import matplotlib.pyplot as plt\n",
    "import seaborn as sns\n",
    "from scipy.stats import poisson\n",
    "from sklearn.svm import SVC \n",
    "from sklearn.metrics import accuracy_score, classification_report\n",
    "from numpy import mean\n",
    "from numpy import std\n",
    "from sklearn.datasets import make_classification\n",
    "from sklearn.model_selection import cross_val_score\n",
    "from sklearn.model_selection import RepeatedStratifiedKFold\n",
    "from sklearn.ensemble import RandomForestClassifier\n",
    "from sklearn.linear_model import LogisticRegression\n",
    "from sklearn.ensemble import RandomForestClassifier\n",
    "from sklearn.model_selection import StratifiedKFold\n",
    "import xgboost as xgb\n",
    "xgb.set_config(verbosity=0)\n",
    "from sklearn.feature_selection import RFECV\n",
    "import random\n",
    "from scipy import stats\n",
    "from sklearn.model_selection import train_test_split \n",
    "from sklearn.preprocessing import MinMaxScaler\n",
    "from sklearn.decomposition import PCA\n",
    "from sklearn.metrics import matthews_corrcoef\n",
    "from sklearn.preprocessing import label_binarize\n",
    "from sklearn.metrics import roc_curve, auc\n",
    "from sklearn import svm, datasets\n",
    "from sklearn.metrics import log_loss"
   ]
  },
  {
   "cell_type": "markdown",
   "id": "ee4e3475",
   "metadata": {},
   "source": [
    "## Preprocessing"
   ]
  },
  {
   "cell_type": "code",
   "execution_count": 2,
   "id": "8c8f6110",
   "metadata": {},
   "outputs": [],
   "source": [
    "df = pd.read_csv(\"dataset\\CSF_Proteomics_ADNI.csv\")\n",
    "\n",
    "#replace categorical feature with index labeling\n",
    "df['binary_class'].replace({'stable':0,'decliner':1},inplace=True)\n",
    "df['three_class'].replace({'slowDecline':0,'rapidDecline':1,'stable':2},inplace=True)\n",
    "\n",
    "#differentiate other categorical features from the numerical ones\n",
    "pheno = df.loc[:,'RID':'VISCODE']\n",
    "data = df.loc[:,'A1AT.AVLTIDEK':'VTDB.VPTADLEDVLPLAEDITNILSK']\n",
    "\n",
    "## Normalization\n",
    "\n",
    "#normally test function -> check if each column is normally distr\n",
    "def norm_test(data):\n",
    "    alpha = 1e-3\n",
    "    k2, p = stats.normaltest(data)\n",
    "    count=0\n",
    "    for i in p:\n",
    "        if i > alpha:  # null hypothesis: x comes from a normal distribution\n",
    "            count+=1\n",
    "    print('There are ',count,'normally distributed features out of',data.shape[1])\n",
    "\n",
    "#QUANTILE NORMALIZATION\n",
    "def quantile_normalize(df):\n",
    "    df_sorted = pd.DataFrame(np.sort(df.values,axis=0),index=df.index,columns=df.columns)\n",
    "    df_mean = df_sorted.mean(axis=1)\n",
    "    df_mean.index = np.arange(1, len(df_mean) + 1)\n",
    "    df_qn =df.rank(method=\"min\").stack().astype(int).map(df_mean).unstack()\n",
    "    return df_qn\n",
    "\n",
    "# compute quantile normalized data\n",
    "df_qn=quantile_normalize(data)\n",
    "data = df_qn\n",
    "\n",
    "#Scale the data to the range between 0 and 1 before using PCA\n",
    "scaler = MinMaxScaler()\n",
    "data_rescaled = scaler.fit_transform(data)\n",
    "\n",
    "## Split dataset\n",
    "X = data_rescaled\n",
    "y = df[\"three_class\"]"
   ]
  },
  {
   "cell_type": "markdown",
   "id": "26c797dc",
   "metadata": {},
   "source": [
    "## Test models using with PCA as feature selection"
   ]
  },
  {
   "cell_type": "code",
   "execution_count": 5,
   "id": "28eebb4e",
   "metadata": {},
   "outputs": [
    {
     "name": "stdout",
     "output_type": "stream",
     "text": [
      "Note that we now have 100 columns instead of 320\n"
     ]
    }
   ],
   "source": [
    "# Make an instance of the model keeping 95% of the features variance\n",
    "# pca = PCA(0.7)\n",
    "pca = PCA(n_components=100)\n",
    "\n",
    "principalComponents = pca.fit_transform(X)\n",
    "principalDf = pd.DataFrame(data = principalComponents)\n",
    "print('Note that we now have',principalDf.shape[1],'columns instead of',X.shape[1])\n",
    "\n",
    "X_train_20, X_test_20, y_train_20, y_test_20 = train_test_split(principalDf, y, test_size = 0.20, random_state = 97, stratify = y)\n",
    "X_train_40, X_test_40, y_train_40, y_test_40 = train_test_split(principalDf, y, test_size = 0.40, random_state = 97, stratify = y)"
   ]
  },
  {
   "cell_type": "code",
   "execution_count": 6,
   "id": "ac6cfd06",
   "metadata": {},
   "outputs": [
    {
     "data": {
      "image/png": "[encoded data removed]",
      "text/plain": [
       "<Figure size 432x288 with 1 Axes>"
      ]
     },
     "metadata": {
      "needs_background": "light"
     },
     "output_type": "display_data"
    }
   ],
   "source": [
    "PC_values = np.arange(pca.n_components_)\n",
    "plt.plot(np.cumsum(pca.explained_variance_ratio_))\n",
    "plt.title('Cumulative explained variance ratio')\n",
    "plt.xlabel('Number of Principal Components')\n",
    "plt.ylabel('Cumulative explained variance');"
   ]
  },
  {
   "cell_type": "markdown",
   "id": "af91e1e5",
   "metadata": {},
   "source": [
    "### Single xgb classifier"
   ]
  },
  {
   "cell_type": "code",
   "execution_count": 10,
   "id": "1a3282d2",
   "metadata": {},
   "outputs": [],
   "source": [
    "def XGB_class(X_train, X_test, y_train, y_test,learning_rate, n_estimators, max_depth,min_child_weight, gamma, subsample, colsample_bytree, simple):\n",
    "    \n",
    "    if simple:\n",
    "        clf = xgb.XGBClassifier(seed = 24, use_label_encoder =False,objective='multi:softproba')\n",
    "    else:\n",
    "        clf = xgb.XGBClassifier(learning_rate = learning_rate, n_estimators = int(n_estimators), max_depth = int(max_depth), \n",
    "                                min_child_weight = min_child_weight, gamma = gamma, subsample = subsample, \n",
    "                                colsample_bytree = colsample_bytree, seed = 24,eval_metric='mlogloss',use_label_encoder =False,objective='multi:softproba')\n",
    "\n",
    "    clf.fit(X_train, y_train)\n",
    "    y_predicted = clf.predict(X_test)\n",
    "\n",
    "    print(classification_report(y_test, y_predicted))\n",
    "    print(\"Accuracy:\", accuracy_score(y_test, y_predicted))\n",
    "    print(\"MCC =\",matthews_corrcoef(y_test, y_predicted))\n",
    "    \n",
    "    y_test = label_binarize(y_test, classes=np.arange(3))\n",
    "    y_predicted = label_binarize(y_predicted, classes=np.arange(3))\n",
    "    fpr = dict()\n",
    "    tpr = dict()\n",
    "    roc_auc = dict()\n",
    "    for i in range(3):\n",
    "        fpr[i], tpr[i], _ = roc_curve(y_test[:, i], y_predicted[:, i])\n",
    "        roc_auc[i] = auc(fpr[i], tpr[i])\n",
    "    print(\"AUC =\",roc_auc)\n",
    "    \n",
    "    return clf.predict_proba(X_test)"
   ]
  },
  {
   "cell_type": "code",
   "execution_count": 14,
   "id": "5bb59e29",
   "metadata": {},
   "outputs": [
    {
     "name": "stdout",
     "output_type": "stream",
     "text": [
      "Using 20% testing subset:\n",
      "              precision    recall  f1-score   support\n",
      "\n",
      "           0       0.50      0.33      0.40         9\n",
      "           1       0.64      0.90      0.75        10\n",
      "           2       0.71      0.62      0.67         8\n",
      "\n",
      "    accuracy                           0.63        27\n",
      "   macro avg       0.62      0.62      0.61        27\n",
      "weighted avg       0.62      0.63      0.61        27\n",
      "\n",
      "Accuracy: 0.6296296296296297\n",
      "MCC = 0.44883281169845735\n",
      "AUC = {0: 0.5833333333333334, 1: 0.8029411764705882, 2: 0.7598684210526316}\n",
      "Using 40% testing subset:\n",
      "              precision    recall  f1-score   support\n",
      "\n",
      "           0       0.44      0.37      0.40        19\n",
      "           1       0.40      0.50      0.44        20\n",
      "           2       0.46      0.40      0.43        15\n",
      "\n",
      "    accuracy                           0.43        54\n",
      "   macro avg       0.43      0.42      0.42        54\n",
      "weighted avg       0.43      0.43      0.42        54\n",
      "\n",
      "Accuracy: 0.42592592592592593\n",
      "MCC = 0.12804770511154298\n",
      "AUC = {0: 0.5556390977443609, 1: 0.5294117647058824, 2: 0.6102564102564102}\n"
     ]
    }
   ],
   "source": [
    "print('Using 20% testing subset:')\n",
    "sXGBc_y_predicted_20 = XGB_class(X_train_20,X_test_20,y_train_20,y_test_20,0,0,0,0,0,0,0,simple=True)\n",
    "print('Using 40% testing subset:')\n",
    "sXGBc_y_predicted_40 = XGB_class(X_train_40,X_test_40,y_train_40,y_test_40,0,0,0,0,0,0,0,simple=True)"
   ]
  },
  {
   "cell_type": "markdown",
   "id": "9601563c",
   "metadata": {},
   "source": [
    "### SVM"
   ]
  },
  {
   "cell_type": "code",
   "execution_count": 8,
   "id": "06226111",
   "metadata": {},
   "outputs": [],
   "source": [
    "def SVM_class(X_train,X_test,y_train,y_test):\n",
    "    clf = svm.SVC(kernel='poly',probability=True).fit(X_train, y_train)\n",
    "\n",
    "    y_predicted = clf.predict(X_test)\n",
    "\n",
    "    print(classification_report(y_test, y_predicted))\n",
    "    print(\"Accuracy:\", accuracy_score(y_test, y_predicted))\n",
    "    print(\"MCC =\",matthews_corrcoef(y_test, y_predicted))\n",
    "    \n",
    "    y_test = label_binarize(y_test, classes=np.arange(3))\n",
    "    y_predicted = label_binarize(y_predicted, classes=np.arange(3))\n",
    "    fpr = dict()\n",
    "    tpr = dict()\n",
    "    roc_auc = dict()\n",
    "    for i in range(3):\n",
    "        fpr[i], tpr[i], _ = roc_curve(y_test[:, i], y_predicted[:, i])\n",
    "        roc_auc[i] = auc(fpr[i], tpr[i])\n",
    "    print(\"AUC =\",roc_auc)"
   ]
  },
  {
   "cell_type": "code",
   "execution_count": 9,
   "id": "88e6f378",
   "metadata": {},
   "outputs": [
    {
     "name": "stdout",
     "output_type": "stream",
     "text": [
      "Using 20% testing subset:\n",
      "              precision    recall  f1-score   support\n",
      "\n",
      "           0       1.00      0.11      0.20         9\n",
      "           1       0.43      1.00      0.61        10\n",
      "           2       0.67      0.25      0.36         8\n",
      "\n",
      "    accuracy                           0.48        27\n",
      "   macro avg       0.70      0.45      0.39        27\n",
      "weighted avg       0.69      0.48      0.40        27\n",
      "\n",
      "Accuracy: 0.48148148148148145\n",
      "MCC = 0.2901905000440047\n",
      "AUC = {0: 0.5555555555555556, 1: 0.6176470588235294, 2: 0.5986842105263158}\n",
      "Using 40% testing subset:\n",
      "              precision    recall  f1-score   support\n",
      "\n",
      "           0       0.00      0.00      0.00        19\n",
      "           1       0.39      0.95      0.55        20\n",
      "           2       0.75      0.20      0.32        15\n",
      "\n",
      "    accuracy                           0.41        54\n",
      "   macro avg       0.38      0.38      0.29        54\n",
      "weighted avg       0.35      0.41      0.29        54\n",
      "\n",
      "Accuracy: 0.4074074074074074\n",
      "MCC = 0.13158197006000372\n",
      "AUC = {0: 0.4857142857142857, 1: 0.5338235294117647, 2: 0.5871794871794871}\n"
     ]
    }
   ],
   "source": [
    "print('Using 20% testing subset:')\n",
    "SVM_class(X_train_20,X_test_20,y_train_20,y_test_20)\n",
    "print('Using 40% testing subset:')\n",
    "SVM_class(X_train_40,X_test_40,y_train_40,y_test_40)"
   ]
  },
  {
   "cell_type": "markdown",
   "id": "f4e5ad9a",
   "metadata": {},
   "source": [
    "### Random Forest classifier"
   ]
  },
  {
   "cell_type": "code",
   "execution_count": 10,
   "id": "7e1689f4",
   "metadata": {},
   "outputs": [],
   "source": [
    "def SRF_class(X_train,X_test,y_train,y_test):\n",
    "    model = RandomForestClassifier().fit(X_train,y_train)\n",
    "    y_predicted = model.predict(X_test)\n",
    "\n",
    "    print(classification_report(y_test, y_predicted))\n",
    "    print(\"Accuracy:\", accuracy_score(y_test, y_predicted))\n",
    "    print(\"MCC =\",matthews_corrcoef(y_test, y_predicted))\n",
    "    \n",
    "    y_test = label_binarize(y_test, classes=np.arange(3))\n",
    "    y_predicted = label_binarize(y_predicted, classes=np.arange(3))\n",
    "    fpr = dict()\n",
    "    tpr = dict()\n",
    "    roc_auc = dict()\n",
    "    for i in range(3):\n",
    "        fpr[i], tpr[i], _ = roc_curve(y_test[:, i], y_predicted[:, i])\n",
    "        roc_auc[i] = auc(fpr[i], tpr[i])\n",
    "    print(\"AUC =\",roc_auc)"
   ]
  },
  {
   "cell_type": "code",
   "execution_count": 11,
   "id": "a4edcd6b",
   "metadata": {},
   "outputs": [
    {
     "name": "stdout",
     "output_type": "stream",
     "text": [
      "Using 20% testing subset:\n",
      "              precision    recall  f1-score   support\n",
      "\n",
      "           0       0.11      0.11      0.11         9\n",
      "           1       0.31      0.40      0.35        10\n",
      "           2       0.40      0.25      0.31         8\n",
      "\n",
      "    accuracy                           0.26        27\n",
      "   macro avg       0.27      0.25      0.26        27\n",
      "weighted avg       0.27      0.26      0.26        27\n",
      "\n",
      "Accuracy: 0.25925925925925924\n",
      "MCC = -0.13226382625801722\n",
      "AUC = {0: 0.33333333333333337, 1: 0.43529411764705883, 2: 0.5460526315789473}\n",
      "Using 40% testing subset:\n",
      "              precision    recall  f1-score   support\n",
      "\n",
      "           0       0.21      0.21      0.21        19\n",
      "           1       0.37      0.50      0.43        20\n",
      "           2       0.38      0.20      0.26        15\n",
      "\n",
      "    accuracy                           0.31        54\n",
      "   macro avg       0.32      0.30      0.30        54\n",
      "weighted avg       0.32      0.31      0.30        54\n",
      "\n",
      "Accuracy: 0.3148148148148148\n",
      "MCC = -0.05585417201113857\n",
      "AUC = {0: 0.39097744360902253, 1: 0.5, 2: 0.5358974358974359}\n"
     ]
    }
   ],
   "source": [
    "print('Using 20% testing subset:')\n",
    "SRF_class(X_train_20,X_test_20,y_train_20,y_test_20)\n",
    "print('Using 40% testing subset:')\n",
    "SRF_class(X_train_40,X_test_40,y_train_40,y_test_40)"
   ]
  },
  {
   "cell_type": "markdown",
   "id": "dc17aa7b",
   "metadata": {},
   "source": [
    "### Logistic Regression"
   ]
  },
  {
   "cell_type": "code",
   "execution_count": 12,
   "id": "ce711b96",
   "metadata": {},
   "outputs": [],
   "source": [
    "def LR_class(X_train,X_test,y_train,y_test):\n",
    "    model = LogisticRegression(multi_class='multinomial', solver='lbfgs').fit(X_train,y_train)\n",
    "    y_predicted = model.predict(X_test)\n",
    "\n",
    "    print(classification_report(y_test, y_predicted))\n",
    "    print(\"Accuracy:\", accuracy_score(y_test, y_predicted))\n",
    "    print(\"MCC =\",matthews_corrcoef(y_test, y_predicted))\n",
    "    \n",
    "    y_test = label_binarize(y_test, classes=np.arange(3))\n",
    "    y_predicted = label_binarize(y_predicted, classes=np.arange(3))\n",
    "    fpr = dict()\n",
    "    tpr = dict()\n",
    "    roc_auc = dict()\n",
    "    for i in range(3):\n",
    "        fpr[i], tpr[i], _ = roc_curve(y_test[:, i], y_predicted[:, i])\n",
    "        roc_auc[i] = auc(fpr[i], tpr[i])\n",
    "    print(\"AUC =\",roc_auc)"
   ]
  },
  {
   "cell_type": "code",
   "execution_count": 13,
   "id": "4ec8a707",
   "metadata": {},
   "outputs": [
    {
     "name": "stdout",
     "output_type": "stream",
     "text": [
      "Using 20% testing subset:\n",
      "              precision    recall  f1-score   support\n",
      "\n",
      "           0       0.00      0.00      0.00         9\n",
      "           1       0.25      0.40      0.31        10\n",
      "           2       0.75      0.38      0.50         8\n",
      "\n",
      "    accuracy                           0.26        27\n",
      "   macro avg       0.33      0.26      0.27        27\n",
      "weighted avg       0.31      0.26      0.26        27\n",
      "\n",
      "Accuracy: 0.25925925925925924\n",
      "MCC = -0.14852213144650114\n",
      "AUC = {0: 0.3055555555555556, 1: 0.34705882352941175, 2: 0.6611842105263158}\n",
      "Using 40% testing subset:\n",
      "              precision    recall  f1-score   support\n",
      "\n",
      "           0       0.00      0.00      0.00        19\n",
      "           1       0.34      0.70      0.46        20\n",
      "           2       0.50      0.27      0.35        15\n",
      "\n",
      "    accuracy                           0.33        54\n",
      "   macro avg       0.28      0.32      0.27        54\n",
      "weighted avg       0.27      0.33      0.27        54\n",
      "\n",
      "Accuracy: 0.3333333333333333\n",
      "MCC = -0.04236132991534914\n",
      "AUC = {0: 0.4285714285714286, 1: 0.45294117647058824, 2: 0.582051282051282}\n"
     ]
    }
   ],
   "source": [
    "print('Using 20% testing subset:')\n",
    "LR_class(X_train_20,X_test_20,y_train_20,y_test_20)\n",
    "print('Using 40% testing subset:')\n",
    "LR_class(X_train_40,X_test_40,y_train_40,y_test_40)"
   ]
  },
  {
   "cell_type": "markdown",
   "id": "2a0ee59b",
   "metadata": {},
   "source": [
    "### Test which PCA variance is the best for XGBoost classifier model"
   ]
  },
  {
   "cell_type": "code",
   "execution_count": 3,
   "id": "dce5afdc",
   "metadata": {},
   "outputs": [],
   "source": [
    "variances = np.arange(0.5, 0.99, 0.01).tolist()\n",
    "nbr_tests = 100\n",
    "\n",
    "# Creates a list containing 5 lists, each of 8 items, all set to 0\n",
    "w, h = nbr_tests, len(variances)\n",
    "perf = [[0 for x in range(w)] for y in range(h)] \n",
    "\n",
    "for i in range(nbr_tests):\n",
    "    for j in range(len(variances)):\n",
    "        pca = PCA(variances[j])\n",
    "\n",
    "        principalComponents = pca.fit_transform(X)\n",
    "        principalDf = pd.DataFrame(data = principalComponents)\n",
    "\n",
    "        X_train, X_test, y_train, y_test = train_test_split(principalDf, y, test_size = 0.20)\n",
    "\n",
    "        clf = xgb.XGBClassifier(random_state = random.randint(0,nbr_tests),use_label_encoder =False,objective='multi:softproba')\n",
    "        clf.fit(X_train, y_train)\n",
    "        y_predicted = clf.predict_proba(X_test)\n",
    "\n",
    "        log_l = log_loss(y_test, y_predicted) \n",
    "        perf[j][i] = log_l\n",
    "\n",
    "avg_perf = []\n",
    "for i in range(len(perf)):\n",
    "    avg_perf.append(sum(perf[i]) / len(perf[i]))"
   ]
  },
  {
   "cell_type": "code",
   "execution_count": 4,
   "id": "ed8a23e7",
   "metadata": {},
   "outputs": [
    {
     "data": {
      "image/png": "[encoded data removed]",
      "text/plain": [
       "<Figure size 432x288 with 1 Axes>"
      ]
     },
     "metadata": {
      "needs_background": "light"
     },
     "output_type": "display_data"
    },
    {
     "name": "stdout",
     "output_type": "stream",
     "text": [
      "So best variance with the XGBoost Classifier model is 0.6900000000000002\n"
     ]
    }
   ],
   "source": [
    "plt.plot(variances, [item[0] for item in perf], linestyle='--')\n",
    "plt.plot(variances, avg_perf)\n",
    "plt.xlabel('Variance') \n",
    "plt.ylabel('XGBoost log loss') \n",
    "plt.title(\"XGBoost performance on the PCA variances\")\n",
    "plt.legend(['Single run',('Average of '+str(nbr_tests)+' runs')])\n",
    "plt.show()\n",
    "print(\"So best variance with the XGBoost Classifier model is\",variances[avg_perf.index(max(avg_perf))])"
   ]
  },
  {
   "cell_type": "code",
   "execution_count": null,
   "id": "75902491",
   "metadata": {},
   "outputs": [],
   "source": []
  }
 ],
 "metadata": {
  "kernelspec": {
   "display_name": "Python 3 (ipykernel)",
   "language": "python",
   "name": "python3"
  },
  "language_info": {
   "codemirror_mode": {
    "name": "ipython",
    "version": 3
   },
   "file_extension": ".py",
   "mimetype": "text/x-python",
   "name": "python",
   "nbconvert_exporter": "python",
   "pygments_lexer": "ipython3",
   "version": "3.9.12"
  }
 },
 "nbformat": 4,
 "nbformat_minor": 5
}
