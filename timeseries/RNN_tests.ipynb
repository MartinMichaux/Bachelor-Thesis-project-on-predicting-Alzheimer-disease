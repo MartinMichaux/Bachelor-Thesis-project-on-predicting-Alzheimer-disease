{
 "cells": [
  {
   "cell_type": "markdown",
   "id": "47c73d8a",
   "metadata": {},
   "source": [
    "# Recurrent Neural Network for Time Series Forecasting\n",
    "\n",
    "https://www.tensorflow.org/tutorials/structured_data/time_series"
   ]
  },
  {
   "cell_type": "code",
   "execution_count": 3,
   "id": "46154672",
   "metadata": {},
   "outputs": [],
   "source": [
    "import matplotlib.pyplot as plt\n",
    "\n",
    "import numpy as np\n",
    "import pandas as pd\n",
    "\n",
    "\n",
    "import torch.optim as optim\n",
    "#from torch.utils.tensorboard import SummaryWriter\n",
    "\n",
    "from darts.dataprocessing.transformers import Scaler\n",
    "from darts.models import RNNModel, Theta\n",
    "from darts.metrics import mape, rmse, r2_score\n",
    "from darts.utils.statistics import check_seasonality, plot_acf\n",
    "from darts.utils.timeseries_generation import datetime_attribute_timeseries\n",
    "\n",
    "import sys\n",
    "import time\n",
    "import warnings\n",
    "warnings.filterwarnings(\"ignore\")\n",
    "import logging\n",
    "logging.disable(logging.CRITICAL)"
   ]
  },
  {
   "cell_type": "code",
   "execution_count": 39,
   "id": "f80f09dd",
   "metadata": {},
   "outputs": [],
   "source": [
    "# Drop first column of dataframe\n",
    "def drop_first_col(df):\n",
    "    return df.iloc[: , 1:]\n",
    "\n",
    "df = pd.read_csv(\"dataset\\\\full.csv\")\n",
    "df = drop_first_col(df)\n",
    "\n",
    "train = df.loc[0:df.shape[0]*0.8]\n",
    "test = df.loc[df.shape[0]*0.8:df.shape[0]]\n",
    "\n",
    "df.set_index('VISCODE',inplace=True)\n",
    "train.set_index('VISCODE',inplace=True)\n",
    "test.set_index('VISCODE',inplace=True)"
   ]
  },
  {
   "cell_type": "code",
   "execution_count": 40,
   "id": "77543fc8",
   "metadata": {},
   "outputs": [
    {
     "ename": "AttributeError",
     "evalue": "'DataFrame' object has no attribute '_assert_univariate'",
     "output_type": "error",
     "traceback": [
      "\u001b[1;31m---------------------------------------------------------------------------\u001b[0m",
      "\u001b[1;31mAttributeError\u001b[0m                            Traceback (most recent call last)",
      "\u001b[1;32m<ipython-input-40-7a51040d84eb>\u001b[0m in \u001b[0;36m<module>\u001b[1;34m\u001b[0m\n\u001b[0;32m      3\u001b[0m                   \u001b[1;31m# 300 will take as much as 30 - 50 minutes of processing time\u001b[0m\u001b[1;33m\u001b[0m\u001b[1;33m\u001b[0m\u001b[1;33m\u001b[0m\u001b[0m\n\u001b[0;32m      4\u001b[0m \u001b[1;33m\u001b[0m\u001b[0m\n\u001b[1;32m----> 5\u001b[1;33m \u001b[0mis_seasonal\u001b[0m\u001b[1;33m,\u001b[0m \u001b[0mperiodicity\u001b[0m \u001b[1;33m=\u001b[0m \u001b[0mcheck_seasonality\u001b[0m\u001b[1;33m(\u001b[0m\u001b[0mdf\u001b[0m\u001b[1;33m,\u001b[0m \u001b[0mmax_lag\u001b[0m\u001b[1;33m=\u001b[0m\u001b[1;36m240\u001b[0m\u001b[1;33m)\u001b[0m\u001b[1;33m\u001b[0m\u001b[1;33m\u001b[0m\u001b[0m\n\u001b[0m\u001b[0;32m      6\u001b[0m \u001b[1;33m\u001b[0m\u001b[0m\n\u001b[0;32m      7\u001b[0m \u001b[1;31m# print(type(model_train))\u001b[0m\u001b[1;33m\u001b[0m\u001b[1;33m\u001b[0m\u001b[1;33m\u001b[0m\u001b[0m\n",
      "\u001b[1;32m~\\anaconda3\\lib\\site-packages\\darts\\utils\\statistics.py\u001b[0m in \u001b[0;36mcheck_seasonality\u001b[1;34m(ts, m, max_lag, alpha)\u001b[0m\n\u001b[0;32m     50\u001b[0m     \"\"\"\n\u001b[0;32m     51\u001b[0m \u001b[1;33m\u001b[0m\u001b[0m\n\u001b[1;32m---> 52\u001b[1;33m     \u001b[0mts\u001b[0m\u001b[1;33m.\u001b[0m\u001b[0m_assert_univariate\u001b[0m\u001b[1;33m(\u001b[0m\u001b[1;33m)\u001b[0m\u001b[1;33m\u001b[0m\u001b[1;33m\u001b[0m\u001b[0m\n\u001b[0m\u001b[0;32m     53\u001b[0m \u001b[1;33m\u001b[0m\u001b[0m\n\u001b[0;32m     54\u001b[0m     \u001b[1;32mif\u001b[0m \u001b[0mm\u001b[0m \u001b[1;32mis\u001b[0m \u001b[1;32mnot\u001b[0m \u001b[1;32mNone\u001b[0m \u001b[1;32mand\u001b[0m \u001b[1;33m(\u001b[0m\u001b[0mm\u001b[0m \u001b[1;33m<\u001b[0m \u001b[1;36m2\u001b[0m \u001b[1;32mor\u001b[0m \u001b[1;32mnot\u001b[0m \u001b[0misinstance\u001b[0m\u001b[1;33m(\u001b[0m\u001b[0mm\u001b[0m\u001b[1;33m,\u001b[0m \u001b[0mint\u001b[0m\u001b[1;33m)\u001b[0m\u001b[1;33m)\u001b[0m\u001b[1;33m:\u001b[0m\u001b[1;33m\u001b[0m\u001b[1;33m\u001b[0m\u001b[0m\n",
      "\u001b[1;32m~\\anaconda3\\lib\\site-packages\\pandas\\core\\generic.py\u001b[0m in \u001b[0;36m__getattr__\u001b[1;34m(self, name)\u001b[0m\n\u001b[0;32m   5463\u001b[0m             \u001b[1;32mif\u001b[0m \u001b[0mself\u001b[0m\u001b[1;33m.\u001b[0m\u001b[0m_info_axis\u001b[0m\u001b[1;33m.\u001b[0m\u001b[0m_can_hold_identifiers_and_holds_name\u001b[0m\u001b[1;33m(\u001b[0m\u001b[0mname\u001b[0m\u001b[1;33m)\u001b[0m\u001b[1;33m:\u001b[0m\u001b[1;33m\u001b[0m\u001b[1;33m\u001b[0m\u001b[0m\n\u001b[0;32m   5464\u001b[0m                 \u001b[1;32mreturn\u001b[0m \u001b[0mself\u001b[0m\u001b[1;33m[\u001b[0m\u001b[0mname\u001b[0m\u001b[1;33m]\u001b[0m\u001b[1;33m\u001b[0m\u001b[1;33m\u001b[0m\u001b[0m\n\u001b[1;32m-> 5465\u001b[1;33m             \u001b[1;32mreturn\u001b[0m \u001b[0mobject\u001b[0m\u001b[1;33m.\u001b[0m\u001b[0m__getattribute__\u001b[0m\u001b[1;33m(\u001b[0m\u001b[0mself\u001b[0m\u001b[1;33m,\u001b[0m \u001b[0mname\u001b[0m\u001b[1;33m)\u001b[0m\u001b[1;33m\u001b[0m\u001b[1;33m\u001b[0m\u001b[0m\n\u001b[0m\u001b[0;32m   5466\u001b[0m \u001b[1;33m\u001b[0m\u001b[0m\n\u001b[0;32m   5467\u001b[0m     \u001b[1;32mdef\u001b[0m \u001b[0m__setattr__\u001b[0m\u001b[1;33m(\u001b[0m\u001b[0mself\u001b[0m\u001b[1;33m,\u001b[0m \u001b[0mname\u001b[0m\u001b[1;33m:\u001b[0m \u001b[0mstr\u001b[0m\u001b[1;33m,\u001b[0m \u001b[0mvalue\u001b[0m\u001b[1;33m)\u001b[0m \u001b[1;33m->\u001b[0m \u001b[1;32mNone\u001b[0m\u001b[1;33m:\u001b[0m\u001b[1;33m\u001b[0m\u001b[1;33m\u001b[0m\u001b[0m\n",
      "\u001b[1;31mAttributeError\u001b[0m: 'DataFrame' object has no attribute '_assert_univariate'"
     ]
    }
   ],
   "source": [
    "EPOCH = 3         # for testing or debugging, rather than real forecasts, \n",
    "                  # set EPOCH to a low value like 3; for the real deal: 300 \n",
    "                  # 300 will take as much as 30 - 50 minutes of processing time\n",
    "        \n",
    "is_seasonal, periodicity = check_seasonality(df, max_lag=240)\n",
    "\n",
    "# print(type(model_train))\n",
    "    \n",
    "# # normalize the time series\n",
    "# trf = Scaler()\n",
    "# # fit the transformer to the training dataset\n",
    "# train_trf = trf.fit_transform(np.squeeze(model_train))\n",
    "# # apply the transformer to the validation set and the complete series \n",
    "# val_trf = trf.transform(model_validation)\n",
    "# ts_trf = trf.transform(model_test)"
   ]
  },
  {
   "cell_type": "code",
   "execution_count": 43,
   "id": "cfd3ae50",
   "metadata": {},
   "outputs": [],
   "source": [
    "# set up, fit, run, plot, and evaluate the RNN model\n",
    "\n",
    "def run_RNN(flavor, ts, train, val):\n",
    "\n",
    "    # set the model up\n",
    "    model_RNN = RNNModel(\n",
    "        model=flavor,\n",
    "        model_name=flavor + str(\" RNN\"),\n",
    "        input_chunk_length=5,\n",
    "        training_length=20,\n",
    "        hidden_dim=20,\n",
    "        batch_size=16,\n",
    "        n_epochs=EPOCH,\n",
    "        dropout=0,\n",
    "        optimizer_kwargs={'lr': 1e-3},\n",
    "        log_tensorboard=True,\n",
    "        random_state=42,\n",
    "        force_reset=True)\n",
    "        \n",
    "    if flavor == \"RNN\": flavor = \"Vanilla\" \n",
    "\n",
    "    # fit the model\n",
    "    fit_it(model_RNN, train, val, flavor)\n",
    "\n",
    "    # compute N predictions\n",
    "    pred = model_RNN.predict(n=FC_N, future_covariates=covariates) \n",
    "\n",
    "    # plot predictions vs actual\n",
    "    plot_fitted(pred, ts, flavor)\n",
    "\n",
    "    # print accuracy metrics\n",
    "    res_acc = accuracy_metrics(pred, ts)    \n",
    "    print(flavor + \" : \")\n",
    "    _ = [print(k,\":\",f'{v:.4f}') for k,v in res_acc.items()]\n",
    "\n",
    "    return [pred, res_acc]"
   ]
  },
  {
   "cell_type": "code",
   "execution_count": 45,
   "id": "5ec87cde",
   "metadata": {},
   "outputs": [],
   "source": [
    "\n",
    "# helper function: fit the RNN model\n",
    "\n",
    "def fit_it(model, train, val, flavor):\n",
    "    t_start =  time.perf_counter()\n",
    "    print(\"\\nbeginning the training of the {0} RNN:\".format(flavor))\n",
    "\n",
    "    res = model.fit(train,\n",
    "             future_covariates=covariates,\n",
    "             val_series=val,\n",
    "             val_future_covariates=covariates,\n",
    "             verbose=True)\n",
    "\n",
    "    res_time = time.perf_counter() - t_start\n",
    "    print(\"training of the {0} RNN has completed:\".format(flavor), f'{res_time:.2f} sec')\n",
    "\n",
    "    return res\n"
   ]
  },
  {
   "cell_type": "code",
   "execution_count": 46,
   "id": "cf2ed24d",
   "metadata": {},
   "outputs": [
    {
     "name": "stdout",
     "output_type": "stream",
     "text": [
      "\n",
      "beginning the training of the LSTM RNN:\n"
     ]
    },
    {
     "ename": "NameError",
     "evalue": "name 'covariates' is not defined",
     "output_type": "error",
     "traceback": [
      "\u001b[1;31m---------------------------------------------------------------------------\u001b[0m",
      "\u001b[1;31mNameError\u001b[0m                                 Traceback (most recent call last)",
      "\u001b[1;32m<ipython-input-46-8664eeafed7d>\u001b[0m in \u001b[0;36m<module>\u001b[1;34m\u001b[0m\n\u001b[0;32m      3\u001b[0m \u001b[1;33m\u001b[0m\u001b[0m\n\u001b[0;32m      4\u001b[0m \u001b[1;31m# call the RNN model setup for each of the 3 RNN flavors\u001b[0m\u001b[1;33m\u001b[0m\u001b[1;33m\u001b[0m\u001b[1;33m\u001b[0m\u001b[0m\n\u001b[1;32m----> 5\u001b[1;33m \u001b[0mres_flavors\u001b[0m \u001b[1;33m=\u001b[0m \u001b[1;33m[\u001b[0m\u001b[0mrun_RNN\u001b[0m\u001b[1;33m(\u001b[0m\u001b[0mflv\u001b[0m\u001b[1;33m,\u001b[0m \u001b[0mtest\u001b[0m\u001b[1;33m,\u001b[0m \u001b[0mtrain\u001b[0m\u001b[1;33m,\u001b[0m \u001b[0mvalidation\u001b[0m\u001b[1;33m)\u001b[0m \u001b[1;32mfor\u001b[0m \u001b[0mflv\u001b[0m \u001b[1;32min\u001b[0m \u001b[0mflavors\u001b[0m\u001b[1;33m]\u001b[0m\u001b[1;33m\u001b[0m\u001b[1;33m\u001b[0m\u001b[0m\n\u001b[0m",
      "\u001b[1;32m<ipython-input-46-8664eeafed7d>\u001b[0m in \u001b[0;36m<listcomp>\u001b[1;34m(.0)\u001b[0m\n\u001b[0;32m      3\u001b[0m \u001b[1;33m\u001b[0m\u001b[0m\n\u001b[0;32m      4\u001b[0m \u001b[1;31m# call the RNN model setup for each of the 3 RNN flavors\u001b[0m\u001b[1;33m\u001b[0m\u001b[1;33m\u001b[0m\u001b[1;33m\u001b[0m\u001b[0m\n\u001b[1;32m----> 5\u001b[1;33m \u001b[0mres_flavors\u001b[0m \u001b[1;33m=\u001b[0m \u001b[1;33m[\u001b[0m\u001b[0mrun_RNN\u001b[0m\u001b[1;33m(\u001b[0m\u001b[0mflv\u001b[0m\u001b[1;33m,\u001b[0m \u001b[0mtest\u001b[0m\u001b[1;33m,\u001b[0m \u001b[0mtrain\u001b[0m\u001b[1;33m,\u001b[0m \u001b[0mvalidation\u001b[0m\u001b[1;33m)\u001b[0m \u001b[1;32mfor\u001b[0m \u001b[0mflv\u001b[0m \u001b[1;32min\u001b[0m \u001b[0mflavors\u001b[0m\u001b[1;33m]\u001b[0m\u001b[1;33m\u001b[0m\u001b[1;33m\u001b[0m\u001b[0m\n\u001b[0m",
      "\u001b[1;32m<ipython-input-43-78369030629c>\u001b[0m in \u001b[0;36mrun_RNN\u001b[1;34m(flavor, ts, train, val)\u001b[0m\n\u001b[0;32m     21\u001b[0m \u001b[1;33m\u001b[0m\u001b[0m\n\u001b[0;32m     22\u001b[0m     \u001b[1;31m# fit the model\u001b[0m\u001b[1;33m\u001b[0m\u001b[1;33m\u001b[0m\u001b[1;33m\u001b[0m\u001b[0m\n\u001b[1;32m---> 23\u001b[1;33m     \u001b[0mfit_it\u001b[0m\u001b[1;33m(\u001b[0m\u001b[0mmodel_RNN\u001b[0m\u001b[1;33m,\u001b[0m \u001b[0mtrain\u001b[0m\u001b[1;33m,\u001b[0m \u001b[0mval\u001b[0m\u001b[1;33m,\u001b[0m \u001b[0mflavor\u001b[0m\u001b[1;33m)\u001b[0m\u001b[1;33m\u001b[0m\u001b[1;33m\u001b[0m\u001b[0m\n\u001b[0m\u001b[0;32m     24\u001b[0m \u001b[1;33m\u001b[0m\u001b[0m\n\u001b[0;32m     25\u001b[0m     \u001b[1;31m# compute N predictions\u001b[0m\u001b[1;33m\u001b[0m\u001b[1;33m\u001b[0m\u001b[1;33m\u001b[0m\u001b[0m\n",
      "\u001b[1;32m<ipython-input-45-7ea98f2f2763>\u001b[0m in \u001b[0;36mfit_it\u001b[1;34m(model, train, val, flavor)\u001b[0m\n\u001b[0;32m      6\u001b[0m \u001b[1;33m\u001b[0m\u001b[0m\n\u001b[0;32m      7\u001b[0m     res = model.fit(train,\n\u001b[1;32m----> 8\u001b[1;33m              \u001b[0mfuture_covariates\u001b[0m\u001b[1;33m=\u001b[0m\u001b[0mcovariates\u001b[0m\u001b[1;33m,\u001b[0m\u001b[1;33m\u001b[0m\u001b[1;33m\u001b[0m\u001b[0m\n\u001b[0m\u001b[0;32m      9\u001b[0m              \u001b[0mval_series\u001b[0m\u001b[1;33m=\u001b[0m\u001b[0mval\u001b[0m\u001b[1;33m,\u001b[0m\u001b[1;33m\u001b[0m\u001b[1;33m\u001b[0m\u001b[0m\n\u001b[0;32m     10\u001b[0m              \u001b[0mval_future_covariates\u001b[0m\u001b[1;33m=\u001b[0m\u001b[0mcovariates\u001b[0m\u001b[1;33m,\u001b[0m\u001b[1;33m\u001b[0m\u001b[1;33m\u001b[0m\u001b[0m\n",
      "\u001b[1;31mNameError\u001b[0m: name 'covariates' is not defined"
     ]
    }
   ],
   "source": [
    "# run 3 different flavors of RNN on the time series:\n",
    "flavors = [\"LSTM\", \"GRU\", \"RNN\"]\n",
    "\n",
    "# call the RNN model setup for each of the 3 RNN flavors\n",
    "res_flavors = [run_RNN(flv, test, train, validation) for flv in flavors]"
   ]
  },
  {
   "cell_type": "code",
   "execution_count": null,
   "id": "597d990d",
   "metadata": {},
   "outputs": [],
   "source": []
  }
 ],
 "metadata": {
  "kernelspec": {
   "display_name": "Python 3",
   "language": "python",
   "name": "python3"
  },
  "language_info": {
   "codemirror_mode": {
    "name": "ipython",
    "version": 3
   },
   "file_extension": ".py",
   "mimetype": "text/x-python",
   "name": "python",
   "nbconvert_exporter": "python",
   "pygments_lexer": "ipython3",
   "version": "3.8.8"
  }
 },
 "nbformat": 4,
 "nbformat_minor": 5
}
