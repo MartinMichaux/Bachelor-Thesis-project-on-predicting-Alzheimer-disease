{
 "cells": [
  {
   "cell_type": "markdown",
   "id": "b9eaf887",
   "metadata": {},
   "source": [
    "# Pre-processing"
   ]
  },
  {
   "cell_type": "code",
   "execution_count": 12,
   "id": "7e455123",
   "metadata": {},
   "outputs": [],
   "source": [
    "import numpy as np\n",
    "import pandas as pd\n",
    "import matplotlib.pyplot as plt\n",
    "import seaborn as sns\n",
    "from scipy.stats import poisson\n",
    "from scipy import stats\n",
    "from sklearn import preprocessing\n",
    "from sklearn.model_selection import train_test_split \n",
    "pd.set_option('display.max_columns', None)"
   ]
  },
  {
   "cell_type": "markdown",
   "id": "133e3510",
   "metadata": {},
   "source": [
    "## Explore our dataset"
   ]
  },
  {
   "cell_type": "code",
   "execution_count": 35,
   "id": "36225468",
   "metadata": {},
   "outputs": [
    {
     "name": "stdout",
     "output_type": "stream",
     "text": [
      "(740, 3)\n",
      "   Intercept  variable_num   RID\n",
      "0  86.232097      0.337242   751\n",
      "1  88.573186      0.318934   934\n",
      "2  89.513067      0.316281  1408\n",
      "3  87.767324      0.316272  2208\n",
      "4  87.991367      0.309213    69\n",
      "     Intercept  variable_num  RID\n",
      "552  77.449713      -0.34106    4\n"
     ]
    }
   ],
   "source": [
    "df = pd.read_csv(\"dataset\\ADNI_coef_lm.csv\")\n",
    "# remove IDs columns\n",
    "df.drop(['Unnamed: 0','Age','GenderMale','yEdu'],axis=1,inplace=True)\n",
    "df.rename(columns = {'(Intercept)':'Intercept'}, inplace = True)\n",
    "print(df.shape)\n",
    "print(df.head())"
   ]
  },
  {
   "cell_type": "code",
   "execution_count": 30,
   "id": "9f36ee99",
   "metadata": {},
   "outputs": [
    {
     "data": {
      "text/html": [
       "<div>\n",
       "<style scoped>\n",
       "    .dataframe tbody tr th:only-of-type {\n",
       "        vertical-align: middle;\n",
       "    }\n",
       "\n",
       "    .dataframe tbody tr th {\n",
       "        vertical-align: top;\n",
       "    }\n",
       "\n",
       "    .dataframe thead th {\n",
       "        text-align: right;\n",
       "    }\n",
       "</style>\n",
       "<table border=\"1\" class=\"dataframe\">\n",
       "  <thead>\n",
       "    <tr style=\"text-align: right;\">\n",
       "      <th></th>\n",
       "      <th>Intercept</th>\n",
       "      <th>variable_num</th>\n",
       "      <th>RID</th>\n",
       "    </tr>\n",
       "  </thead>\n",
       "  <tbody>\n",
       "    <tr>\n",
       "      <th>count</th>\n",
       "      <td>740.000000</td>\n",
       "      <td>740.000000</td>\n",
       "      <td>740.000000</td>\n",
       "    </tr>\n",
       "    <tr>\n",
       "      <th>mean</th>\n",
       "      <td>83.022119</td>\n",
       "      <td>-0.161119</td>\n",
       "      <td>2169.617568</td>\n",
       "    </tr>\n",
       "    <tr>\n",
       "      <th>std</th>\n",
       "      <td>8.586054</td>\n",
       "      <td>0.282038</td>\n",
       "      <td>1813.869791</td>\n",
       "    </tr>\n",
       "    <tr>\n",
       "      <th>min</th>\n",
       "      <td>58.988369</td>\n",
       "      <td>-1.038656</td>\n",
       "      <td>2.000000</td>\n",
       "    </tr>\n",
       "    <tr>\n",
       "      <th>25%</th>\n",
       "      <td>77.566760</td>\n",
       "      <td>-0.342697</td>\n",
       "      <td>566.750000</td>\n",
       "    </tr>\n",
       "    <tr>\n",
       "      <th>50%</th>\n",
       "      <td>84.201929</td>\n",
       "      <td>-0.124632</td>\n",
       "      <td>1283.000000</td>\n",
       "    </tr>\n",
       "    <tr>\n",
       "      <th>75%</th>\n",
       "      <td>90.080545</td>\n",
       "      <td>0.070164</td>\n",
       "      <td>4295.500000</td>\n",
       "    </tr>\n",
       "    <tr>\n",
       "      <th>max</th>\n",
       "      <td>99.392742</td>\n",
       "      <td>0.337242</td>\n",
       "      <td>5289.000000</td>\n",
       "    </tr>\n",
       "  </tbody>\n",
       "</table>\n",
       "</div>"
      ],
      "text/plain": [
       "        Intercept  variable_num          RID\n",
       "count  740.000000    740.000000   740.000000\n",
       "mean    83.022119     -0.161119  2169.617568\n",
       "std      8.586054      0.282038  1813.869791\n",
       "min     58.988369     -1.038656     2.000000\n",
       "25%     77.566760     -0.342697   566.750000\n",
       "50%     84.201929     -0.124632  1283.000000\n",
       "75%     90.080545      0.070164  4295.500000\n",
       "max     99.392742      0.337242  5289.000000"
      ]
     },
     "execution_count": 30,
     "metadata": {},
     "output_type": "execute_result"
    }
   ],
   "source": [
    "#check dataset statistics\n",
    "df.describe()"
   ]
  },
  {
   "cell_type": "code",
   "execution_count": 15,
   "id": "5b20450f",
   "metadata": {},
   "outputs": [
    {
     "name": "stderr",
     "output_type": "stream",
     "text": [
      "C:\\Users\\marti\\anaconda3\\lib\\site-packages\\seaborn\\distributions.py:2557: FutureWarning: `distplot` is a deprecated function and will be removed in a future version. Please adapt your code to use either `displot` (a figure-level function with similar flexibility) or `histplot` (an axes-level function for histograms).\n",
      "  warnings.warn(msg, FutureWarning)\n"
     ]
    },
    {
     "data": {
      "text/plain": [
       "<AxesSubplot:ylabel='Density'>"
      ]
     },
     "execution_count": 15,
     "metadata": {},
     "output_type": "execute_result"
    },
    {
     "data": {
      "image/png": "[encoded data removed]",
      "text/plain": [
       "<Figure size 432x288 with 1 Axes>"
      ]
     },
     "metadata": {
      "needs_background": "light"
     },
     "output_type": "display_data"
    }
   ],
   "source": [
    "#check dataset distribution\n",
    "sns.distplot(data)"
   ]
  },
  {
   "cell_type": "markdown",
   "id": "da5125f4",
   "metadata": {},
   "source": [
    "Why negative values ? Because data has already been log-normalized -> low intensities of a protein are negative."
   ]
  },
  {
   "cell_type": "code",
   "execution_count": 16,
   "id": "e4686307",
   "metadata": {},
   "outputs": [
    {
     "data": {
      "image/png": "[encoded data removed]",
      "text/plain": [
       "<Figure size 432x288 with 1 Axes>"
      ]
     },
     "metadata": {
      "needs_background": "light"
     },
     "output_type": "display_data"
    }
   ],
   "source": [
    "#plot each sample boxplot\n",
    "plt.boxplot(data.transpose())\n",
    "plt.title('boxplot of all values per sample')\n",
    "plt.show()"
   ]
  },
  {
   "cell_type": "markdown",
   "id": "1a25b9b9",
   "metadata": {},
   "source": [
    "Distribution of dataset does not seem to be nicely normally distributed -> need to be normalized"
   ]
  },
  {
   "cell_type": "markdown",
   "id": "dc5ced2f",
   "metadata": {},
   "source": [
    "## Normalization"
   ]
  },
  {
   "cell_type": "code",
   "execution_count": 17,
   "id": "d389b1fb",
   "metadata": {},
   "outputs": [],
   "source": [
    "#normally test function -> check if each column is normally distr\n",
    "def norm_test(data):\n",
    "    alpha = 1e-3\n",
    "    k2, p = stats.normaltest(data)\n",
    "    count=0\n",
    "    for i in p:\n",
    "        if i > alpha:  # null hypothesis: x comes from a normal distribution\n",
    "            count+=1\n",
    "    print('There are ',count,'normally distributed features out of',data.shape[1])"
   ]
  },
  {
   "cell_type": "markdown",
   "id": "d33e0909",
   "metadata": {},
   "source": [
    "### Quantile Normalization\n",
    "\n",
    "From other paper:\\\n",
    "The quantile technique was the most unique in that an iterative process was not required for normalization. Additionally, this normalization technique does not force the means of replicate samples to converge upon a predetermined value, as was observed in the case of the other three normalization techniques (i.e., central tendency, linear regression, and local regression), where the mean of relative peptide abundances were forced to converge to zero. When the quantile technique was applied to our data, the mean of the common distribution following normalization fell within the range of means for the compared runs. This observation has an important implication related to the selection of a normalization technique and to the number of peptides common to all replicates runs used in the normalization process. Since we opted to perform central tendency, linear regression, and local regression normalization on a global scale, where measured abundances of all common peptides are used, we assumed that the leverage of peptide ratios containing biological variability on the mean relative abundance of the set of peptide ratios would not be significant. Such an assumption is commonly made for mRNA expression analysis where arrays are designed to target a large or complete set of open reading frames 21. In the case of high-throughput proteomics large number of peptides can be detected, but peptides can fail to be detected for many reasons (changes in the LC separation, the overshadowing of less abundant peptides by highly abundant peptides in the same spectrum, variations in MS performance, etc.) 3, 10. Hence, the mean relative abundance of replicate sets of peptide ratios may indeed lie above or below zero. In such a case, quantile normalization would be more suitable for reducing variability among these replicate runs."
   ]
  },
  {
   "cell_type": "code",
   "execution_count": 18,
   "id": "436d9fc8",
   "metadata": {},
   "outputs": [
    {
     "name": "stdout",
     "output_type": "stream",
     "text": [
      "There are  0 normally distributed features out of 5\n"
     ]
    }
   ],
   "source": [
    "#QUANTILE NORMALIZATION\n",
    "def quantile_normalize(df):\n",
    "    df_sorted = pd.DataFrame(np.sort(df.values,axis=0),index=df.index,columns=df.columns)\n",
    "    df_mean = df_sorted.mean(axis=1)\n",
    "    df_mean.index = np.arange(1, len(df_mean) + 1)\n",
    "    df_qn =df.rank(method=\"min\").stack().astype(int).map(df_mean).unstack()\n",
    "    return df_qn\n",
    "\n",
    "# compute quantile normalized data\n",
    "df_qn=quantile_normalize(data)\n",
    "data = df_qn\n",
    "norm_test(data)"
   ]
  },
  {
   "cell_type": "markdown",
   "id": "8b552112",
   "metadata": {},
   "source": [
    "### Box-cox transformation\n",
    "\n",
    "Data must be positive !\n",
    "\n",
    "The objective is to obtain a normal distribution of the transformed data (after transformation) and a constant variance.\n",
    "\n",
    "If a logarithmic transformation is applied to this distribution, the differences between smaller values will be expanded (because the slope of the logarithmic function is steeper when values are small) whereas the differences between larger values will be reduced (because of the very moderate slope of the log distribution for larger values). If you inflate differences on the left tail and reduce differences on the right side tail, the result will be a symmetrical normal distribution, and a variance that is now constant (whatever the mean)."
   ]
  },
  {
   "cell_type": "code",
   "execution_count": 19,
   "id": "073c808e",
   "metadata": {},
   "outputs": [
    {
     "ename": "ValueError",
     "evalue": "Data must not be constant.",
     "output_type": "error",
     "traceback": [
      "\u001b[1;31m---------------------------------------------------------------------------\u001b[0m",
      "\u001b[1;31mValueError\u001b[0m                                Traceback (most recent call last)",
      "\u001b[1;32m<ipython-input-19-63280591c005>\u001b[0m in \u001b[0;36m<module>\u001b[1;34m\u001b[0m\n\u001b[0;32m      3\u001b[0m \u001b[1;33m\u001b[0m\u001b[0m\n\u001b[0;32m      4\u001b[0m \u001b[1;32mfor\u001b[0m \u001b[0mcol\u001b[0m \u001b[1;32min\u001b[0m \u001b[0mdf_qn\u001b[0m\u001b[1;33m:\u001b[0m\u001b[1;33m\u001b[0m\u001b[1;33m\u001b[0m\u001b[0m\n\u001b[1;32m----> 5\u001b[1;33m     \u001b[0mdf_bc\u001b[0m\u001b[1;33m[\u001b[0m\u001b[0mcol\u001b[0m\u001b[1;33m]\u001b[0m\u001b[1;33m,\u001b[0m\u001b[0m_\u001b[0m \u001b[1;33m=\u001b[0m \u001b[0mstats\u001b[0m\u001b[1;33m.\u001b[0m\u001b[0mboxcox\u001b[0m\u001b[1;33m(\u001b[0m\u001b[0mdf_qn\u001b[0m\u001b[1;33m[\u001b[0m\u001b[0mcol\u001b[0m\u001b[1;33m]\u001b[0m\u001b[1;33m)\u001b[0m\u001b[1;33m\u001b[0m\u001b[1;33m\u001b[0m\u001b[0m\n\u001b[0m\u001b[0;32m      6\u001b[0m \u001b[0mdata\u001b[0m \u001b[1;33m=\u001b[0m \u001b[0mdf_qn\u001b[0m\u001b[1;33m\u001b[0m\u001b[1;33m\u001b[0m\u001b[0m\n\u001b[0;32m      7\u001b[0m \u001b[0mnorm_test\u001b[0m\u001b[1;33m(\u001b[0m\u001b[0mdata\u001b[0m\u001b[1;33m)\u001b[0m\u001b[1;33m\u001b[0m\u001b[1;33m\u001b[0m\u001b[0m\n",
      "\u001b[1;32m~\\anaconda3\\lib\\site-packages\\scipy\\stats\\morestats.py\u001b[0m in \u001b[0;36mboxcox\u001b[1;34m(x, lmbda, alpha)\u001b[0m\n\u001b[0;32m   1038\u001b[0m \u001b[1;33m\u001b[0m\u001b[0m\n\u001b[0;32m   1039\u001b[0m     \u001b[1;32mif\u001b[0m \u001b[0mnp\u001b[0m\u001b[1;33m.\u001b[0m\u001b[0mall\u001b[0m\u001b[1;33m(\u001b[0m\u001b[0mx\u001b[0m \u001b[1;33m==\u001b[0m \u001b[0mx\u001b[0m\u001b[1;33m[\u001b[0m\u001b[1;36m0\u001b[0m\u001b[1;33m]\u001b[0m\u001b[1;33m)\u001b[0m\u001b[1;33m:\u001b[0m\u001b[1;33m\u001b[0m\u001b[1;33m\u001b[0m\u001b[0m\n\u001b[1;32m-> 1040\u001b[1;33m         \u001b[1;32mraise\u001b[0m \u001b[0mValueError\u001b[0m\u001b[1;33m(\u001b[0m\u001b[1;34m\"Data must not be constant.\"\u001b[0m\u001b[1;33m)\u001b[0m\u001b[1;33m\u001b[0m\u001b[1;33m\u001b[0m\u001b[0m\n\u001b[0m\u001b[0;32m   1041\u001b[0m \u001b[1;33m\u001b[0m\u001b[0m\n\u001b[0;32m   1042\u001b[0m     \u001b[1;32mif\u001b[0m \u001b[0many\u001b[0m\u001b[1;33m(\u001b[0m\u001b[0mx\u001b[0m \u001b[1;33m<=\u001b[0m \u001b[1;36m0\u001b[0m\u001b[1;33m)\u001b[0m\u001b[1;33m:\u001b[0m\u001b[1;33m\u001b[0m\u001b[1;33m\u001b[0m\u001b[0m\n",
      "\u001b[1;31mValueError\u001b[0m: Data must not be constant."
     ]
    }
   ],
   "source": [
    "#compute box-cox transformation\n",
    "df_bc = pd.DataFrame().reindex_like(data)\n",
    "\n",
    "for col in df_qn:\n",
    "    df_bc[col],_ = stats.boxcox(df_qn[col])\n",
    "data = df_qn\n",
    "norm_test(data)"
   ]
  },
  {
   "cell_type": "code",
   "execution_count": null,
   "id": "38c5894f",
   "metadata": {},
   "outputs": [],
   "source": [
    "#check if data is better normally distributed\n",
    "sns.distplot(data)"
   ]
  },
  {
   "cell_type": "markdown",
   "id": "760334a4",
   "metadata": {},
   "source": [
    "## Split dataset"
   ]
  },
  {
   "cell_type": "code",
   "execution_count": null,
   "id": "3a66d83a",
   "metadata": {},
   "outputs": [],
   "source": [
    "data['binary_class'] = df['binary_class']\n",
    "data['three_class'] = df['three_class']\n",
    "X = data.drop(columns = ['binary_class','three_class'])\n",
    "y = data[\"three_class\"]\n",
    "\n",
    "X_train, X_test, y_train, y_test = train_test_split(X, y, test_size = 0.20, random_state = 97)"
   ]
  },
  {
   "cell_type": "markdown",
   "id": "73b9b0e7",
   "metadata": {},
   "source": [
    "## Export dataset"
   ]
  },
  {
   "cell_type": "code",
   "execution_count": null,
   "id": "a22a33cb",
   "metadata": {},
   "outputs": [],
   "source": [
    "#export to csv file\n",
    "X_train.to_csv(r'dataset\\X_train_3.csv')\n",
    "X_test.to_csv(r'dataset\\X_test_3.csv')\n",
    "y_train.to_csv(r'dataset\\y_train_3.csv')\n",
    "y_test.to_csv(r'dataset\\y_test_3.csv')"
   ]
  },
  {
   "cell_type": "code",
   "execution_count": null,
   "id": "9ffee2d2",
   "metadata": {},
   "outputs": [],
   "source": []
  }
 ],
 "metadata": {
  "kernelspec": {
   "display_name": "Python 3",
   "language": "python",
   "name": "python3"
  },
  "language_info": {
   "codemirror_mode": {
    "name": "ipython",
    "version": 3
   },
   "file_extension": ".py",
   "mimetype": "text/x-python",
   "name": "python",
   "nbconvert_exporter": "python",
   "pygments_lexer": "ipython3",
   "version": "3.8.8"
  }
 },
 "nbformat": 4,
 "nbformat_minor": 5
}
