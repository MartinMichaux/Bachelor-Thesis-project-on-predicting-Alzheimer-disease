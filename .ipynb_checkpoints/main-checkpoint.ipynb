{
 "cells": [
  {
   "cell_type": "markdown",
   "id": "f8338046",
   "metadata": {},
   "source": [
    "https://github.com/Rrtk2\n",
    "\n",
    "-> private + allow Rick and Rachel"
   ]
  },
  {
   "cell_type": "code",
   "execution_count": 1,
   "id": "ec9372f8",
   "metadata": {
    "executionInfo": {
     "elapsed": 410,
     "status": "ok",
     "timestamp": 1646753906957,
     "user": {
      "displayName": "Martin Michaux",
      "photoUrl": "https://lh3.googleusercontent.com/a-/AOh14GhP3cUk0MMaDhXGamrCKivoGAPHtiuN7cw--cP59g=s64",
      "userId": "05980751655666536919"
     },
     "user_tz": -60
    },
    "id": "ec9372f8"
   },
   "outputs": [],
   "source": [
    "import numpy as np\n",
    "import pandas as pd\n",
    "import matplotlib.pyplot as plt\n",
    "import seaborn as sns\n",
    "from scipy.stats import poisson"
   ]
  },
  {
   "cell_type": "code",
   "execution_count": 2,
   "id": "287bae06",
   "metadata": {
    "colab": {
     "base_uri": "https://localhost:8080/",
     "height": 299
    },
    "executionInfo": {
     "elapsed": 6,
     "status": "ok",
     "timestamp": 1646753907255,
     "user": {
      "displayName": "Martin Michaux",
      "photoUrl": "https://lh3.googleusercontent.com/a-/AOh14GhP3cUk0MMaDhXGamrCKivoGAPHtiuN7cw--cP59g=s64",
      "userId": "05980751655666536919"
     },
     "user_tz": -60
    },
    "id": "287bae06",
    "outputId": "394e64ec-c548-4ce8-e2f0-9086a86749f8"
   },
   "outputs": [
    {
     "data": {
      "text/html": [
       "<div>\n",
       "<style scoped>\n",
       "    .dataframe tbody tr th:only-of-type {\n",
       "        vertical-align: middle;\n",
       "    }\n",
       "\n",
       "    .dataframe tbody tr th {\n",
       "        vertical-align: top;\n",
       "    }\n",
       "\n",
       "    .dataframe thead th {\n",
       "        text-align: right;\n",
       "    }\n",
       "</style>\n",
       "<table border=\"1\" class=\"dataframe\">\n",
       "  <thead>\n",
       "    <tr style=\"text-align: right;\">\n",
       "      <th></th>\n",
       "      <th>RID</th>\n",
       "      <th>binary_class</th>\n",
       "      <th>DX.bl</th>\n",
       "      <th>three_class</th>\n",
       "      <th>X</th>\n",
       "      <th>ORIGPROT</th>\n",
       "      <th>VISCODE</th>\n",
       "      <th>A1AT.AVLTIDEK</th>\n",
       "      <th>A1AT.LSITGTYDLK</th>\n",
       "      <th>A1AT.SVLGQLGITK</th>\n",
       "      <th>...</th>\n",
       "      <th>UBB.TLSDYNIQK</th>\n",
       "      <th>VASN.NLHDLDVSDNQLER</th>\n",
       "      <th>VASN.SLTLGIEPVSPTSLR</th>\n",
       "      <th>VASN.YLQGSSVQLR</th>\n",
       "      <th>VGF.AYQGVAAPFPK</th>\n",
       "      <th>VGF.NSEPQDEGELFQGVDPR</th>\n",
       "      <th>VGF.THLGEALAPLSK</th>\n",
       "      <th>VTDB.EFSHLGK</th>\n",
       "      <th>VTDB.HLSLLTTLSNR</th>\n",
       "      <th>VTDB.VPTADLEDVLPLAEDITNILSK</th>\n",
       "    </tr>\n",
       "  </thead>\n",
       "  <tbody>\n",
       "    <tr>\n",
       "      <th>1</th>\n",
       "      <td>4</td>\n",
       "      <td>0</td>\n",
       "      <td>LMCI</td>\n",
       "      <td>0</td>\n",
       "      <td>2</td>\n",
       "      <td>ADNI1</td>\n",
       "      <td>bl</td>\n",
       "      <td>10.949712</td>\n",
       "      <td>7.708165</td>\n",
       "      <td>9.573963</td>\n",
       "      <td>...</td>\n",
       "      <td>22.433346</td>\n",
       "      <td>14.520762</td>\n",
       "      <td>11.920567</td>\n",
       "      <td>15.559591</td>\n",
       "      <td>17.137239</td>\n",
       "      <td>19.180601</td>\n",
       "      <td>15.879692</td>\n",
       "      <td>9.330754</td>\n",
       "      <td>19.078267</td>\n",
       "      <td>15.533694</td>\n",
       "    </tr>\n",
       "    <tr>\n",
       "      <th>2</th>\n",
       "      <td>33</td>\n",
       "      <td>1</td>\n",
       "      <td>LMCI</td>\n",
       "      <td>0</td>\n",
       "      <td>13</td>\n",
       "      <td>ADNI1</td>\n",
       "      <td>bl</td>\n",
       "      <td>10.764089</td>\n",
       "      <td>8.144418</td>\n",
       "      <td>9.561409</td>\n",
       "      <td>...</td>\n",
       "      <td>22.990240</td>\n",
       "      <td>15.042258</td>\n",
       "      <td>12.564332</td>\n",
       "      <td>16.162647</td>\n",
       "      <td>17.335445</td>\n",
       "      <td>19.107135</td>\n",
       "      <td>16.358891</td>\n",
       "      <td>9.619933</td>\n",
       "      <td>19.969954</td>\n",
       "      <td>15.963824</td>\n",
       "    </tr>\n",
       "    <tr>\n",
       "      <th>4</th>\n",
       "      <td>41</td>\n",
       "      <td>1</td>\n",
       "      <td>LMCI</td>\n",
       "      <td>1</td>\n",
       "      <td>16</td>\n",
       "      <td>ADNI1</td>\n",
       "      <td>bl</td>\n",
       "      <td>10.650946</td>\n",
       "      <td>8.176241</td>\n",
       "      <td>9.504176</td>\n",
       "      <td>...</td>\n",
       "      <td>22.214944</td>\n",
       "      <td>14.147466</td>\n",
       "      <td>11.879596</td>\n",
       "      <td>15.314367</td>\n",
       "      <td>16.923098</td>\n",
       "      <td>18.688839</td>\n",
       "      <td>15.961955</td>\n",
       "      <td>9.665518</td>\n",
       "      <td>19.457515</td>\n",
       "      <td>15.475607</td>\n",
       "    </tr>\n",
       "    <tr>\n",
       "      <th>5</th>\n",
       "      <td>42</td>\n",
       "      <td>1</td>\n",
       "      <td>LMCI</td>\n",
       "      <td>0</td>\n",
       "      <td>17</td>\n",
       "      <td>ADNI1</td>\n",
       "      <td>bl</td>\n",
       "      <td>10.197844</td>\n",
       "      <td>7.629740</td>\n",
       "      <td>9.583185</td>\n",
       "      <td>...</td>\n",
       "      <td>22.574874</td>\n",
       "      <td>14.818850</td>\n",
       "      <td>12.438868</td>\n",
       "      <td>15.894137</td>\n",
       "      <td>17.009460</td>\n",
       "      <td>18.724949</td>\n",
       "      <td>16.161613</td>\n",
       "      <td>10.017388</td>\n",
       "      <td>20.511504</td>\n",
       "      <td>16.278260</td>\n",
       "    </tr>\n",
       "    <tr>\n",
       "      <th>6</th>\n",
       "      <td>45</td>\n",
       "      <td>1</td>\n",
       "      <td>LMCI</td>\n",
       "      <td>1</td>\n",
       "      <td>18</td>\n",
       "      <td>ADNI1</td>\n",
       "      <td>bl</td>\n",
       "      <td>11.695952</td>\n",
       "      <td>7.426978</td>\n",
       "      <td>10.114171</td>\n",
       "      <td>...</td>\n",
       "      <td>23.040696</td>\n",
       "      <td>15.596177</td>\n",
       "      <td>13.224841</td>\n",
       "      <td>16.490632</td>\n",
       "      <td>18.269607</td>\n",
       "      <td>20.088496</td>\n",
       "      <td>17.197825</td>\n",
       "      <td>8.737022</td>\n",
       "      <td>19.649728</td>\n",
       "      <td>15.543085</td>\n",
       "    </tr>\n",
       "  </tbody>\n",
       "</table>\n",
       "<p>5 rows × 327 columns</p>\n",
       "</div>"
      ],
      "text/plain": [
       "   RID  binary_class DX.bl  three_class   X ORIGPROT VISCODE  A1AT.AVLTIDEK  \\\n",
       "1    4             0  LMCI            0   2    ADNI1      bl      10.949712   \n",
       "2   33             1  LMCI            0  13    ADNI1      bl      10.764089   \n",
       "4   41             1  LMCI            1  16    ADNI1      bl      10.650946   \n",
       "5   42             1  LMCI            0  17    ADNI1      bl      10.197844   \n",
       "6   45             1  LMCI            1  18    ADNI1      bl      11.695952   \n",
       "\n",
       "   A1AT.LSITGTYDLK  A1AT.SVLGQLGITK  ...  UBB.TLSDYNIQK  VASN.NLHDLDVSDNQLER  \\\n",
       "1         7.708165         9.573963  ...      22.433346            14.520762   \n",
       "2         8.144418         9.561409  ...      22.990240            15.042258   \n",
       "4         8.176241         9.504176  ...      22.214944            14.147466   \n",
       "5         7.629740         9.583185  ...      22.574874            14.818850   \n",
       "6         7.426978        10.114171  ...      23.040696            15.596177   \n",
       "\n",
       "   VASN.SLTLGIEPVSPTSLR  VASN.YLQGSSVQLR  VGF.AYQGVAAPFPK  \\\n",
       "1             11.920567        15.559591        17.137239   \n",
       "2             12.564332        16.162647        17.335445   \n",
       "4             11.879596        15.314367        16.923098   \n",
       "5             12.438868        15.894137        17.009460   \n",
       "6             13.224841        16.490632        18.269607   \n",
       "\n",
       "   VGF.NSEPQDEGELFQGVDPR  VGF.THLGEALAPLSK  VTDB.EFSHLGK  VTDB.HLSLLTTLSNR  \\\n",
       "1              19.180601         15.879692      9.330754         19.078267   \n",
       "2              19.107135         16.358891      9.619933         19.969954   \n",
       "4              18.688839         15.961955      9.665518         19.457515   \n",
       "5              18.724949         16.161613     10.017388         20.511504   \n",
       "6              20.088496         17.197825      8.737022         19.649728   \n",
       "\n",
       "   VTDB.VPTADLEDVLPLAEDITNILSK  \n",
       "1                    15.533694  \n",
       "2                    15.963824  \n",
       "4                    15.475607  \n",
       "5                    16.278260  \n",
       "6                    15.543085  \n",
       "\n",
       "[5 rows x 327 columns]"
      ]
     },
     "execution_count": 2,
     "metadata": {},
     "output_type": "execute_result"
    }
   ],
   "source": [
    "df = pd.read_csv(\"dataset\\CSF_Proteomics_ADNI.csv\")\n",
    "df['binary_class'].replace({'stable':0,'decliner':1},inplace=True)\n",
    "df['three_class'].replace({'slowDecline':0,'rapidDecline':1,'stable':2},inplace=True)\n",
    "\n",
    "pheno = df.loc[:,'RID':'VISCODE']\n",
    "data = df.loc[:,'A1AT.AVLTIDEK':'VTDB.VPTADLEDVLPLAEDITNILSK']\n",
    "\n",
    "df.head()"
   ]
  },
  {
   "cell_type": "code",
   "execution_count": 3,
   "id": "dfb66770",
   "metadata": {
    "colab": {
     "base_uri": "https://localhost:8080/",
     "height": 403
    },
    "executionInfo": {
     "elapsed": 449,
     "status": "ok",
     "timestamp": 1646753907699,
     "user": {
      "displayName": "Martin Michaux",
      "photoUrl": "https://lh3.googleusercontent.com/a-/AOh14GhP3cUk0MMaDhXGamrCKivoGAPHtiuN7cw--cP59g=s64",
      "userId": "05980751655666536919"
     },
     "user_tz": -60
    },
    "id": "dfb66770",
    "outputId": "12f15db0-26a8-4f77-d8bb-eb31ee81b8fd"
   },
   "outputs": [
    {
     "name": "stderr",
     "output_type": "stream",
     "text": [
      "C:\\Users\\marti\\anaconda3\\lib\\site-packages\\seaborn\\distributions.py:2557: FutureWarning: `distplot` is a deprecated function and will be removed in a future version. Please adapt your code to use either `displot` (a figure-level function with similar flexibility) or `histplot` (an axes-level function for histograms).\n",
      "  warnings.warn(msg, FutureWarning)\n"
     ]
    },
    {
     "data": {
      "text/plain": [
       "<AxesSubplot:ylabel='Density'>"
      ]
     },
     "execution_count": 3,
     "metadata": {},
     "output_type": "execute_result"
    },
    {
     "data": {
      "image/png": "[encoded data removed]",
      "text/plain": [
       "<Figure size 432x288 with 1 Axes>"
      ]
     },
     "metadata": {
      "needs_background": "light"
     },
     "output_type": "display_data"
    }
   ],
   "source": [
    "sns.distplot(data)"
   ]
  },
  {
   "cell_type": "code",
   "execution_count": 4,
   "id": "455f4bd7",
   "metadata": {
    "colab": {
     "base_uri": "https://localhost:8080/",
     "height": 362
    },
    "executionInfo": {
     "elapsed": 4452,
     "status": "ok",
     "timestamp": 1646753912146,
     "user": {
      "displayName": "Martin Michaux",
      "photoUrl": "https://lh3.googleusercontent.com/a-/AOh14GhP3cUk0MMaDhXGamrCKivoGAPHtiuN7cw--cP59g=s64",
      "userId": "05980751655666536919"
     },
     "user_tz": -60
    },
    "id": "455f4bd7",
    "outputId": "b3faae5e-4a00-4ed8-dad1-b5103d5c818e"
   },
   "outputs": [
    {
     "data": {
      "image/png": "[encoded data removed]",
      "text/plain": [
       "<Figure size 432x288 with 1 Axes>"
      ]
     },
     "metadata": {
      "needs_background": "light"
     },
     "output_type": "display_data"
    }
   ],
   "source": [
    "plt.boxplot(data.transpose())\n",
    "plt.title('boxplot of all values per sample')\n",
    "plt.show()"
   ]
  },
  {
   "cell_type": "markdown",
   "id": "39931afe",
   "metadata": {
    "id": "39931afe"
   },
   "source": [
    "***Normalization***"
   ]
  },
  {
   "cell_type": "code",
   "execution_count": 3,
   "id": "568124ab",
   "metadata": {
    "colab": {
     "base_uri": "https://localhost:8080/",
     "height": 385
    },
    "executionInfo": {
     "elapsed": 549,
     "status": "ok",
     "timestamp": 1646753912683,
     "user": {
      "displayName": "Martin Michaux",
      "photoUrl": "https://lh3.googleusercontent.com/a-/AOh14GhP3cUk0MMaDhXGamrCKivoGAPHtiuN7cw--cP59g=s64",
      "userId": "05980751655666536919"
     },
     "user_tz": -60
    },
    "id": "568124ab",
    "outputId": "b6d9642b-1647-4e05-e2ef-478bb1767c1c"
   },
   "outputs": [
    {
     "name": "stderr",
     "output_type": "stream",
     "text": [
      "C:\\Users\\marti\\anaconda3\\lib\\site-packages\\seaborn\\distributions.py:2557: FutureWarning: `distplot` is a deprecated function and will be removed in a future version. Please adapt your code to use either `displot` (a figure-level function with similar flexibility) or `histplot` (an axes-level function for histograms).\n",
      "  warnings.warn(msg, FutureWarning)\n"
     ]
    },
    {
     "data": {
      "image/png": "[encoded data removed]",
      "text/plain": [
       "<Figure size 432x288 with 1 Axes>"
      ]
     },
     "metadata": {
      "needs_background": "light"
     },
     "output_type": "display_data"
    }
   ],
   "source": [
    "from scipy import stats\n",
    "\n",
    "#QUANTILE NORMALIZATION\n",
    "def quantile_normalize(df):\n",
    "    df_sorted = pd.DataFrame(np.sort(df.values,\n",
    "                                     axis=0), \n",
    "                             index=df.index, \n",
    "                             columns=df.columns)\n",
    "    df_mean = df_sorted.mean(axis=1)\n",
    "    df_mean.index = np.arange(1, len(df_mean) + 1)\n",
    "    df_qn =df.rank(method=\"min\").stack().astype(int).map(df_mean).unstack()\n",
    "    return df_qn\n",
    "\n",
    "\n",
    "# compute quantile normalized data\n",
    "df_qn=quantile_normalize(data)\n",
    "data = df_qn\n",
    "\n",
    "#compute box-cox transformation\n",
    "df_bc = pd.DataFrame().reindex_like(df_qn)\n",
    "\n",
    "for col in df_qn:\n",
    "    df_bc[col],_ = stats.boxcox(df_qn[col])\n",
    "sns.distplot(df_bc)\n",
    "data = df_qn\n",
    "\n"
   ]
  },
  {
   "cell_type": "markdown",
   "id": "efb93f15",
   "metadata": {
    "id": "efb93f15"
   },
   "source": [
    "Families of methods (use baysen, nn approach -> look intro trees, baysan, ann, a regression method)\n",
    "\n",
    "Split dataset in 80% train and 20% test data initially start with 80-20, try to estimate the power of split (80-20, drop samples in 80% and estimate the power)"
   ]
  },
  {
   "cell_type": "code",
   "execution_count": 6,
   "id": "acefb3bb",
   "metadata": {
    "colab": {
     "base_uri": "https://localhost:8080/",
     "height": 394
    },
    "executionInfo": {
     "elapsed": 278,
     "status": "ok",
     "timestamp": 1646753912957,
     "user": {
      "displayName": "Martin Michaux",
      "photoUrl": "https://lh3.googleusercontent.com/a-/AOh14GhP3cUk0MMaDhXGamrCKivoGAPHtiuN7cw--cP59g=s64",
      "userId": "05980751655666536919"
     },
     "user_tz": -60
    },
    "id": "acefb3bb",
    "outputId": "3a0168c9-0381-48d1-b0ab-fbc021974dd8"
   },
   "outputs": [
    {
     "data": {
      "text/html": [
       "<div>\n",
       "<style scoped>\n",
       "    .dataframe tbody tr th:only-of-type {\n",
       "        vertical-align: middle;\n",
       "    }\n",
       "\n",
       "    .dataframe tbody tr th {\n",
       "        vertical-align: top;\n",
       "    }\n",
       "\n",
       "    .dataframe thead th {\n",
       "        text-align: right;\n",
       "    }\n",
       "</style>\n",
       "<table border=\"1\" class=\"dataframe\">\n",
       "  <thead>\n",
       "    <tr style=\"text-align: right;\">\n",
       "      <th></th>\n",
       "      <th>A1AT.AVLTIDEK</th>\n",
       "      <th>A1AT.LSITGTYDLK</th>\n",
       "      <th>A1AT.SVLGQLGITK</th>\n",
       "      <th>A1BG.NGVAQEPVHLDSPAIK</th>\n",
       "      <th>A1BG.SGLSTGWTQLSK</th>\n",
       "      <th>A2GL.DLLLPQPDLR</th>\n",
       "      <th>A2GL.VAAGAFQGLR</th>\n",
       "      <th>A4.LVFFAEDVGSNK</th>\n",
       "      <th>A4.THPHFVIPYR</th>\n",
       "      <th>A4.WYFDVTEGK</th>\n",
       "      <th>...</th>\n",
       "      <th>UBB.TLSDYNIQK</th>\n",
       "      <th>VASN.NLHDLDVSDNQLER</th>\n",
       "      <th>VASN.SLTLGIEPVSPTSLR</th>\n",
       "      <th>VASN.YLQGSSVQLR</th>\n",
       "      <th>VGF.AYQGVAAPFPK</th>\n",
       "      <th>VGF.NSEPQDEGELFQGVDPR</th>\n",
       "      <th>VGF.THLGEALAPLSK</th>\n",
       "      <th>VTDB.EFSHLGK</th>\n",
       "      <th>VTDB.HLSLLTTLSNR</th>\n",
       "      <th>VTDB.VPTADLEDVLPLAEDITNILSK</th>\n",
       "    </tr>\n",
       "  </thead>\n",
       "  <tbody>\n",
       "    <tr>\n",
       "      <th>count</th>\n",
       "      <td>135.000000</td>\n",
       "      <td>135.000000</td>\n",
       "      <td>135.000000</td>\n",
       "      <td>135.000000</td>\n",
       "      <td>135.000000</td>\n",
       "      <td>135.000000</td>\n",
       "      <td>135.000000</td>\n",
       "      <td>135.000000</td>\n",
       "      <td>135.000000</td>\n",
       "      <td>135.000000</td>\n",
       "      <td>...</td>\n",
       "      <td>135.000000</td>\n",
       "      <td>135.000000</td>\n",
       "      <td>135.000000</td>\n",
       "      <td>135.000000</td>\n",
       "      <td>135.000000</td>\n",
       "      <td>135.000000</td>\n",
       "      <td>135.000000</td>\n",
       "      <td>135.000000</td>\n",
       "      <td>135.000000</td>\n",
       "      <td>135.000000</td>\n",
       "    </tr>\n",
       "    <tr>\n",
       "      <th>mean</th>\n",
       "      <td>17.050610</td>\n",
       "      <td>17.050610</td>\n",
       "      <td>17.050610</td>\n",
       "      <td>17.050610</td>\n",
       "      <td>17.050610</td>\n",
       "      <td>17.050610</td>\n",
       "      <td>17.050610</td>\n",
       "      <td>17.050610</td>\n",
       "      <td>17.050610</td>\n",
       "      <td>17.050610</td>\n",
       "      <td>...</td>\n",
       "      <td>17.050610</td>\n",
       "      <td>17.050610</td>\n",
       "      <td>17.050610</td>\n",
       "      <td>17.050610</td>\n",
       "      <td>17.050610</td>\n",
       "      <td>17.050610</td>\n",
       "      <td>17.050610</td>\n",
       "      <td>17.050610</td>\n",
       "      <td>17.050610</td>\n",
       "      <td>17.050610</td>\n",
       "    </tr>\n",
       "    <tr>\n",
       "      <th>std</th>\n",
       "      <td>0.669548</td>\n",
       "      <td>0.669548</td>\n",
       "      <td>0.669548</td>\n",
       "      <td>0.669548</td>\n",
       "      <td>0.669548</td>\n",
       "      <td>0.669548</td>\n",
       "      <td>0.669548</td>\n",
       "      <td>0.669548</td>\n",
       "      <td>0.669548</td>\n",
       "      <td>0.669548</td>\n",
       "      <td>...</td>\n",
       "      <td>0.669548</td>\n",
       "      <td>0.669548</td>\n",
       "      <td>0.669548</td>\n",
       "      <td>0.669548</td>\n",
       "      <td>0.669548</td>\n",
       "      <td>0.669548</td>\n",
       "      <td>0.669548</td>\n",
       "      <td>0.669548</td>\n",
       "      <td>0.669548</td>\n",
       "      <td>0.669548</td>\n",
       "    </tr>\n",
       "    <tr>\n",
       "      <th>min</th>\n",
       "      <td>14.674200</td>\n",
       "      <td>14.674200</td>\n",
       "      <td>14.674200</td>\n",
       "      <td>14.674200</td>\n",
       "      <td>14.674200</td>\n",
       "      <td>14.674200</td>\n",
       "      <td>14.674200</td>\n",
       "      <td>14.674200</td>\n",
       "      <td>14.674200</td>\n",
       "      <td>14.674200</td>\n",
       "      <td>...</td>\n",
       "      <td>14.674200</td>\n",
       "      <td>14.674200</td>\n",
       "      <td>14.674200</td>\n",
       "      <td>14.674200</td>\n",
       "      <td>14.674200</td>\n",
       "      <td>14.674200</td>\n",
       "      <td>14.674200</td>\n",
       "      <td>14.674200</td>\n",
       "      <td>14.674200</td>\n",
       "      <td>14.674200</td>\n",
       "    </tr>\n",
       "    <tr>\n",
       "      <th>25%</th>\n",
       "      <td>16.643337</td>\n",
       "      <td>16.643337</td>\n",
       "      <td>16.643337</td>\n",
       "      <td>16.643337</td>\n",
       "      <td>16.643337</td>\n",
       "      <td>16.643337</td>\n",
       "      <td>16.643337</td>\n",
       "      <td>16.643337</td>\n",
       "      <td>16.643337</td>\n",
       "      <td>16.643337</td>\n",
       "      <td>...</td>\n",
       "      <td>16.643337</td>\n",
       "      <td>16.643337</td>\n",
       "      <td>16.643337</td>\n",
       "      <td>16.643337</td>\n",
       "      <td>16.643337</td>\n",
       "      <td>16.643337</td>\n",
       "      <td>16.643337</td>\n",
       "      <td>16.643337</td>\n",
       "      <td>16.643337</td>\n",
       "      <td>16.643337</td>\n",
       "    </tr>\n",
       "    <tr>\n",
       "      <th>50%</th>\n",
       "      <td>17.038345</td>\n",
       "      <td>17.038345</td>\n",
       "      <td>17.038345</td>\n",
       "      <td>17.038345</td>\n",
       "      <td>17.038345</td>\n",
       "      <td>17.038345</td>\n",
       "      <td>17.038345</td>\n",
       "      <td>17.038345</td>\n",
       "      <td>17.038345</td>\n",
       "      <td>17.038345</td>\n",
       "      <td>...</td>\n",
       "      <td>17.038345</td>\n",
       "      <td>17.038345</td>\n",
       "      <td>17.038345</td>\n",
       "      <td>17.038345</td>\n",
       "      <td>17.038345</td>\n",
       "      <td>17.038345</td>\n",
       "      <td>17.038345</td>\n",
       "      <td>17.038345</td>\n",
       "      <td>17.038345</td>\n",
       "      <td>17.038345</td>\n",
       "    </tr>\n",
       "    <tr>\n",
       "      <th>75%</th>\n",
       "      <td>17.475953</td>\n",
       "      <td>17.475953</td>\n",
       "      <td>17.475953</td>\n",
       "      <td>17.475953</td>\n",
       "      <td>17.475953</td>\n",
       "      <td>17.475953</td>\n",
       "      <td>17.475953</td>\n",
       "      <td>17.475953</td>\n",
       "      <td>17.475953</td>\n",
       "      <td>17.475953</td>\n",
       "      <td>...</td>\n",
       "      <td>17.475953</td>\n",
       "      <td>17.475953</td>\n",
       "      <td>17.475953</td>\n",
       "      <td>17.475953</td>\n",
       "      <td>17.475953</td>\n",
       "      <td>17.475953</td>\n",
       "      <td>17.475953</td>\n",
       "      <td>17.475953</td>\n",
       "      <td>17.475953</td>\n",
       "      <td>17.475953</td>\n",
       "    </tr>\n",
       "    <tr>\n",
       "      <th>max</th>\n",
       "      <td>18.872735</td>\n",
       "      <td>18.872735</td>\n",
       "      <td>18.872735</td>\n",
       "      <td>18.872735</td>\n",
       "      <td>18.872735</td>\n",
       "      <td>18.872735</td>\n",
       "      <td>18.872735</td>\n",
       "      <td>18.872735</td>\n",
       "      <td>18.872735</td>\n",
       "      <td>18.872735</td>\n",
       "      <td>...</td>\n",
       "      <td>18.872735</td>\n",
       "      <td>18.872735</td>\n",
       "      <td>18.872735</td>\n",
       "      <td>18.872735</td>\n",
       "      <td>18.872735</td>\n",
       "      <td>18.872735</td>\n",
       "      <td>18.872735</td>\n",
       "      <td>18.872735</td>\n",
       "      <td>18.872735</td>\n",
       "      <td>18.872735</td>\n",
       "    </tr>\n",
       "  </tbody>\n",
       "</table>\n",
       "<p>8 rows × 320 columns</p>\n",
       "</div>"
      ],
      "text/plain": [
       "       A1AT.AVLTIDEK  A1AT.LSITGTYDLK  A1AT.SVLGQLGITK  A1BG.NGVAQEPVHLDSPAIK  \\\n",
       "count     135.000000       135.000000       135.000000             135.000000   \n",
       "mean       17.050610        17.050610        17.050610              17.050610   \n",
       "std         0.669548         0.669548         0.669548               0.669548   \n",
       "min        14.674200        14.674200        14.674200              14.674200   \n",
       "25%        16.643337        16.643337        16.643337              16.643337   \n",
       "50%        17.038345        17.038345        17.038345              17.038345   \n",
       "75%        17.475953        17.475953        17.475953              17.475953   \n",
       "max        18.872735        18.872735        18.872735              18.872735   \n",
       "\n",
       "       A1BG.SGLSTGWTQLSK  A2GL.DLLLPQPDLR  A2GL.VAAGAFQGLR  A4.LVFFAEDVGSNK  \\\n",
       "count         135.000000       135.000000       135.000000       135.000000   \n",
       "mean           17.050610        17.050610        17.050610        17.050610   \n",
       "std             0.669548         0.669548         0.669548         0.669548   \n",
       "min            14.674200        14.674200        14.674200        14.674200   \n",
       "25%            16.643337        16.643337        16.643337        16.643337   \n",
       "50%            17.038345        17.038345        17.038345        17.038345   \n",
       "75%            17.475953        17.475953        17.475953        17.475953   \n",
       "max            18.872735        18.872735        18.872735        18.872735   \n",
       "\n",
       "       A4.THPHFVIPYR  A4.WYFDVTEGK  ...  UBB.TLSDYNIQK  VASN.NLHDLDVSDNQLER  \\\n",
       "count     135.000000    135.000000  ...     135.000000           135.000000   \n",
       "mean       17.050610     17.050610  ...      17.050610            17.050610   \n",
       "std         0.669548      0.669548  ...       0.669548             0.669548   \n",
       "min        14.674200     14.674200  ...      14.674200            14.674200   \n",
       "25%        16.643337     16.643337  ...      16.643337            16.643337   \n",
       "50%        17.038345     17.038345  ...      17.038345            17.038345   \n",
       "75%        17.475953     17.475953  ...      17.475953            17.475953   \n",
       "max        18.872735     18.872735  ...      18.872735            18.872735   \n",
       "\n",
       "       VASN.SLTLGIEPVSPTSLR  VASN.YLQGSSVQLR  VGF.AYQGVAAPFPK  \\\n",
       "count            135.000000       135.000000       135.000000   \n",
       "mean              17.050610        17.050610        17.050610   \n",
       "std                0.669548         0.669548         0.669548   \n",
       "min               14.674200        14.674200        14.674200   \n",
       "25%               16.643337        16.643337        16.643337   \n",
       "50%               17.038345        17.038345        17.038345   \n",
       "75%               17.475953        17.475953        17.475953   \n",
       "max               18.872735        18.872735        18.872735   \n",
       "\n",
       "       VGF.NSEPQDEGELFQGVDPR  VGF.THLGEALAPLSK  VTDB.EFSHLGK  \\\n",
       "count             135.000000        135.000000    135.000000   \n",
       "mean               17.050610         17.050610     17.050610   \n",
       "std                 0.669548          0.669548      0.669548   \n",
       "min                14.674200         14.674200     14.674200   \n",
       "25%                16.643337         16.643337     16.643337   \n",
       "50%                17.038345         17.038345     17.038345   \n",
       "75%                17.475953         17.475953     17.475953   \n",
       "max                18.872735         18.872735     18.872735   \n",
       "\n",
       "       VTDB.HLSLLTTLSNR  VTDB.VPTADLEDVLPLAEDITNILSK  \n",
       "count        135.000000                   135.000000  \n",
       "mean          17.050610                    17.050610  \n",
       "std            0.669548                     0.669548  \n",
       "min           14.674200                    14.674200  \n",
       "25%           16.643337                    16.643337  \n",
       "50%           17.038345                    17.038345  \n",
       "75%           17.475953                    17.475953  \n",
       "max           18.872735                    18.872735  \n",
       "\n",
       "[8 rows x 320 columns]"
      ]
     },
     "execution_count": 6,
     "metadata": {},
     "output_type": "execute_result"
    }
   ],
   "source": [
    "data.describe()"
   ]
  },
  {
   "cell_type": "markdown",
   "id": "cf0a79df",
   "metadata": {
    "id": "cf0a79df"
   },
   "source": [
    "**split cleaned dataset**"
   ]
  },
  {
   "cell_type": "code",
   "execution_count": 4,
   "id": "df1b5bb7",
   "metadata": {
    "executionInfo": {
     "elapsed": 306,
     "status": "ok",
     "timestamp": 1646754022463,
     "user": {
      "displayName": "Martin Michaux",
      "photoUrl": "https://lh3.googleusercontent.com/a-/AOh14GhP3cUk0MMaDhXGamrCKivoGAPHtiuN7cw--cP59g=s64",
      "userId": "05980751655666536919"
     },
     "user_tz": -60
    },
    "id": "df1b5bb7"
   },
   "outputs": [],
   "source": [
    "from sklearn.model_selection import train_test_split\n",
    "\n",
    "data['binary_class'] = df['binary_class']\n",
    "data['three_class'] = df['three_class']\n",
    "X = data.drop(columns = ['binary_class','three_class'])\n",
    "y = data[\"binary_class\"]\n",
    "\n",
    "X_train, X_test, y_train, y_test = train_test_split(X, y, test_size = 0.20, random_state = 97)"
   ]
  },
  {
   "cell_type": "markdown",
   "id": "cb6492d2",
   "metadata": {},
   "source": [
    "Try with stratified data\n",
    "-> github"
   ]
  },
  {
   "cell_type": "markdown",
   "id": "4qjbB6nFyG2-",
   "metadata": {
    "id": "4qjbB6nFyG2-"
   },
   "source": [
    "***SVM classifier***"
   ]
  },
  {
   "cell_type": "code",
   "execution_count": 20,
   "id": "nxUUUU1AxMlH",
   "metadata": {
    "colab": {
     "base_uri": "https://localhost:8080/"
    },
    "executionInfo": {
     "elapsed": 10,
     "status": "ok",
     "timestamp": 1646753912958,
     "user": {
      "displayName": "Martin Michaux",
      "photoUrl": "https://lh3.googleusercontent.com/a-/AOh14GhP3cUk0MMaDhXGamrCKivoGAPHtiuN7cw--cP59g=s64",
      "userId": "05980751655666536919"
     },
     "user_tz": -60
    },
    "id": "nxUUUU1AxMlH",
    "outputId": "24d8d2be-cdb7-44d2-f886-62686a247d41"
   },
   "outputs": [
    {
     "name": "stdout",
     "output_type": "stream",
     "text": [
      "Accuracy: 0.7777777777777778\n",
      "              precision    recall  f1-score   support\n",
      "\n",
      "           0       0.86      0.55      0.67        11\n",
      "           1       0.75      0.94      0.83        16\n",
      "\n",
      "    accuracy                           0.78        27\n",
      "   macro avg       0.80      0.74      0.75        27\n",
      "weighted avg       0.79      0.78      0.77        27\n",
      "\n"
     ]
    }
   ],
   "source": [
    "# import support vector classifier \n",
    "# \"Support Vector Classifier\"\n",
    "from sklearn.svm import SVC \n",
    "from sklearn.metrics import accuracy_score, classification_report\n",
    "\n",
    "clf = SVC(kernel='linear') \n",
    "  \n",
    "# fitting x samples and y classes \n",
    "clf.fit(X_train, y_train) \n",
    "y_predicted = clf.predict(X_test)\n",
    "\n",
    "print(\"Accuracy:\", accuracy_score(y_test, y_predicted))\n",
    "print(classification_report(y_test, y_predicted))"
   ]
  },
  {
   "cell_type": "markdown",
   "id": "xE_FCymH0uJy",
   "metadata": {
    "id": "xE_FCymH0uJy"
   },
   "source": [
    "***Single Random Forest classifier***"
   ]
  },
  {
   "cell_type": "code",
   "execution_count": 24,
   "id": "bcgZ0NTt0eVm",
   "metadata": {
    "colab": {
     "base_uri": "https://localhost:8080/"
    },
    "executionInfo": {
     "elapsed": 5278,
     "status": "ok",
     "timestamp": 1646753918227,
     "user": {
      "displayName": "Martin Michaux",
      "photoUrl": "https://lh3.googleusercontent.com/a-/AOh14GhP3cUk0MMaDhXGamrCKivoGAPHtiuN7cw--cP59g=s64",
      "userId": "05980751655666536919"
     },
     "user_tz": -60
    },
    "id": "bcgZ0NTt0eVm",
    "outputId": "15eea0f5-0764-435b-b280-179028db3fd7"
   },
   "outputs": [
    {
     "name": "stdout",
     "output_type": "stream",
     "text": [
      "Accuracy: 0.6666666666666666\n",
      "              precision    recall  f1-score   support\n",
      "\n",
      "           0       0.67      0.36      0.47        11\n",
      "           1       0.67      0.88      0.76        16\n",
      "\n",
      "    accuracy                           0.67        27\n",
      "   macro avg       0.67      0.62      0.61        27\n",
      "weighted avg       0.67      0.67      0.64        27\n",
      "\n"
     ]
    }
   ],
   "source": [
    "# evaluate random forest algorithm for classification\n",
    "from numpy import mean\n",
    "from numpy import std\n",
    "from sklearn.datasets import make_classification\n",
    "from sklearn.model_selection import cross_val_score\n",
    "from sklearn.model_selection import RepeatedStratifiedKFold\n",
    "from sklearn.ensemble import RandomForestClassifier\n",
    "\n",
    "# define the model\n",
    "model = RandomForestClassifier().fit(X_train,y_train)\n",
    "y_predicted = model.predict(X_test)\n",
    "# report performance\n",
    "print(\"Accuracy:\", accuracy_score(y_test, y_predicted))\n",
    "print(classification_report(y_test, y_predicted))"
   ]
  },
  {
   "cell_type": "markdown",
   "id": "cfc176fc",
   "metadata": {},
   "source": [
    "**Logistic Regression**"
   ]
  },
  {
   "cell_type": "code",
   "execution_count": 27,
   "id": "f4d64ea3",
   "metadata": {},
   "outputs": [
    {
     "name": "stdout",
     "output_type": "stream",
     "text": [
      "Accuracy: 0.7777777777777778\n",
      "              precision    recall  f1-score   support\n",
      "\n",
      "           0       0.78      0.64      0.70        11\n",
      "           1       0.78      0.88      0.82        16\n",
      "\n",
      "    accuracy                           0.78        27\n",
      "   macro avg       0.78      0.76      0.76        27\n",
      "weighted avg       0.78      0.78      0.77        27\n",
      "\n"
     ]
    }
   ],
   "source": [
    "from sklearn.linear_model import LogisticRegression\n",
    "\n",
    "model = LogisticRegression(random_state=0).fit(X_train, y_train)\n",
    "y_predicted = model.predict(X_test)\n",
    "# report performance\n",
    "print(\"Accuracy:\", accuracy_score(y_test, y_predicted))\n",
    "print(classification_report(y_test, y_predicted))"
   ]
  },
  {
   "cell_type": "markdown",
   "id": "4f8bbe97",
   "metadata": {
    "id": "4f8bbe97"
   },
   "source": [
    "**Recursive Feature Elimination (RFE)**"
   ]
  },
  {
   "cell_type": "code",
   "execution_count": 7,
   "id": "ace82f21",
   "metadata": {
    "id": "ace82f21"
   },
   "outputs": [
    {
     "data": {
      "text/plain": [
       "RFECV(cv=5,\n",
       "      estimator=XGBClassifier(base_score=None, booster=None,\n",
       "                              colsample_bylevel=None, colsample_bynode=None,\n",
       "                              colsample_bytree=None, enable_categorical=False,\n",
       "                              gamma=None, gpu_id=None, importance_type=None,\n",
       "                              interaction_constraints=None, learning_rate=None,\n",
       "                              max_delta_step=None, max_depth=None,\n",
       "                              min_child_weight=None, missing=nan,\n",
       "                              monotone_constraints=None, n_estimators=100,\n",
       "                              n_jobs=None, num_parallel_tree=None,\n",
       "                              predictor=None, random_state=None, reg_alpha=None,\n",
       "                              reg_lambda=None, scale_pos_weight=None,\n",
       "                              subsample=None, tree_method=None,\n",
       "                              use_label_encoder=False, validate_parameters=None,\n",
       "                              verbosity=None),\n",
       "      n_jobs=-1, scoring='r2', step=3)"
      ]
     },
     "execution_count": 7,
     "metadata": {},
     "output_type": "execute_result"
    }
   ],
   "source": [
    "from sklearn.ensemble import RandomForestClassifier\n",
    "from sklearn.model_selection import StratifiedKFold\n",
    "import xgboost as xgb\n",
    "from sklearn.feature_selection import RFECV\n",
    "\n",
    "xgb.set_config(verbosity=0)\n",
    "\n",
    "classifier = xgb.XGBClassifier(use_label_encoder =False)\n",
    "rfecv = RFECV(\n",
    "    estimator=classifier,\n",
    "    min_features_to_select=1,\n",
    "    step=3,\n",
    "    n_jobs=-1,\n",
    "    scoring=\"r2\",\n",
    "    cv=5,\n",
    ")\n",
    "rfecv.fit(X_train, y_train)"
   ]
  },
  {
   "cell_type": "code",
   "execution_count": 8,
   "id": "aded2ebf",
   "metadata": {},
   "outputs": [
    {
     "name": "stdout",
     "output_type": "stream",
     "text": [
      "We kept 35 features out of the 86\n"
     ]
    },
    {
     "name": "stderr",
     "output_type": "stream",
     "text": [
      "C:\\Users\\marti\\anaconda3\\lib\\site-packages\\sklearn\\utils\\deprecation.py:103: FutureWarning: The `grid_scores_` attribute is deprecated in version 1.0 in favor of `cv_results_` and will be removed in version 1.2.\n",
      "  warnings.warn(msg, category=FutureWarning)\n",
      "C:\\Users\\marti\\anaconda3\\lib\\site-packages\\sklearn\\utils\\deprecation.py:103: FutureWarning: The `grid_scores_` attribute is deprecated in version 1.0 in favor of `cv_results_` and will be removed in version 1.2.\n",
      "  warnings.warn(msg, category=FutureWarning)\n",
      "C:\\Users\\marti\\anaconda3\\lib\\site-packages\\sklearn\\utils\\deprecation.py:103: FutureWarning: The `grid_scores_` attribute is deprecated in version 1.0 in favor of `cv_results_` and will be removed in version 1.2.\n",
      "  warnings.warn(msg, category=FutureWarning)\n",
      "C:\\Users\\marti\\anaconda3\\lib\\site-packages\\sklearn\\utils\\deprecation.py:103: FutureWarning: The `grid_scores_` attribute is deprecated in version 1.0 in favor of `cv_results_` and will be removed in version 1.2.\n",
      "  warnings.warn(msg, category=FutureWarning)\n",
      "C:\\Users\\marti\\anaconda3\\lib\\site-packages\\sklearn\\utils\\deprecation.py:103: FutureWarning: The `grid_scores_` attribute is deprecated in version 1.0 in favor of `cv_results_` and will be removed in version 1.2.\n",
      "  warnings.warn(msg, category=FutureWarning)\n",
      "<ipython-input-8-a314ad362c7a>:15: UserWarning: You have mixed positional and keyword arguments, some input may be discarded.\n",
      "  plt.legend(lines,labels = ['fold 1', 'fold 2', 'fold 3','fold 4', 'fold 5'],loc='center left', bbox_to_anchor=(1, 0.5))\n"
     ]
    },
    {
     "data": {
      "image/png": "[encoded data removed]",
      "text/plain": [
       "<Figure size 432x288 with 1 Axes>"
      ]
     },
     "metadata": {
      "needs_background": "light"
     },
     "output_type": "display_data"
    }
   ],
   "source": [
    "#keep selected features\n",
    "newX_train = X_train[X_train.columns[rfecv.support_]]\n",
    "newX_test = X_test[X_test.columns[rfecv.support_]]\n",
    "\n",
    "print('We kept',newX_train.shape[1],'features out of the',X_train.shape[1])\n",
    "min_features_to_select = 1\n",
    "\n",
    "plt.figure()\n",
    "lines = []\n",
    "for i in range(rfecv.grid_scores_.shape[1]):\n",
    "    lines.append(plt.plot(rfecv.grid_scores_[:,i]))\n",
    "\n",
    "plt.xlabel(\"Number of features selected\")\n",
    "plt.ylabel(\"Cross validation score (accuracy)\")\n",
    "plt.legend(lines,labels = ['fold 1', 'fold 2', 'fold 3','fold 4', 'fold 5'],loc='center left', bbox_to_anchor=(1, 0.5))\n",
    "plt.show()\n",
    "\n",
    "X_train = newX_train\n",
    "X_test = newX_test"
   ]
  },
  {
   "cell_type": "code",
   "execution_count": 9,
   "id": "ce5b2cb3",
   "metadata": {},
   "outputs": [
    {
     "name": "stdout",
     "output_type": "stream",
     "text": [
      "Accuracy: 0.6296296296296297\n",
      "              precision    recall  f1-score   support\n",
      "\n",
      "           0       0.60      0.27      0.37        11\n",
      "           1       0.64      0.88      0.74        16\n",
      "\n",
      "    accuracy                           0.63        27\n",
      "   macro avg       0.62      0.57      0.56        27\n",
      "weighted avg       0.62      0.63      0.59        27\n",
      "\n"
     ]
    }
   ],
   "source": [
    "from sklearn.metrics import accuracy_score, classification_report\n",
    "\n",
    "clf = xgb.XGBClassifier(learning_rate = 0.39, n_estimators = 54, max_depth = 4, min_child_weight = 2.82, gamma = 5.41, subsample = 1, seed = 24,eval_metric='mlogloss',use_label_encoder =False)\n",
    "clf.fit(newX_train, y_train)\n",
    "y_predicted = clf.predict(newX_test)\n",
    "\n",
    "print(\"Accuracy:\", accuracy_score(y_test, y_predicted))\n",
    "print(classification_report(y_test, y_predicted))"
   ]
  },
  {
   "cell_type": "code",
   "execution_count": 13,
   "id": "4d03f586",
   "metadata": {
    "executionInfo": {
     "elapsed": 322,
     "status": "aborted",
     "timestamp": 1646753921292,
     "user": {
      "displayName": "Martin Michaux",
      "photoUrl": "https://lh3.googleusercontent.com/a-/AOh14GhP3cUk0MMaDhXGamrCKivoGAPHtiuN7cw--cP59g=s64",
      "userId": "05980751655666536919"
     },
     "user_tz": -60
    },
    "id": "4d03f586"
   },
   "outputs": [
    {
     "data": {
      "text/plain": [
       "Index(['APLP2.WYFDLSK', 'CATD.YSQAVPAVTEGPIPEVLK',\n",
       "       'CMGA.SGEATDGARPQALPEPMQESK', 'CSTN3.ATGEGLIR', 'FABPH.SIVTLDGGK',\n",
       "       'NCAM2.IIELSQTTAK', 'NGF.SAPAAAIAAR', 'NPTX2.LESLEHQLR',\n",
       "       'NPTXR.LVEAFGGATK', 'PCSK1.GEAAGAVQELAR'],\n",
       "      dtype='object')"
      ]
     },
     "execution_count": 13,
     "metadata": {},
     "output_type": "execute_result"
    }
   ],
   "source": [
    "from sklearn.feature_selection import RFE\n",
    "import xgboost as xgb\n",
    "xgb.set_config(verbosity=0)\n",
    "\n",
    "classifier = xgb.XGBClassifier(learning_rate = 0.71, n_estimators = 205, max_depth = 5, min_child_weight = 2.34, gamma = 7.11, subsample = 0.38, colsample_bytree = 0.47, seed = 24,eval_metric='mlogloss',use_label_encoder =False)\n",
    "n_features_to_select = 100\n",
    "rfe = RFE(classifier, n_features_to_select=n_features_to_select,step=5)\n",
    "rfe.fit(X_train, y_train)\n",
    "\n",
    "X_train.columns[rfe.support_]"
   ]
  },
  {
   "cell_type": "markdown",
   "id": "8f311aac",
   "metadata": {
    "id": "8f311aac"
   },
   "source": [
    "***Clustering model trials***"
   ]
  },
  {
   "cell_type": "code",
   "execution_count": 14,
   "id": "a2327e9a",
   "metadata": {
    "executionInfo": {
     "elapsed": 324,
     "status": "aborted",
     "timestamp": 1646753921294,
     "user": {
      "displayName": "Martin Michaux",
      "photoUrl": "https://lh3.googleusercontent.com/a-/AOh14GhP3cUk0MMaDhXGamrCKivoGAPHtiuN7cw--cP59g=s64",
      "userId": "05980751655666536919"
     },
     "user_tz": -60
    },
    "id": "a2327e9a"
   },
   "outputs": [
    {
     "name": "stdout",
     "output_type": "stream",
     "text": [
      "Accuracy: 0.7037037037037037\n",
      "              precision    recall  f1-score   support\n",
      "\n",
      "           0       0.71      0.45      0.56        11\n",
      "           1       0.70      0.88      0.78        16\n",
      "\n",
      "    accuracy                           0.70        27\n",
      "   macro avg       0.71      0.66      0.67        27\n",
      "weighted avg       0.71      0.70      0.69        27\n",
      "\n"
     ]
    },
    {
     "name": "stderr",
     "output_type": "stream",
     "text": [
      "C:\\Users\\marti\\anaconda3\\lib\\site-packages\\xgboost\\sklearn.py:1224: UserWarning: The use of label encoder in XGBClassifier is deprecated and will be removed in a future release. To remove this warning, do the following: 1) Pass option use_label_encoder=False when constructing XGBClassifier object; and 2) Encode your labels (y) as integers starting with 0, i.e. 0, 1, 2, ..., [num_class - 1].\n",
      "  warnings.warn(label_encoder_deprecation_msg, UserWarning)\n"
     ]
    }
   ],
   "source": [
    "#Gradient Boosting and XGBoost\n",
    "import xgboost as xgb\n",
    "from sklearn.metrics import accuracy_score, classification_report\n",
    "\n",
    "xgb.set_config(verbosity=0)\n",
    "\n",
    "model = xgb.XGBClassifier()\n",
    "model.fit(X_train, y_train)\n",
    "y_predicted = model.predict(X_test)\n",
    "\n",
    "print(\"Accuracy:\", accuracy_score(y_test, y_predicted))\n",
    "print(classification_report(y_test, model.predict(X_test)))"
   ]
  },
  {
   "cell_type": "code",
   "execution_count": 10,
   "id": "dc6e144f",
   "metadata": {
    "executionInfo": {
     "elapsed": 324,
     "status": "aborted",
     "timestamp": 1646753921294,
     "user": {
      "displayName": "Martin Michaux",
      "photoUrl": "https://lh3.googleusercontent.com/a-/AOh14GhP3cUk0MMaDhXGamrCKivoGAPHtiuN7cw--cP59g=s64",
      "userId": "05980751655666536919"
     },
     "user_tz": -60
    },
    "id": "dc6e144f"
   },
   "outputs": [],
   "source": [
    "#Hyperparameter tuning XGBoost through Evolutionary Computation\n",
    "\n",
    "import numpy as np\n",
    "import random\n",
    "\n",
    "random.seed(723)\n",
    "np.random.seed(723)\n",
    "\n",
    "def initilialize_poplulation(numberOfParents):\n",
    "    learningRate = np.empty([numberOfParents, 1])\n",
    "    nEstimators = np.empty([numberOfParents, 1], dtype = np.uint8)\n",
    "    maxDepth = np.empty([numberOfParents, 1], dtype = np.uint8)\n",
    "    minChildWeight = np.empty([numberOfParents, 1])\n",
    "    gammaValue = np.empty([numberOfParents, 1])\n",
    "    subSample = np.empty([numberOfParents, 1])\n",
    "    colSampleByTree =  np.empty([numberOfParents, 1])\n",
    "\n",
    "    for i in range(numberOfParents):\n",
    "        learningRate[i] = round(random.uniform(0.01, 1), 2)\n",
    "        nEstimators[i] = random.randrange(10, 1500, step = 25)\n",
    "        maxDepth[i] = int(random.randrange(1, 10, step= 1))\n",
    "        minChildWeight[i] = round(random.uniform(0.01, 10.0), 2)\n",
    "        gammaValue[i] = round(random.uniform(0.01, 10.0), 2)\n",
    "        subSample[i] = round(random.uniform(0.01, 1.0), 2)\n",
    "        colSampleByTree[i] = round(random.uniform(0.01, 1.0), 2)\n",
    "    \n",
    "    population = np.concatenate((learningRate, nEstimators, maxDepth, minChildWeight, gammaValue, subSample, colSampleByTree), axis= 1)\n",
    "    return population\n",
    "\n",
    "   \n",
    "\n",
    "def fitness_accuracy_score(y_true, y_pred):\n",
    "    fitness = round((accuracy_score(y_true, y_pred)), 4)\n",
    "    return fitness\n",
    "\n",
    "def train_population(population, dMatrixTrain, dMatrixtest, y_test):\n",
    "    aScore = []\n",
    "    for i in range(population.shape[0]):\n",
    "        param = { 'objective':'binary:logistic',\n",
    "              'learning_rate': population[i][0],\n",
    "              'n_estimators': population[i][1], \n",
    "              'max_depth': int(population[i][2]), \n",
    "              'min_child_weight': population[i][3],\n",
    "              'gamma': population[i][4], \n",
    "              'subsample': population[i][5],\n",
    "              'colsample_bytree': population[i][6],\n",
    "              'seed': 24}\n",
    "        num_round = 100\n",
    "        xgbT = xgb.train(param, dMatrixTrain, num_round)\n",
    "        preds = xgbT.predict(dMatrixtest)\n",
    "        preds = preds>0.5\n",
    "        aScore.append(fitness_accuracy_score(y_test, preds))\n",
    "    return aScore\n",
    "\n",
    "\n",
    "\n",
    "def new_parents_selection(population, fitness, numParents):\n",
    "    selectedParents = np.empty((numParents, population.shape[1])) \n",
    "    \n",
    "    for parentId in range(numParents):\n",
    "        bestFitnessId = np.where(fitness == np.max(fitness))\n",
    "        bestFitnessId  = bestFitnessId[0][0]\n",
    "        selectedParents[parentId, :] = population[bestFitnessId, :]\n",
    "        fitness[bestFitnessId] = -1 \n",
    "    return selectedParents\n",
    "        \n",
    "\n",
    "def crossover_uniform(parents, childrenSize):\n",
    "    \n",
    "    crossoverPointIndex = np.arange(0, np.uint8(childrenSize[1]), 1, dtype= np.uint8)\n",
    "    crossoverPointIndex1 = np.random.randint(0, np.uint8(childrenSize[1]), np.uint8(childrenSize[1]/2)) \n",
    "    crossoverPointIndex2 = np.array(list(set(crossoverPointIndex) - set(crossoverPointIndex1))) \n",
    "    \n",
    "    children = np.empty(childrenSize)\n",
    "    \n",
    "    \n",
    "    for i in range(childrenSize[0]):\n",
    "        \n",
    "        parent1_index = i%parents.shape[0]\n",
    "        parent2_index = (i+1)%parents.shape[0]\n",
    "        children[i, crossoverPointIndex1] = parents[parent1_index, crossoverPointIndex1]\n",
    "        children[i, crossoverPointIndex2] = parents[parent2_index, crossoverPointIndex2]\n",
    "    return children\n",
    "    \n",
    "\n",
    "\n",
    "def mutation(crossover, numberOfParameters):\n",
    "\n",
    "    minMaxValue = np.zeros((numberOfParameters, 2))\n",
    "    \n",
    "    minMaxValue[0:] = [0.01, 1.0] \n",
    "    minMaxValue[1, :] = [10, 2000] \n",
    "    minMaxValue[2, :] = [1, 15] \n",
    "    minMaxValue[3, :] = [0, 10.0] \n",
    "    minMaxValue[4, :] = [0.01, 10.0] \n",
    "    minMaxValue[5, :] = [0.01, 1.0] \n",
    "    minMaxValue[6, :] = [0.01, 1.0] \n",
    " \n",
    "    \n",
    "    mutationValue = 0\n",
    "    parameterSelect = np.random.randint(0, 7, 1)\n",
    "    print(parameterSelect)\n",
    "    if parameterSelect == 0: \n",
    "        mutationValue = round(np.random.uniform(-0.5, 0.5), 2)\n",
    "    if parameterSelect == 1: \n",
    "        mutationValue = np.random.randint(-200, 200, 1)\n",
    "    if parameterSelect == 2:\n",
    "        mutationValue = np.random.randint(-5, 5, 1)\n",
    "    if parameterSelect == 3: \n",
    "        mutationValue = round(np.random.uniform(5, 5), 2)\n",
    "    if parameterSelect == 4: \n",
    "        mutationValue = round(np.random.uniform(-2, 2), 2)\n",
    "    if parameterSelect == 5: \n",
    "        mutationValue = round(np.random.uniform(-0.5, 0.5), 2)\n",
    "    if parameterSelect == 6: \n",
    "        mutationValue = round(np.random.uniform(-0.5, 0.5), 2)\n",
    "  \n",
    "    \n",
    "    for idx in range(crossover.shape[0]):\n",
    "        crossover[idx, parameterSelect] = crossover[idx, parameterSelect] + mutationValue\n",
    "        if(crossover[idx, parameterSelect] > minMaxValue[parameterSelect, 1]):\n",
    "            crossover[idx, parameterSelect] = minMaxValue[parameterSelect, 1]\n",
    "        if(crossover[idx, parameterSelect] < minMaxValue[parameterSelect, 0]):\n",
    "            crossover[idx, parameterSelect] = minMaxValue[parameterSelect, 0]    \n",
    "    return crossover"
   ]
  },
  {
   "cell_type": "code",
   "execution_count": 11,
   "id": "6b7d3e6f",
   "metadata": {
    "executionInfo": {
     "elapsed": 325,
     "status": "aborted",
     "timestamp": 1646753921295,
     "user": {
      "displayName": "Martin Michaux",
      "photoUrl": "https://lh3.googleusercontent.com/a-/AOh14GhP3cUk0MMaDhXGamrCKivoGAPHtiuN7cw--cP59g=s64",
      "userId": "05980751655666536919"
     },
     "user_tz": -60
    },
    "id": "6b7d3e6f",
    "scrolled": true
   },
   "outputs": [
    {
     "name": "stdout",
     "output_type": "stream",
     "text": [
      "This is number 0 generation\n",
      "Best Accuracy score in the this iteration = 0.8148\n",
      "[2]\n",
      "This is number 1 generation\n",
      "Best Accuracy score in the this iteration = 0.8148\n",
      "[2]\n",
      "This is number 2 generation\n",
      "Best Accuracy score in the this iteration = 0.8148\n",
      "[1]\n",
      "This is number 3 generation\n",
      "Best Accuracy score in the this iteration = 0.8148\n",
      "[2]\n",
      "This is number 4 generation\n",
      "Best Accuracy score in the this iteration = 0.8148\n",
      "[4]\n",
      "This is number 5 generation\n",
      "Best Accuracy score in the this iteration = 0.8148\n",
      "[1]\n",
      "This is number 6 generation\n",
      "Best Accuracy score in the this iteration = 0.8148\n",
      "[2]\n",
      "This is number 7 generation\n",
      "Best Accuracy score in the this iteration = 0.8148\n",
      "[4]\n",
      "This is number 8 generation\n",
      "Best Accuracy score in the this iteration = 0.8148\n",
      "[1]\n",
      "This is number 9 generation\n",
      "Best Accuracy score in the this iteration = 0.8148\n",
      "[3]\n",
      "This is number 10 generation\n",
      "Best Accuracy score in the this iteration = 0.8148\n",
      "[0]\n",
      "This is number 11 generation\n",
      "Best Accuracy score in the this iteration = 0.8148\n",
      "[0]\n",
      "This is number 12 generation\n",
      "Best Accuracy score in the this iteration = 0.8519\n",
      "[3]\n",
      "This is number 13 generation\n",
      "Best Accuracy score in the this iteration = 0.8519\n",
      "[6]\n",
      "This is number 14 generation\n",
      "Best Accuracy score in the this iteration = 0.8519\n",
      "[4]\n",
      "This is number 15 generation\n",
      "Best Accuracy score in the this iteration = 0.8519\n",
      "[3]\n",
      "This is number 16 generation\n",
      "Best Accuracy score in the this iteration = 0.8519\n",
      "[3]\n",
      "This is number 17 generation\n",
      "Best Accuracy score in the this iteration = 0.8519\n",
      "[4]\n",
      "This is number 18 generation\n",
      "Best Accuracy score in the this iteration = 0.8519\n",
      "[4]\n",
      "This is number 19 generation\n",
      "Best Accuracy score in the this iteration = 0.8519\n",
      "[3]\n",
      "This is number 20 generation\n",
      "Best Accuracy score in the this iteration = 0.8519\n",
      "[2]\n",
      "This is number 21 generation\n",
      "Best Accuracy score in the this iteration = 0.8519\n",
      "[3]\n",
      "This is number 22 generation\n",
      "Best Accuracy score in the this iteration = 0.8519\n",
      "[0]\n",
      "This is number 23 generation\n",
      "Best Accuracy score in the this iteration = 0.8519\n",
      "[0]\n",
      "This is number 24 generation\n",
      "Best Accuracy score in the this iteration = 0.8519\n",
      "[5]\n",
      "This is number 25 generation\n",
      "Best Accuracy score in the this iteration = 0.8519\n",
      "[5]\n",
      "This is number 26 generation\n",
      "Best Accuracy score in the this iteration = 0.8519\n",
      "[5]\n",
      "This is number 27 generation\n",
      "Best Accuracy score in the this iteration = 0.8519\n",
      "[2]\n",
      "This is number 28 generation\n",
      "Best Accuracy score in the this iteration = 0.8519\n",
      "[3]\n",
      "This is number 29 generation\n",
      "Best Accuracy score in the this iteration = 0.8519\n",
      "[0]\n",
      "This is number 30 generation\n",
      "Best Accuracy score in the this iteration = 0.8519\n",
      "[1]\n",
      "This is number 31 generation\n",
      "Best Accuracy score in the this iteration = 0.8519\n",
      "[3]\n",
      "This is number 32 generation\n",
      "Best Accuracy score in the this iteration = 0.8519\n",
      "[1]\n",
      "This is number 33 generation\n",
      "Best Accuracy score in the this iteration = 0.8519\n",
      "[3]\n",
      "This is number 34 generation\n",
      "Best Accuracy score in the this iteration = 0.8519\n",
      "[0]\n",
      "This is number 35 generation\n",
      "Best Accuracy score in the this iteration = 0.8519\n",
      "[6]\n",
      "This is number 36 generation\n",
      "Best Accuracy score in the this iteration = 0.8519\n",
      "[2]\n",
      "This is number 37 generation\n",
      "Best Accuracy score in the this iteration = 0.8519\n",
      "[1]\n",
      "This is number 38 generation\n",
      "Best Accuracy score in the this iteration = 0.8519\n",
      "[5]\n",
      "This is number 39 generation\n",
      "Best Accuracy score in the this iteration = 0.8519\n",
      "[4]\n",
      "This is number 40 generation\n",
      "Best Accuracy score in the this iteration = 0.8519\n",
      "[2]\n",
      "This is number 41 generation\n",
      "Best Accuracy score in the this iteration = 0.8519\n",
      "[5]\n",
      "This is number 42 generation\n",
      "Best Accuracy score in the this iteration = 0.8519\n",
      "[6]\n",
      "This is number 43 generation\n",
      "Best Accuracy score in the this iteration = 0.8519\n",
      "[4]\n",
      "This is number 44 generation\n",
      "Best Accuracy score in the this iteration = 0.8519\n",
      "[4]\n",
      "This is number 45 generation\n",
      "Best Accuracy score in the this iteration = 0.8519\n",
      "[2]\n",
      "This is number 46 generation\n",
      "Best Accuracy score in the this iteration = 0.8519\n",
      "[2]\n",
      "This is number 47 generation\n",
      "Best Accuracy score in the this iteration = 0.8519\n",
      "[6]\n",
      "This is number 48 generation\n",
      "Best Accuracy score in the this iteration = 0.8519\n",
      "[4]\n",
      "This is number 49 generation\n",
      "Best Accuracy score in the this iteration = 0.8519\n",
      "[0]\n",
      "Best fitness is = 0.8519\n",
      "Best parameters are:\n",
      "learning_rate 0.61\n",
      "n_estimators 29.0\n",
      "max_depth 5\n",
      "min_child_weight 1.27\n",
      "gamma 1.78\n",
      "subsample 0.49\n",
      "colsample_bytree 0.49\n"
     ]
    }
   ],
   "source": [
    "xgDMatrix = xgb.DMatrix(X_train, y_train) \n",
    "xgbDMatrixTest = xgb.DMatrix(X_test, y_test)\n",
    "\n",
    "numberOfParents = 100 \n",
    "numberOfParentsMating = int(numberOfParents/2)\n",
    "numberOfParameters = 7 \n",
    "numberOfGenerations = 50\n",
    "\n",
    "populationSize = (numberOfParents, numberOfParameters)\n",
    "population = initilialize_poplulation(numberOfParents)\n",
    "\n",
    "fitnessHistory = np.empty([numberOfGenerations+1, numberOfParents])\n",
    "populationHistory = np.empty([(numberOfGenerations+1)*numberOfParents, numberOfParameters])\n",
    "populationHistory[0:numberOfParents, :] = population\n",
    "\n",
    "for generation in range(numberOfGenerations):\n",
    "    print(\"This is number %s generation\" % (generation))\n",
    "    \n",
    "    fitnessValue = train_population(population=population, dMatrixTrain=xgDMatrix, dMatrixtest=xgbDMatrixTest, y_test=y_test)\n",
    "    fitnessHistory[generation, :] = fitnessValue\n",
    "    \n",
    "    print('Best Accuracy score in the this iteration = {}'.format(np.max(fitnessHistory[generation, :])))\n",
    "\n",
    "    parents = new_parents_selection(population=population, fitness=fitnessValue, numParents=numberOfParentsMating)\n",
    "    children = crossover_uniform(parents=parents, childrenSize=(populationSize[0] - parents.shape[0], numberOfParameters))\n",
    "    children_mutated = mutation(children, numberOfParameters)\n",
    "\n",
    "    population[0:parents.shape[0], :] = parents \n",
    "    population[parents.shape[0]:, :] = children_mutated \n",
    "    \n",
    "    populationHistory[(generation+1)*numberOfParents : (generation+1)*numberOfParents+ numberOfParents , :] = population \n",
    "    \n",
    "fitness = train_population(population=population, dMatrixTrain=xgDMatrix, dMatrixtest=xgbDMatrixTest, y_test=y_test)\n",
    "fitnessHistory[generation+1, :] = fitness\n",
    "\n",
    "bestFitnessIndex = np.where(fitness == np.max(fitness))[0][0]\n",
    "\n",
    "print(\"Best fitness is =\", fitness[bestFitnessIndex])\n",
    "\n",
    "\n",
    "print(\"Best parameters are:\")\n",
    "print('learning_rate', population[bestFitnessIndex][0])\n",
    "print('n_estimators', population[bestFitnessIndex][1])\n",
    "print('max_depth', int(population[bestFitnessIndex][2])) \n",
    "print('min_child_weight', population[bestFitnessIndex][3])\n",
    "print('gamma', population[bestFitnessIndex][4])\n",
    "print('subsample', population[bestFitnessIndex][5])\n",
    "print('colsample_bytree', population[bestFitnessIndex][6])"
   ]
  },
  {
   "cell_type": "code",
   "execution_count": 12,
   "id": "7ce4af5b",
   "metadata": {
    "executionInfo": {
     "elapsed": 326,
     "status": "aborted",
     "timestamp": 1646753921296,
     "user": {
      "displayName": "Martin Michaux",
      "photoUrl": "https://lh3.googleusercontent.com/a-/AOh14GhP3cUk0MMaDhXGamrCKivoGAPHtiuN7cw--cP59g=s64",
      "userId": "05980751655666536919"
     },
     "user_tz": -60
    },
    "id": "7ce4af5b"
   },
   "outputs": [
    {
     "name": "stdout",
     "output_type": "stream",
     "text": [
      "Accuracy: 0.7777777777777778\n",
      "              precision    recall  f1-score   support\n",
      "\n",
      "           0       0.78      0.64      0.70        11\n",
      "           1       0.78      0.88      0.82        16\n",
      "\n",
      "    accuracy                           0.78        27\n",
      "   macro avg       0.78      0.76      0.76        27\n",
      "weighted avg       0.78      0.78      0.77        27\n",
      "\n"
     ]
    }
   ],
   "source": [
    "#Optimizing Model\n",
    "\n",
    "clf = xgb.XGBClassifier(learning_rate = 0.61, n_estimators = 29, max_depth = 5, min_child_weight = 1.27, gamma = 1.78, subsample = 0.49, colsample_bytree = 0.49, seed = 24,eval_metric='mlogloss',use_label_encoder =False)\n",
    "clf.fit(X_train, y_train)\n",
    "y_predicted = clf.predict(X_test)\n",
    "\n",
    "print(\"Accuracy:\", accuracy_score(y_test, y_predicted))\n",
    "print(classification_report(y_test, y_predicted))"
   ]
  },
  {
   "cell_type": "code",
   "execution_count": null,
   "id": "ab022a91",
   "metadata": {
    "executionInfo": {
     "elapsed": 326,
     "status": "aborted",
     "timestamp": 1646753921296,
     "user": {
      "displayName": "Martin Michaux",
      "photoUrl": "https://lh3.googleusercontent.com/a-/AOh14GhP3cUk0MMaDhXGamrCKivoGAPHtiuN7cw--cP59g=s64",
      "userId": "05980751655666536919"
     },
     "user_tz": -60
    },
    "id": "ab022a91"
   },
   "outputs": [],
   "source": [
    "#Feature Importance through Shapley Additive Explanations\n",
    "import shap\n",
    "\n",
    "explainer = shap.Explainer(clf)\n",
    "shap_values = explainer(X)\n",
    "print(shap_values)\n",
    "shap.plots.bar(shap_values)\n",
    "plt.show()"
   ]
  },
  {
   "cell_type": "code",
   "execution_count": null,
   "id": "e69b17d1",
   "metadata": {
    "executionInfo": {
     "elapsed": 327,
     "status": "aborted",
     "timestamp": 1646753921297,
     "user": {
      "displayName": "Martin Michaux",
      "photoUrl": "https://lh3.googleusercontent.com/a-/AOh14GhP3cUk0MMaDhXGamrCKivoGAPHtiuN7cw--cP59g=s64",
      "userId": "05980751655666536919"
     },
     "user_tz": -60
    },
    "id": "e69b17d1"
   },
   "outputs": [],
   "source": []
  }
 ],
 "metadata": {
  "colab": {
   "collapsed_sections": [],
   "name": "Untitled.ipynb",
   "provenance": []
  },
  "kernelspec": {
   "display_name": "Python 3",
   "language": "python",
   "name": "python3"
  },
  "language_info": {
   "codemirror_mode": {
    "name": "ipython",
    "version": 3
   },
   "file_extension": ".py",
   "mimetype": "text/x-python",
   "name": "python",
   "nbconvert_exporter": "python",
   "pygments_lexer": "ipython3",
   "version": "3.8.8"
  }
 },
 "nbformat": 4,
 "nbformat_minor": 5
}
